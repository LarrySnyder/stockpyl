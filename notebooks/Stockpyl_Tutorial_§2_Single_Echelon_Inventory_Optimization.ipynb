{
  "nbformat": 4,
  "nbformat_minor": 0,
  "metadata": {
    "colab": {
      "provenance": [],
      "authorship_tag": "ABX9TyOK5C0ojZU1nB431EPGQ7cX",
      "include_colab_link": true
    },
    "kernelspec": {
      "name": "python3",
      "display_name": "Python 3"
    },
    "language_info": {
      "name": "python"
    }
  },
  "cells": [
    {
      "cell_type": "markdown",
      "metadata": {
        "id": "view-in-github",
        "colab_type": "text"
      },
      "source": [
        "<a href=\"https://colab.research.google.com/github/LarrySnyder/stockpyl/blob/master/notebooks/Stockpyl_Tutorial_%C2%A72_Single_Echelon_Inventory_Optimization.ipynb\" target=\"_parent\"><img src=\"https://colab.research.google.com/assets/colab-badge.svg\" alt=\"Open In Colab\"/></a>"
      ]
    },
    {
      "cell_type": "markdown",
      "source": [
        "Stockpyl Tutorial\n",
        "=================\n",
        "\n",
        "(This notebook is a companion to Snyder, L. V., \"[Stockpyl: A Python Package for Inventory Optimization and Simulation](https://pubsonline.informs.org/doi/10.1287/educ.2023.0256),\" in: Bish, E. K. and H. Balasubramanian, _INFORMS TutORials in Operations Research_, 156–197, 2023.)\n",
        "\n"
      ],
      "metadata": {
        "id": "det0HwZhTR0n"
      }
    },
    {
      "cell_type": "markdown",
      "source": [
        "# Section 2: Single-Echelon Inventory Optimization\n",
        "\n",
        "Stockpyl contains code to solve the following types of single-echelon inventory optimization problems:\n",
        "\n",
        "* The economic order quantity (EOQ) problem (Section 2.1)\n",
        "* The newsvendor problem (Section 2.2)\n",
        "* The $(r,Q)$ and $(s,S)$ optimization problems (Sections 2.3 and 2.4)\n",
        "* The Wagner--Whitin problem (Section 2.6)\n",
        "* Finite-horizon stochastic problems with or without fixed costs (Section 2.7)\n",
        "* Plus a number of single-echelon problems with supply uncertainty (see Section 3)\n"
      ],
      "metadata": {
        "id": "jyAuLSd2gDjr"
      }
    },
    {
      "cell_type": "markdown",
      "source": [
        "First, install the package:"
      ],
      "metadata": {
        "id": "3kwwXWHgwnYo"
      }
    },
    {
      "cell_type": "code",
      "source": [
        "!pip install stockpyl"
      ],
      "metadata": {
        "id": "HkrEPNHgwpDP",
        "colab": {
          "base_uri": "https://localhost:8080/",
          "height": 1000
        },
        "outputId": "cfe6b3f9-9aa5-4c31-b9f8-a57a73785402"
      },
      "execution_count": 1,
      "outputs": [
        {
          "output_type": "stream",
          "name": "stdout",
          "text": [
            "Collecting stockpyl\n",
            "  Downloading stockpyl-0.0.14-py3-none-any.whl (146 kB)\n",
            "\u001b[?25l     \u001b[90m━━━━━━━━━━━━━━━━━━━━━━━━━━━━━━━━━━━━━━━━\u001b[0m \u001b[32m0.0/146.3 kB\u001b[0m \u001b[31m?\u001b[0m eta \u001b[36m-:--:--\u001b[0m\r\u001b[2K     \u001b[91m━━━━━━━━━━━━━━━━━━━━━━━━━━━━━━━━━\u001b[0m\u001b[91m╸\u001b[0m\u001b[90m━━━━━━\u001b[0m \u001b[32m122.9/146.3 kB\u001b[0m \u001b[31m3.6 MB/s\u001b[0m eta \u001b[36m0:00:01\u001b[0m\r\u001b[2K     \u001b[90m━━━━━━━━━━━━━━━━━━━━━━━━━━━━━━━━━━━━━━━━\u001b[0m \u001b[32m146.3/146.3 kB\u001b[0m \u001b[31m3.3 MB/s\u001b[0m eta \u001b[36m0:00:00\u001b[0m\n",
            "\u001b[?25hRequirement already satisfied: build>=0.0.2 in /usr/local/lib/python3.10/dist-packages (from stockpyl) (1.0.3)\n",
            "Requirement already satisfied: jsonpickle>=1.0 in /usr/local/lib/python3.10/dist-packages (from stockpyl) (3.0.2)\n",
            "Requirement already satisfied: matplotlib>=2.0 in /usr/local/lib/python3.10/dist-packages (from stockpyl) (3.7.1)\n",
            "Requirement already satisfied: networkx>=2.0 in /usr/local/lib/python3.10/dist-packages (from stockpyl) (3.2)\n",
            "Requirement already satisfied: numpy>=1.21 in /usr/local/lib/python3.10/dist-packages (from stockpyl) (1.23.5)\n",
            "Requirement already satisfied: scipy>=1.6.0 in /usr/local/lib/python3.10/dist-packages (from stockpyl) (1.11.3)\n",
            "Requirement already satisfied: setuptools>=49.6 in /usr/local/lib/python3.10/dist-packages (from stockpyl) (67.7.2)\n",
            "Collecting sphinx==4.5.0 (from stockpyl)\n",
            "  Downloading Sphinx-4.5.0-py3-none-any.whl (3.1 MB)\n",
            "\u001b[2K     \u001b[90m━━━━━━━━━━━━━━━━━━━━━━━━━━━━━━━━━━━━━━━━\u001b[0m \u001b[32m3.1/3.1 MB\u001b[0m \u001b[31m13.4 MB/s\u001b[0m eta \u001b[36m0:00:00\u001b[0m\n",
            "\u001b[?25hCollecting sphinx-rtd-theme>=1.0.0 (from stockpyl)\n",
            "  Downloading sphinx_rtd_theme-1.3.0-py2.py3-none-any.whl (2.8 MB)\n",
            "\u001b[2K     \u001b[90m━━━━━━━━━━━━━━━━━━━━━━━━━━━━━━━━━━━━━━━━\u001b[0m \u001b[32m2.8/2.8 MB\u001b[0m \u001b[31m23.4 MB/s\u001b[0m eta \u001b[36m0:00:00\u001b[0m\n",
            "\u001b[?25hCollecting sphinx-toolbox>=3.1.2 (from stockpyl)\n",
            "  Downloading sphinx_toolbox-3.5.0-py3-none-any.whl (526 kB)\n",
            "\u001b[2K     \u001b[90m━━━━━━━━━━━━━━━━━━━━━━━━━━━━━━━━━━━━━━━━\u001b[0m \u001b[32m526.4/526.4 kB\u001b[0m \u001b[31m24.1 MB/s\u001b[0m eta \u001b[36m0:00:00\u001b[0m\n",
            "\u001b[?25hRequirement already satisfied: tabulate>=0.8.7 in /usr/local/lib/python3.10/dist-packages (from stockpyl) (0.9.0)\n",
            "Requirement already satisfied: tqdm>=4.1.0 in /usr/local/lib/python3.10/dist-packages (from stockpyl) (4.66.1)\n",
            "Requirement already satisfied: sphinxcontrib-applehelp in /usr/local/lib/python3.10/dist-packages (from sphinx==4.5.0->stockpyl) (1.0.7)\n",
            "Requirement already satisfied: sphinxcontrib-devhelp in /usr/local/lib/python3.10/dist-packages (from sphinx==4.5.0->stockpyl) (1.0.5)\n",
            "Requirement already satisfied: sphinxcontrib-jsmath in /usr/local/lib/python3.10/dist-packages (from sphinx==4.5.0->stockpyl) (1.0.1)\n",
            "Requirement already satisfied: sphinxcontrib-htmlhelp>=2.0.0 in /usr/local/lib/python3.10/dist-packages (from sphinx==4.5.0->stockpyl) (2.0.4)\n",
            "Requirement already satisfied: sphinxcontrib-serializinghtml>=1.1.5 in /usr/local/lib/python3.10/dist-packages (from sphinx==4.5.0->stockpyl) (1.1.9)\n",
            "Requirement already satisfied: sphinxcontrib-qthelp in /usr/local/lib/python3.10/dist-packages (from sphinx==4.5.0->stockpyl) (1.0.6)\n",
            "Requirement already satisfied: Jinja2>=2.3 in /usr/local/lib/python3.10/dist-packages (from sphinx==4.5.0->stockpyl) (3.1.2)\n",
            "Requirement already satisfied: Pygments>=2.0 in /usr/local/lib/python3.10/dist-packages (from sphinx==4.5.0->stockpyl) (2.16.1)\n",
            "Collecting docutils<0.18,>=0.14 (from sphinx==4.5.0->stockpyl)\n",
            "  Downloading docutils-0.17.1-py2.py3-none-any.whl (575 kB)\n",
            "\u001b[2K     \u001b[90m━━━━━━━━━━━━━━━━━━━━━━━━━━━━━━━━━━━━━━━━\u001b[0m \u001b[32m575.5/575.5 kB\u001b[0m \u001b[31m22.6 MB/s\u001b[0m eta \u001b[36m0:00:00\u001b[0m\n",
            "\u001b[?25hRequirement already satisfied: snowballstemmer>=1.1 in /usr/local/lib/python3.10/dist-packages (from sphinx==4.5.0->stockpyl) (2.2.0)\n",
            "Requirement already satisfied: babel>=1.3 in /usr/local/lib/python3.10/dist-packages (from sphinx==4.5.0->stockpyl) (2.13.1)\n",
            "Requirement already satisfied: alabaster<0.8,>=0.7 in /usr/local/lib/python3.10/dist-packages (from sphinx==4.5.0->stockpyl) (0.7.13)\n",
            "Requirement already satisfied: imagesize in /usr/local/lib/python3.10/dist-packages (from sphinx==4.5.0->stockpyl) (1.4.1)\n",
            "Requirement already satisfied: requests>=2.5.0 in /usr/local/lib/python3.10/dist-packages (from sphinx==4.5.0->stockpyl) (2.31.0)\n",
            "Requirement already satisfied: packaging in /usr/local/lib/python3.10/dist-packages (from sphinx==4.5.0->stockpyl) (23.2)\n",
            "Requirement already satisfied: pyproject_hooks in /usr/local/lib/python3.10/dist-packages (from build>=0.0.2->stockpyl) (1.0.0)\n",
            "Requirement already satisfied: tomli>=1.1.0 in /usr/local/lib/python3.10/dist-packages (from build>=0.0.2->stockpyl) (2.0.1)\n",
            "Requirement already satisfied: contourpy>=1.0.1 in /usr/local/lib/python3.10/dist-packages (from matplotlib>=2.0->stockpyl) (1.1.1)\n",
            "Requirement already satisfied: cycler>=0.10 in /usr/local/lib/python3.10/dist-packages (from matplotlib>=2.0->stockpyl) (0.12.1)\n",
            "Requirement already satisfied: fonttools>=4.22.0 in /usr/local/lib/python3.10/dist-packages (from matplotlib>=2.0->stockpyl) (4.43.1)\n",
            "Requirement already satisfied: kiwisolver>=1.0.1 in /usr/local/lib/python3.10/dist-packages (from matplotlib>=2.0->stockpyl) (1.4.5)\n",
            "Requirement already satisfied: pillow>=6.2.0 in /usr/local/lib/python3.10/dist-packages (from matplotlib>=2.0->stockpyl) (9.4.0)\n",
            "Requirement already satisfied: pyparsing>=2.3.1 in /usr/local/lib/python3.10/dist-packages (from matplotlib>=2.0->stockpyl) (3.1.1)\n",
            "Requirement already satisfied: python-dateutil>=2.7 in /usr/local/lib/python3.10/dist-packages (from matplotlib>=2.0->stockpyl) (2.8.2)\n",
            "Collecting sphinxcontrib-jquery<5,>=4 (from sphinx-rtd-theme>=1.0.0->stockpyl)\n",
            "  Downloading sphinxcontrib_jquery-4.1-py2.py3-none-any.whl (121 kB)\n",
            "\u001b[2K     \u001b[90m━━━━━━━━━━━━━━━━━━━━━━━━━━━━━━━━━━━━━━━━\u001b[0m \u001b[32m121.1/121.1 kB\u001b[0m \u001b[31m12.7 MB/s\u001b[0m eta \u001b[36m0:00:00\u001b[0m\n",
            "\u001b[?25hCollecting apeye>=0.4.0 (from sphinx-toolbox>=3.1.2->stockpyl)\n",
            "  Downloading apeye-1.4.1-py3-none-any.whl (107 kB)\n",
            "\u001b[2K     \u001b[90m━━━━━━━━━━━━━━━━━━━━━━━━━━━━━━━━━━━━━━━━\u001b[0m \u001b[32m108.0/108.0 kB\u001b[0m \u001b[31m10.8 MB/s\u001b[0m eta \u001b[36m0:00:00\u001b[0m\n",
            "\u001b[?25hCollecting autodocsumm>=0.2.0 (from sphinx-toolbox>=3.1.2->stockpyl)\n",
            "  Downloading autodocsumm-0.2.11-py3-none-any.whl (14 kB)\n",
            "Requirement already satisfied: beautifulsoup4>=4.9.1 in /usr/local/lib/python3.10/dist-packages (from sphinx-toolbox>=3.1.2->stockpyl) (4.11.2)\n",
            "Requirement already satisfied: cachecontrol[filecache]>=0.13.0 in /usr/local/lib/python3.10/dist-packages (from sphinx-toolbox>=3.1.2->stockpyl) (0.13.1)\n",
            "Collecting dict2css>=0.2.3 (from sphinx-toolbox>=3.1.2->stockpyl)\n",
            "  Downloading dict2css-0.3.0-py3-none-any.whl (25 kB)\n",
            "Collecting domdf-python-tools>=2.9.0 (from sphinx-toolbox>=3.1.2->stockpyl)\n",
            "  Downloading domdf_python_tools-3.7.0-py3-none-any.whl (127 kB)\n",
            "\u001b[2K     \u001b[90m━━━━━━━━━━━━━━━━━━━━━━━━━━━━━━━━━━━━━━━━\u001b[0m \u001b[32m127.1/127.1 kB\u001b[0m \u001b[31m15.5 MB/s\u001b[0m eta \u001b[36m0:00:00\u001b[0m\n",
            "\u001b[?25hRequirement already satisfied: filelock>=3.8.0 in /usr/local/lib/python3.10/dist-packages (from sphinx-toolbox>=3.1.2->stockpyl) (3.12.4)\n",
            "Requirement already satisfied: html5lib>=1.1 in /usr/local/lib/python3.10/dist-packages (from sphinx-toolbox>=3.1.2->stockpyl) (1.1)\n",
            "Collecting ruamel.yaml>=0.16.12 (from sphinx-toolbox>=3.1.2->stockpyl)\n",
            "  Downloading ruamel.yaml-0.18.3-py3-none-any.whl (114 kB)\n",
            "\u001b[2K     \u001b[90m━━━━━━━━━━━━━━━━━━━━━━━━━━━━━━━━━━━━━━━━\u001b[0m \u001b[32m114.7/114.7 kB\u001b[0m \u001b[31m13.3 MB/s\u001b[0m eta \u001b[36m0:00:00\u001b[0m\n",
            "\u001b[?25hCollecting sphinx-autodoc-typehints>=1.11.1 (from sphinx-toolbox>=3.1.2->stockpyl)\n",
            "  Downloading sphinx_autodoc_typehints-1.24.0-py3-none-any.whl (17 kB)\n",
            "Collecting sphinx-jinja2-compat>=0.1.0 (from sphinx-toolbox>=3.1.2->stockpyl)\n",
            "  Downloading sphinx_jinja2_compat-0.2.0-py3-none-any.whl (17 kB)\n",
            "Collecting sphinx-prompt>=1.1.0 (from sphinx-toolbox>=3.1.2->stockpyl)\n",
            "  Downloading sphinx_prompt-1.8.0-py3-none-any.whl (7.3 kB)\n",
            "Collecting sphinx-tabs<3.5.0,>=1.2.1 (from sphinx-toolbox>=3.1.2->stockpyl)\n",
            "  Downloading sphinx_tabs-3.4.4-py3-none-any.whl (9.9 kB)\n",
            "Requirement already satisfied: typing-extensions!=3.10.0.1,>=3.7.4.3 in /usr/local/lib/python3.10/dist-packages (from sphinx-toolbox>=3.1.2->stockpyl) (4.5.0)\n",
            "Collecting apeye-core>=1.0.0b2 (from apeye>=0.4.0->sphinx-toolbox>=3.1.2->stockpyl)\n",
            "  Downloading apeye_core-1.1.4-py3-none-any.whl (99 kB)\n",
            "\u001b[2K     \u001b[90m━━━━━━━━━━━━━━━━━━━━━━━━━━━━━━━━━━━━━━━━\u001b[0m \u001b[32m99.3/99.3 kB\u001b[0m \u001b[31m9.9 MB/s\u001b[0m eta \u001b[36m0:00:00\u001b[0m\n",
            "\u001b[?25hRequirement already satisfied: platformdirs>=2.3.0 in /usr/local/lib/python3.10/dist-packages (from apeye>=0.4.0->sphinx-toolbox>=3.1.2->stockpyl) (3.11.0)\n",
            "Requirement already satisfied: soupsieve>1.2 in /usr/local/lib/python3.10/dist-packages (from beautifulsoup4>=4.9.1->sphinx-toolbox>=3.1.2->stockpyl) (2.5)\n",
            "Requirement already satisfied: msgpack>=0.5.2 in /usr/local/lib/python3.10/dist-packages (from cachecontrol[filecache]>=0.13.0->sphinx-toolbox>=3.1.2->stockpyl) (1.0.7)\n",
            "Collecting cssutils>=2.2.0 (from dict2css>=0.2.3->sphinx-toolbox>=3.1.2->stockpyl)\n",
            "  Downloading cssutils-2.9.0-py3-none-any.whl (398 kB)\n",
            "\u001b[2K     \u001b[90m━━━━━━━━━━━━━━━━━━━━━━━━━━━━━━━━━━━━━━━━\u001b[0m \u001b[32m398.5/398.5 kB\u001b[0m \u001b[31m26.9 MB/s\u001b[0m eta \u001b[36m0:00:00\u001b[0m\n",
            "\u001b[?25hRequirement already satisfied: natsort>=7.0.1 in /usr/local/lib/python3.10/dist-packages (from domdf-python-tools>=2.9.0->sphinx-toolbox>=3.1.2->stockpyl) (8.4.0)\n",
            "Requirement already satisfied: six>=1.9 in /usr/local/lib/python3.10/dist-packages (from html5lib>=1.1->sphinx-toolbox>=3.1.2->stockpyl) (1.16.0)\n",
            "Requirement already satisfied: webencodings in /usr/local/lib/python3.10/dist-packages (from html5lib>=1.1->sphinx-toolbox>=3.1.2->stockpyl) (0.5.1)\n",
            "Requirement already satisfied: MarkupSafe>=2.0 in /usr/local/lib/python3.10/dist-packages (from Jinja2>=2.3->sphinx==4.5.0->stockpyl) (2.1.3)\n",
            "Requirement already satisfied: charset-normalizer<4,>=2 in /usr/local/lib/python3.10/dist-packages (from requests>=2.5.0->sphinx==4.5.0->stockpyl) (3.3.1)\n",
            "Requirement already satisfied: idna<4,>=2.5 in /usr/local/lib/python3.10/dist-packages (from requests>=2.5.0->sphinx==4.5.0->stockpyl) (3.4)\n",
            "Requirement already satisfied: urllib3<3,>=1.21.1 in /usr/local/lib/python3.10/dist-packages (from requests>=2.5.0->sphinx==4.5.0->stockpyl) (2.0.7)\n",
            "Requirement already satisfied: certifi>=2017.4.17 in /usr/local/lib/python3.10/dist-packages (from requests>=2.5.0->sphinx==4.5.0->stockpyl) (2023.7.22)\n",
            "Collecting ruamel.yaml.clib>=0.2.7 (from ruamel.yaml>=0.16.12->sphinx-toolbox>=3.1.2->stockpyl)\n",
            "  Downloading ruamel.yaml.clib-0.2.8-cp310-cp310-manylinux_2_17_x86_64.manylinux2014_x86_64.manylinux_2_24_x86_64.whl (526 kB)\n",
            "\u001b[2K     \u001b[90m━━━━━━━━━━━━━━━━━━━━━━━━━━━━━━━━━━━━━━━━\u001b[0m \u001b[32m526.7/526.7 kB\u001b[0m \u001b[31m34.4 MB/s\u001b[0m eta \u001b[36m0:00:00\u001b[0m\n",
            "\u001b[?25hINFO: pip is looking at multiple versions of sphinx-autodoc-typehints to determine which version is compatible with other requirements. This could take a while.\n",
            "Collecting sphinx-autodoc-typehints>=1.11.1 (from sphinx-toolbox>=3.1.2->stockpyl)\n",
            "  Downloading sphinx_autodoc_typehints-1.23.3-py3-none-any.whl (18 kB)\n",
            "  Downloading sphinx_autodoc_typehints-1.23.2-py3-none-any.whl (18 kB)\n",
            "  Downloading sphinx_autodoc_typehints-1.23.1-py3-none-any.whl (18 kB)\n",
            "  Downloading sphinx_autodoc_typehints-1.23.0-py3-none-any.whl (17 kB)\n",
            "  Downloading sphinx_autodoc_typehints-1.22-py3-none-any.whl (17 kB)\n",
            "  Downloading sphinx_autodoc_typehints-1.21.8-py3-none-any.whl (17 kB)\n",
            "  Downloading sphinx_autodoc_typehints-1.21.7-py3-none-any.whl (16 kB)\n",
            "INFO: pip is looking at multiple versions of sphinx-autodoc-typehints to determine which version is compatible with other requirements. This could take a while.\n",
            "  Downloading sphinx_autodoc_typehints-1.21.6-py3-none-any.whl (16 kB)\n",
            "  Downloading sphinx_autodoc_typehints-1.21.5-py3-none-any.whl (16 kB)\n",
            "  Downloading sphinx_autodoc_typehints-1.21.4-py3-none-any.whl (16 kB)\n",
            "  Downloading sphinx_autodoc_typehints-1.21.3-py3-none-any.whl (15 kB)\n",
            "  Downloading sphinx_autodoc_typehints-1.21.2-py3-none-any.whl (13 kB)\n",
            "INFO: This is taking longer than usual. You might need to provide the dependency resolver with stricter constraints to reduce runtime. See https://pip.pypa.io/warnings/backtracking for guidance. If you want to abort this run, press Ctrl + C.\n",
            "  Downloading sphinx_autodoc_typehints-1.21.1-py3-none-any.whl (13 kB)\n",
            "  Downloading sphinx_autodoc_typehints-1.21.0-py3-none-any.whl (13 kB)\n",
            "  Downloading sphinx_autodoc_typehints-1.20.2-py3-none-any.whl (12 kB)\n",
            "  Downloading sphinx_autodoc_typehints-1.20.1-py3-none-any.whl (12 kB)\n",
            "  Downloading sphinx_autodoc_typehints-1.20.0-py3-none-any.whl (12 kB)\n",
            "  Downloading sphinx_autodoc_typehints-1.19.5-py3-none-any.whl (12 kB)\n",
            "  Downloading sphinx_autodoc_typehints-1.19.4-py3-none-any.whl (12 kB)\n",
            "  Downloading sphinx_autodoc_typehints-1.19.3-py3-none-any.whl (12 kB)\n",
            "  Downloading sphinx_autodoc_typehints-1.19.2-py3-none-any.whl (12 kB)\n",
            "  Downloading sphinx_autodoc_typehints-1.19.1-py3-none-any.whl (12 kB)\n",
            "INFO: pip is looking at multiple versions of sphinx-prompt to determine which version is compatible with other requirements. This could take a while.\n",
            "Collecting sphinx-prompt>=1.1.0 (from sphinx-toolbox>=3.1.2->stockpyl)\n",
            "  Downloading sphinx_prompt-1.7.0-py3-none-any.whl (5.2 kB)\n",
            "  Downloading sphinx_prompt-1.6.0-py3-none-any.whl (5.2 kB)\n",
            "  Downloading sphinx_prompt-1.5.0-py3-none-any.whl (4.5 kB)\n",
            "INFO: pip is looking at multiple versions of sphinx-tabs to determine which version is compatible with other requirements. This could take a while.\n",
            "Collecting sphinx-tabs<3.5.0,>=1.2.1 (from sphinx-toolbox>=3.1.2->stockpyl)\n",
            "  Downloading sphinx_tabs-3.4.1-py3-none-any.whl (10.0 kB)\n",
            "  Downloading sphinx_tabs-3.4.0-py3-none-any.whl (10.0 kB)\n",
            "Collecting Jinja2>=2.3 (from sphinx==4.5.0->stockpyl)\n",
            "  Downloading Jinja2-3.0.3-py3-none-any.whl (133 kB)\n",
            "\u001b[2K     \u001b[90m━━━━━━━━━━━━━━━━━━━━━━━━━━━━━━━━━━━━━━━━\u001b[0m \u001b[32m133.6/133.6 kB\u001b[0m \u001b[31m14.2 MB/s\u001b[0m eta \u001b[36m0:00:00\u001b[0m\n",
            "\u001b[?25hINFO: pip is looking at multiple versions of sphinxcontrib-htmlhelp to determine which version is compatible with other requirements. This could take a while.\n",
            "Collecting sphinxcontrib-htmlhelp>=2.0.0 (from sphinx==4.5.0->stockpyl)\n",
            "  Downloading sphinxcontrib_htmlhelp-2.0.3-py3-none-any.whl (99 kB)\n",
            "\u001b[2K     \u001b[90m━━━━━━━━━━━━━━━━━━━━━━━━━━━━━━━━━━━━━━━━\u001b[0m \u001b[32m99.2/99.2 kB\u001b[0m \u001b[31m11.7 MB/s\u001b[0m eta \u001b[36m0:00:00\u001b[0m\n",
            "\u001b[?25h  Downloading sphinxcontrib_htmlhelp-2.0.2-py3-none-any.whl (99 kB)\n",
            "\u001b[2K     \u001b[90m━━━━━━━━━━━━━━━━━━━━━━━━━━━━━━━━━━━━━━━━\u001b[0m \u001b[32m99.2/99.2 kB\u001b[0m \u001b[31m11.8 MB/s\u001b[0m eta \u001b[36m0:00:00\u001b[0m\n",
            "\u001b[?25h  Downloading sphinxcontrib_htmlhelp-2.0.1-py3-none-any.whl (99 kB)\n",
            "\u001b[2K     \u001b[90m━━━━━━━━━━━━━━━━━━━━━━━━━━━━━━━━━━━━━━━━\u001b[0m \u001b[32m99.8/99.8 kB\u001b[0m \u001b[31m12.4 MB/s\u001b[0m eta \u001b[36m0:00:00\u001b[0m\n",
            "\u001b[?25hINFO: pip is looking at multiple versions of sphinxcontrib-serializinghtml to determine which version is compatible with other requirements. This could take a while.\n",
            "Collecting sphinxcontrib-serializinghtml>=1.1.5 (from sphinx==4.5.0->stockpyl)\n",
            "  Downloading sphinxcontrib_serializinghtml-1.1.8-py3-none-any.whl (92 kB)\n",
            "\u001b[2K     \u001b[90m━━━━━━━━━━━━━━━━━━━━━━━━━━━━━━━━━━━━━━━━\u001b[0m \u001b[32m92.6/92.6 kB\u001b[0m \u001b[31m11.7 MB/s\u001b[0m eta \u001b[36m0:00:00\u001b[0m\n",
            "\u001b[?25h  Downloading sphinxcontrib_serializinghtml-1.1.7-py3-none-any.whl (92 kB)\n",
            "\u001b[2K     \u001b[90m━━━━━━━━━━━━━━━━━━━━━━━━━━━━━━━━━━━━━━━━\u001b[0m \u001b[32m92.6/92.6 kB\u001b[0m \u001b[31m11.3 MB/s\u001b[0m eta \u001b[36m0:00:00\u001b[0m\n",
            "\u001b[?25h  Downloading sphinxcontrib_serializinghtml-1.1.6-py3-none-any.whl (92 kB)\n",
            "\u001b[2K     \u001b[90m━━━━━━━━━━━━━━━━━━━━━━━━━━━━━━━━━━━━━━━━\u001b[0m \u001b[32m92.6/92.6 kB\u001b[0m \u001b[31m11.0 MB/s\u001b[0m eta \u001b[36m0:00:00\u001b[0m\n",
            "\u001b[?25h  Downloading sphinxcontrib_serializinghtml-1.1.5-py2.py3-none-any.whl (94 kB)\n",
            "\u001b[2K     \u001b[90m━━━━━━━━━━━━━━━━━━━━━━━━━━━━━━━━━━━━━━━━\u001b[0m \u001b[32m94.0/94.0 kB\u001b[0m \u001b[31m10.2 MB/s\u001b[0m eta \u001b[36m0:00:00\u001b[0m\n",
            "\u001b[?25hINFO: pip is looking at multiple versions of sphinxcontrib-applehelp to determine which version is compatible with other requirements. This could take a while.\n",
            "Collecting sphinxcontrib-applehelp (from sphinx==4.5.0->stockpyl)\n",
            "  Downloading sphinxcontrib_applehelp-1.0.6-py3-none-any.whl (120 kB)\n",
            "\u001b[2K     \u001b[90m━━━━━━━━━━━━━━━━━━━━━━━━━━━━━━━━━━━━━━━━\u001b[0m \u001b[32m120.0/120.0 kB\u001b[0m \u001b[31m14.1 MB/s\u001b[0m eta \u001b[36m0:00:00\u001b[0m\n",
            "\u001b[?25h  Downloading sphinxcontrib_applehelp-1.0.5-py3-none-any.whl (120 kB)\n",
            "\u001b[2K     \u001b[90m━━━━━━━━━━━━━━━━━━━━━━━━━━━━━━━━━━━━━━━━\u001b[0m \u001b[32m120.0/120.0 kB\u001b[0m \u001b[31m13.8 MB/s\u001b[0m eta \u001b[36m0:00:00\u001b[0m\n",
            "\u001b[?25h  Downloading sphinxcontrib_applehelp-1.0.4-py3-none-any.whl (120 kB)\n",
            "\u001b[2K     \u001b[90m━━━━━━━━━━━━━━━━━━━━━━━━━━━━━━━━━━━━━━━━\u001b[0m \u001b[32m120.6/120.6 kB\u001b[0m \u001b[31m15.0 MB/s\u001b[0m eta \u001b[36m0:00:00\u001b[0m\n",
            "\u001b[?25hINFO: pip is looking at multiple versions of sphinxcontrib-devhelp to determine which version is compatible with other requirements. This could take a while.\n",
            "Collecting sphinxcontrib-devhelp (from sphinx==4.5.0->stockpyl)\n",
            "  Downloading sphinxcontrib_devhelp-1.0.4-py3-none-any.whl (83 kB)\n",
            "\u001b[2K     \u001b[90m━━━━━━━━━━━━━━━━━━━━━━━━━━━━━━━━━━━━━━━━\u001b[0m \u001b[32m83.5/83.5 kB\u001b[0m \u001b[31m11.6 MB/s\u001b[0m eta \u001b[36m0:00:00\u001b[0m\n",
            "\u001b[?25h  Downloading sphinxcontrib_devhelp-1.0.3-py3-none-any.whl (83 kB)\n",
            "\u001b[2K     \u001b[90m━━━━━━━━━━━━━━━━━━━━━━━━━━━━━━━━━━━━━━━━\u001b[0m \u001b[32m83.5/83.5 kB\u001b[0m \u001b[31m9.5 MB/s\u001b[0m eta \u001b[36m0:00:00\u001b[0m\n",
            "\u001b[?25h  Downloading sphinxcontrib_devhelp-1.0.2-py2.py3-none-any.whl (84 kB)\n",
            "\u001b[2K     \u001b[90m━━━━━━━━━━━━━━━━━━━━━━━━━━━━━━━━━━━━━━━━\u001b[0m \u001b[32m84.7/84.7 kB\u001b[0m \u001b[31m8.3 MB/s\u001b[0m eta \u001b[36m0:00:00\u001b[0m\n",
            "\u001b[?25hINFO: pip is looking at multiple versions of sphinxcontrib-qthelp to determine which version is compatible with other requirements. This could take a while.\n",
            "Collecting sphinxcontrib-qthelp (from sphinx==4.5.0->stockpyl)\n",
            "  Downloading sphinxcontrib_qthelp-1.0.5-py3-none-any.whl (89 kB)\n",
            "\u001b[2K     \u001b[90m━━━━━━━━━━━━━━━━━━━━━━━━━━━━━━━━━━━━━━━━\u001b[0m \u001b[32m89.4/89.4 kB\u001b[0m \u001b[31m10.1 MB/s\u001b[0m eta \u001b[36m0:00:00\u001b[0m\n",
            "\u001b[?25h  Downloading sphinxcontrib_qthelp-1.0.4-py3-none-any.whl (89 kB)\n",
            "\u001b[2K     \u001b[90m━━━━━━━━━━━━━━━━━━━━━━━━━━━━━━━━━━━━━━━━\u001b[0m \u001b[32m89.4/89.4 kB\u001b[0m \u001b[31m10.1 MB/s\u001b[0m eta \u001b[36m0:00:00\u001b[0m\n",
            "\u001b[?25h  Downloading sphinxcontrib_qthelp-1.0.3-py2.py3-none-any.whl (90 kB)\n",
            "\u001b[2K     \u001b[90m━━━━━━━━━━━━━━━━━━━━━━━━━━━━━━━━━━━━━━━━\u001b[0m \u001b[32m90.6/90.6 kB\u001b[0m \u001b[31m10.6 MB/s\u001b[0m eta \u001b[36m0:00:00\u001b[0m\n",
            "\u001b[?25hInstalling collected packages: sphinxcontrib-serializinghtml, sphinxcontrib-qthelp, sphinxcontrib-htmlhelp, sphinxcontrib-devhelp, sphinxcontrib-applehelp, ruamel.yaml.clib, Jinja2, domdf-python-tools, docutils, cssutils, sphinx-jinja2-compat, sphinx, ruamel.yaml, dict2css, apeye-core, sphinxcontrib-jquery, sphinx-tabs, sphinx-prompt, sphinx-autodoc-typehints, autodocsumm, apeye, sphinx-toolbox, sphinx-rtd-theme, stockpyl\n",
            "  Attempting uninstall: sphinxcontrib-serializinghtml\n",
            "    Found existing installation: sphinxcontrib-serializinghtml 1.1.9\n",
            "    Uninstalling sphinxcontrib-serializinghtml-1.1.9:\n",
            "      Successfully uninstalled sphinxcontrib-serializinghtml-1.1.9\n",
            "  Attempting uninstall: sphinxcontrib-qthelp\n",
            "    Found existing installation: sphinxcontrib-qthelp 1.0.6\n",
            "    Uninstalling sphinxcontrib-qthelp-1.0.6:\n",
            "      Successfully uninstalled sphinxcontrib-qthelp-1.0.6\n",
            "  Attempting uninstall: sphinxcontrib-htmlhelp\n",
            "    Found existing installation: sphinxcontrib-htmlhelp 2.0.4\n",
            "    Uninstalling sphinxcontrib-htmlhelp-2.0.4:\n",
            "      Successfully uninstalled sphinxcontrib-htmlhelp-2.0.4\n",
            "  Attempting uninstall: sphinxcontrib-devhelp\n",
            "    Found existing installation: sphinxcontrib-devhelp 1.0.5\n",
            "    Uninstalling sphinxcontrib-devhelp-1.0.5:\n",
            "      Successfully uninstalled sphinxcontrib-devhelp-1.0.5\n",
            "  Attempting uninstall: sphinxcontrib-applehelp\n",
            "    Found existing installation: sphinxcontrib-applehelp 1.0.7\n",
            "    Uninstalling sphinxcontrib-applehelp-1.0.7:\n",
            "      Successfully uninstalled sphinxcontrib-applehelp-1.0.7\n",
            "  Attempting uninstall: Jinja2\n",
            "    Found existing installation: Jinja2 3.1.2\n",
            "    Uninstalling Jinja2-3.1.2:\n",
            "      Successfully uninstalled Jinja2-3.1.2\n",
            "  Attempting uninstall: docutils\n",
            "    Found existing installation: docutils 0.18.1\n",
            "    Uninstalling docutils-0.18.1:\n",
            "      Successfully uninstalled docutils-0.18.1\n",
            "  Attempting uninstall: sphinx\n",
            "    Found existing installation: Sphinx 5.0.2\n",
            "    Uninstalling Sphinx-5.0.2:\n",
            "      Successfully uninstalled Sphinx-5.0.2\n",
            "\u001b[31mERROR: pip's dependency resolver does not currently take into account all the packages that are installed. This behaviour is the source of the following dependency conflicts.\n",
            "lida 0.0.10 requires fastapi, which is not installed.\n",
            "lida 0.0.10 requires kaleido, which is not installed.\n",
            "lida 0.0.10 requires python-multipart, which is not installed.\n",
            "lida 0.0.10 requires uvicorn, which is not installed.\u001b[0m\u001b[31m\n",
            "\u001b[0mSuccessfully installed Jinja2-3.0.3 apeye-1.4.1 apeye-core-1.1.4 autodocsumm-0.2.11 cssutils-2.9.0 dict2css-0.3.0 docutils-0.17.1 domdf-python-tools-3.7.0 ruamel.yaml-0.18.3 ruamel.yaml.clib-0.2.8 sphinx-4.5.0 sphinx-autodoc-typehints-1.19.1 sphinx-jinja2-compat-0.2.0 sphinx-prompt-1.5.0 sphinx-rtd-theme-1.3.0 sphinx-tabs-3.4.0 sphinx-toolbox-3.5.0 sphinxcontrib-applehelp-1.0.4 sphinxcontrib-devhelp-1.0.2 sphinxcontrib-htmlhelp-2.0.1 sphinxcontrib-jquery-4.1 sphinxcontrib-qthelp-1.0.3 sphinxcontrib-serializinghtml-1.1.5 stockpyl-0.0.14\n"
          ]
        },
        {
          "output_type": "display_data",
          "data": {
            "application/vnd.colab-display-data+json": {
              "pip_warning": {
                "packages": [
                  "sphinxcontrib"
                ]
              }
            }
          },
          "metadata": {}
        }
      ]
    },
    {
      "cell_type": "markdown",
      "source": [
        "## 2.1 The EOQ Problem and Variants\n",
        "\n",
        "The `eoq` module contains code for solving the economic order quantity (EOQ) problem and some of its variants. The EOQ problem is arguably the oldest and simplest inventory optimization problem, dating back to Harris (1913). The problem assumes that the demand is continuous, deterministic, and constant, and that there is a fixed cost to place an order and a holding cost to store inventory. The goal of the problem is to determine the optimal order quantity to use for each order. Many variants of the EOQ have been proposed in the literature, and Stockpyl implements some of the more common ones.\n",
        "\n",
        "The main function in the module is the [`economic_order_quantity()`](https://stockpyl.readthedocs.io/en/latest/api/seio/eoq.html#stockpyl.eoq.economic_order_quantity) function, which implements the basic EOQ model (Harris 1913; _FoSCT_ §3.2).\n",
        "\n",
        "The function has the signature\n",
        "```python\n",
        "economic_order_quantity(fixed_cost, holding_cost, demand_rate, order_quantity=None)\n",
        "```\n",
        "and returns two parameters: `order_quantity` (the optimal order quantity) and `cost` (the corresponding optimal cost)."
      ],
      "metadata": {
        "id": "05nmfg42c6QF"
      }
    },
    {
      "cell_type": "markdown",
      "source": [
        "**Example:** If the fixed cost is 8, the holding cost per item per year is 0.225, and the demand rate is 1300 items per year (_FoSCT_ Example 3.1), then the optimal order quantity is 304.05 and the optimal average cost per year is 68.41:"
      ],
      "metadata": {
        "id": "3_6vXn3XwIKV"
      }
    },
    {
      "cell_type": "code",
      "source": [
        "from stockpyl.eoq import economic_order_quantity\n",
        "economic_order_quantity(8, 0.225, 1300)"
      ],
      "metadata": {
        "id": "KA3Jq0F6c6Fg",
        "colab": {
          "base_uri": "https://localhost:8080/"
        },
        "outputId": "744f6526-6c38-4f35-e732-aa166538cc24"
      },
      "execution_count": 2,
      "outputs": [
        {
          "output_type": "execute_result",
          "data": {
            "text/plain": [
              "(304.0467800264368, 68.41052550594829)"
            ]
          },
          "metadata": {},
          "execution_count": 2
        }
      ]
    },
    {
      "cell_type": "markdown",
      "source": [
        "Alternately, you can pass an order quantity $Q$ to `economic_order_quantity()` in the optional parameter `order_quantity`, and the function will return the cost of that order quantity (and the order quantity itself). (Many functions in Stockpyl have such an option.)"
      ],
      "metadata": {
        "id": "q_iY1yOsxEv6"
      }
    },
    {
      "cell_type": "code",
      "source": [
        "economic_order_quantity(8, 0.225, 1300, order_quantity=350)"
      ],
      "metadata": {
        "id": "v_skb0bGc7q6",
        "colab": {
          "base_uri": "https://localhost:8080/"
        },
        "outputId": "bff45793-fced-43d4-9df0-179e83b8ad04"
      },
      "execution_count": 3,
      "outputs": [
        {
          "output_type": "execute_result",
          "data": {
            "text/plain": [
              "(350, 69.08928571428572)"
            ]
          },
          "metadata": {},
          "execution_count": 3
        }
      ]
    },
    {
      "cell_type": "markdown",
      "source": [
        "---\n",
        "**Exercise:** Solve the EOQ problem with a fixed cost of 150, a holding cost of 2 per item per year, and a demand rate of 200 items per year."
      ],
      "metadata": {
        "id": "H7OvGsoMxdJB"
      }
    },
    {
      "cell_type": "code",
      "source": [],
      "metadata": {
        "id": "xqwQEYyHxnZG"
      },
      "execution_count": 3,
      "outputs": []
    },
    {
      "cell_type": "markdown",
      "source": [
        "**Exercise:** What is the average cost per year if we use an order quantity of 50?"
      ],
      "metadata": {
        "id": "Aged4tMJxxT-"
      }
    },
    {
      "cell_type": "code",
      "source": [],
      "metadata": {
        "id": "UugGrmMlx1yv"
      },
      "execution_count": 3,
      "outputs": []
    },
    {
      "cell_type": "markdown",
      "source": [
        "---\n",
        "The `eoq` module contains functions to solve a few variants of the EOQ. In particular:"
      ],
      "metadata": {
        "id": "GY_1sC7bxUdU"
      }
    },
    {
      "cell_type": "code",
      "source": [
        "# EOQ with backorders (EOQB).\n",
        "from stockpyl.eoq import economic_order_quantity_with_backorders\n",
        "economic_order_quantity_with_backorders(fixed_cost=8, holding_cost=0.225,\n",
        "                                        stockout_cost=5, demand_rate=1300)"
      ],
      "metadata": {
        "id": "Efo1jbLsc7nK",
        "colab": {
          "base_uri": "https://localhost:8080/"
        },
        "outputId": "eb821b91-401b-48a4-839e-6b3a5e7f27a2"
      },
      "execution_count": 4,
      "outputs": [
        {
          "output_type": "execute_result",
          "data": {
            "text/plain": [
              "(310.81255515896464, 0.0430622009569378, 66.92136355097325)"
            ]
          },
          "metadata": {},
          "execution_count": 4
        }
      ]
    },
    {
      "cell_type": "code",
      "source": [
        "# Economic production quantity (EPQ).\n",
        "from stockpyl.eoq import economic_production_quantity\n",
        "economic_production_quantity(fixed_cost=8, holding_cost=0.225, demand_rate=1300,\n",
        "                             production_rate=1700)"
      ],
      "metadata": {
        "id": "_17jcGVFc7hE",
        "colab": {
          "base_uri": "https://localhost:8080/"
        },
        "outputId": "b9332519-f672-4de4-b1b5-3b0c55993a48"
      },
      "execution_count": 5,
      "outputs": [
        {
          "output_type": "execute_result",
          "data": {
            "text/plain": [
              "(626.8084945889684, 33.183979125298336)"
            ]
          },
          "metadata": {},
          "execution_count": 5
        }
      ]
    },
    {
      "cell_type": "markdown",
      "source": [
        "It also solves the joint replenishment problem (JRP) using Silver’s (1976) heuristic. The [`joint_replenishment_problem_silver_heuristic()`](https://stockpyl.readthedocs.io/en/latest/api/seio/eoq.html#stockpyl.eoq.joint_replenishment_problem_silver_heuristic) function has the following signature:\n",
        "\n",
        "```python\n",
        "joint_replenishment_problem_silver_heuristic(shared_fixed_cost, individual_fixed_costs, holding_costs, demand_rates)\n",
        "```\n",
        "\n",
        "It returns four parameters: `order_quantities` (the order quantities found by the heuristic), `base_cycle_time` (the intervals between consecutive orders), `order_multiples` (product `n` is included in every `order_multiples[n]` orders, and `cost` (cost per unit time).\n"
      ],
      "metadata": {
        "id": "4faVY_K8yoK9"
      }
    },
    {
      "cell_type": "markdown",
      "source": [
        "**Example:** Suppose there are 3 products. Each order (regardless of its contents) incurs a shared fixed cost of 600. Each order that contains products 1, 2, or 3 incurs an additional individual fixed cost of 120, 840, and 300, respectively. The holding costs for products 1, 2, and 3 are 160, 20, and 50 per item per week, respectively. The demand rate is 1 item per week for each product.\n",
        "\n",
        "Then the optimal order quantities are $Q^* = [3.1, 9.3, 3.1]$; we should order every 3.1 weeks; we order products 1 and 3 in every order, and product 2 every 3 orders; and we incur an average cost of 837.9 per week."
      ],
      "metadata": {
        "id": "KIe6NDpazoZc"
      }
    },
    {
      "cell_type": "code",
      "source": [
        "from stockpyl.eoq import joint_replenishment_problem_silver_heuristic\n",
        "shared_fixed_cost = 600\n",
        "individual_fixed_costs = [120, 840, 300]\n",
        "holding_costs = [160, 20, 50]\n",
        "demand_rates = [1, 1, 1]\n",
        "joint_replenishment_problem_silver_heuristic(shared_fixed_cost, individual_fixed_costs,\n",
        "                                             holding_costs, demand_rates)\n"
      ],
      "metadata": {
        "id": "5kaRqk7ic7RR",
        "colab": {
          "base_uri": "https://localhost:8080/"
        },
        "outputId": "f855031f-c293-4fb1-a206-2539a404d955"
      },
      "execution_count": 6,
      "outputs": [
        {
          "output_type": "execute_result",
          "data": {
            "text/plain": [
              "([3.103164454170876, 9.309493362512628, 3.103164454170876],\n",
              " 3.103164454170876,\n",
              " [1, 3, 1],\n",
              " 837.8544026261366)"
            ]
          },
          "metadata": {},
          "execution_count": 6
        }
      ]
    },
    {
      "cell_type": "markdown",
      "source": [
        "## 2.2 The Newsvendor Problem\n",
        "\n",
        "The newsvendor problem (Arrow, Harris, and Marschak (1951); _FoSCT_ §4.3.2) is perhaps the simplest stochastic inventory problem. The `newsvendor` module contains code for solving several flavors of this problem.\n",
        "\n",
        "\n",
        "> **Remark:** The functions in the `newsvendor` module solve either the single-period newsvendor problem, or its infinite-horizon analogue. In the infinite-horizon version, unsold items may be held from one period to the next in the form of inventory (incurring a holding cost), and unmet demands may be held from one period to the next in the form of backorders (incurring a stockout cost). We use the term \"newsvendor\" to refer to both the single-period and infinite-horizon problems, since they are mathematically equivalent. However, some authors prefer not to use the term \"newsvendor\" to describe the infinite-horizon problem. That problem may alternatively be called the _base-stock optimization problem_, since the firm is following a base-stock policy and the objective is to find the optimal base-stock level.\n",
        "\n",
        "The [`newsvendor_normal()`](https://stockpyl.readthedocs.io/en/latest/api/seio/newsvendor.html#stockpyl.newsvendor.newsvendor_normal) function solves the newsvendor problem with normally distributed demands (_FoSCT_ §4.3.2.5). This version of the problem assumes the demand per period is normally distributed.\n",
        "\n",
        "The function has the signature\n",
        "```python\n",
        "newsvendor_normal(holding_cost, stockout_cost, demand_mean, demand_sd,\n",
        "    lead_time=0, base_stock_level=None)\n",
        "```\n",
        "and returns two parameters: `base_stock_level` (the optimal base-stock level) and `cost` (the corresponding optimal expected cost)."
      ],
      "metadata": {
        "id": "g1t9S9n90mKq"
      }
    },
    {
      "cell_type": "markdown",
      "source": [
        "\n",
        "**Example:** Suppose the holding cost is 0.18 per item, the stockout cost is 0.70 per item, and the demand is distributed as $N(50,8^2)$ (_FoSCT_ Example 4.3). Then the optimal base-stock level is 56.6 and the optimal expected cost is 2.00."
      ],
      "metadata": {
        "id": "Rwu9-zIf0mKq"
      }
    },
    {
      "cell_type": "code",
      "source": [
        "from stockpyl.newsvendor import newsvendor_normal\n",
        "newsvendor_normal(0.18, 0.70, 50, 8)"
      ],
      "metadata": {
        "id": "OZtlzV3m0mKq",
        "colab": {
          "base_uri": "https://localhost:8080/"
        },
        "outputId": "15999425-49fb-42c5-b438-3620319ec794"
      },
      "execution_count": 7,
      "outputs": [
        {
          "output_type": "execute_result",
          "data": {
            "text/plain": [
              "(56.60395592743389, 1.9976051931766445)"
            ]
          },
          "metadata": {},
          "execution_count": 7
        }
      ]
    },
    {
      "cell_type": "markdown",
      "source": [
        "Alternatively, you can pass a base-stock level $S$ to `newsvendor_normal()` in the optional parameter `base_stock_level`, and the function will return the expected cost of that base-stock level (and the base-stock level itself)."
      ],
      "metadata": {
        "id": "fuZYDKAA0mKq"
      }
    },
    {
      "cell_type": "code",
      "source": [
        "newsvendor_normal(0.18, 0.70, 50, 8, base_stock_level=60)"
      ],
      "metadata": {
        "id": "WFxTx2YX0mKq",
        "colab": {
          "base_uri": "https://localhost:8080/"
        },
        "outputId": "a917b9ae-558b-4b3f-f7b9-1f7f56db9566"
      },
      "execution_count": 8,
      "outputs": [
        {
          "output_type": "execute_result",
          "data": {
            "text/plain": [
              "(60, 2.156131552870387)"
            ]
          },
          "metadata": {},
          "execution_count": 8
        }
      ]
    },
    {
      "cell_type": "markdown",
      "source": [
        "Non-zero lead times can be handled by providing the `newsvendor_normal()` function with a lead time $L$ in the `lead_time` parameter:\n"
      ],
      "metadata": {
        "id": "BzvgRPnD2-RX"
      }
    },
    {
      "cell_type": "code",
      "source": [
        "newsvendor_normal(0.18, 0.70, 50, 8, lead_time=3)"
      ],
      "metadata": {
        "id": "JDI2Y8Ph3NOG",
        "colab": {
          "base_uri": "https://localhost:8080/"
        },
        "outputId": "99cbb2c6-8e92-4a82-98d7-c7b73449a9ec"
      },
      "execution_count": 9,
      "outputs": [
        {
          "output_type": "execute_result",
          "data": {
            "text/plain": [
              "(213.20791185486777, 3.995210386353289)"
            ]
          },
          "metadata": {},
          "execution_count": 9
        }
      ]
    },
    {
      "cell_type": "markdown",
      "source": [
        "---\n",
        "**Exercise:** Solve the newsvendor problem with a holding cost of 3 per item, a stockout cost of 16 per item, and a demand mean and standard deviation of 100 and 22."
      ],
      "metadata": {
        "id": "IRNegGZA2p6d"
      }
    },
    {
      "cell_type": "code",
      "source": [],
      "metadata": {
        "id": "69uem4rT2p6j"
      },
      "execution_count": 9,
      "outputs": []
    },
    {
      "cell_type": "markdown",
      "source": [
        "**Exercise:** Suppose in addition that there is a lead time of 4 periods."
      ],
      "metadata": {
        "id": "ncDaCEF53URQ"
      }
    },
    {
      "cell_type": "code",
      "source": [],
      "metadata": {
        "id": "KLVM25FP3URQ"
      },
      "execution_count": 9,
      "outputs": []
    },
    {
      "cell_type": "markdown",
      "source": [
        "---\n",
        "The [`newsvendor_poisson()`](https://stockpyl.readthedocs.io/en/latest/api/seio/newsvendor.html#stockpyl.newsvendor.newsvendor_poisson) function solves the problem for Poisson demands. It has a similar signature as `newsvendor_normal()` except that it does not have a parameter for the standard deviation.\n"
      ],
      "metadata": {
        "id": "wxaiL9Vg3gwp"
      }
    },
    {
      "cell_type": "code",
      "source": [
        "from stockpyl.newsvendor import newsvendor_poisson\n",
        "newsvendor_poisson(0.18, 0.70, 50)"
      ],
      "metadata": {
        "id": "L2vF3DWL3sTJ",
        "colab": {
          "base_uri": "https://localhost:8080/"
        },
        "outputId": "0f40ab6d-281a-4783-e30a-0b1e1d2c87f3"
      },
      "execution_count": 10,
      "outputs": [
        {
          "output_type": "execute_result",
          "data": {
            "text/plain": [
              "(56.0, 1.797235211809178)"
            ]
          },
          "metadata": {},
          "execution_count": 10
        }
      ]
    },
    {
      "cell_type": "markdown",
      "source": [
        "---\n",
        "Stockpyl provides two functions that allow you to solve newsvendor problems with generic distributions (i.e., not normal or Poisson). The [`newsvendor_continuous()`](https://stockpyl.readthedocs.io/en/latest/api/seio/newsvendor.html#stockpyl.newsvendor.newsvendor_continuous) function is for continuous distributions. It allows you to specify the demand pdf in one of two ways:\n",
        "* as a [`scipy.stats.rv_continuous`](https://docs.scipy.org/doc/scipy/reference/generated/scipy.stats.rv_continuous.html) object, or\n",
        "* as a function that takes a single argument and returns the pdf of that argument. (🤦 This has not been implemented yet.)\n",
        "\n",
        "The signature of the function is:\n",
        "```python\n",
        "newsvendor_continuous(holding_cost, stockout_cost, demand_distrib=None,\n",
        "    demand_pdf=None, base_stock_level=None)\n",
        "```\n",
        "(Exactly one of `demand_distrib` and `demand_pdf` must be provided.)"
      ],
      "metadata": {
        "id": "dgYYkwyZ37YO"
      }
    },
    {
      "cell_type": "markdown",
      "source": [
        "**Example:** Suppose the holding cost is 1 per item, the stockout cost is 0.1765 per item, and the demand is lognormal with paramters $\\mu=6$ and $\\sigma=0.3$ (_FoSCT_ Problem 4.9(b)). Then the optimal base-stock level is 295.6 and the optimal expected cost is 29.4.\n",
        "\n",
        "(_Note_: To create a lognormal random variable with parameters $\\mu$ and $\\mu$ using `scipy.stats.lognorm()`, set the first parameter to $\\sigma$, the second to 0, and the third to $e^\\mu$.)"
      ],
      "metadata": {
        "id": "COLCB89o4ir5"
      }
    },
    {
      "cell_type": "code",
      "source": [
        "from stockpyl.newsvendor import newsvendor_continuous\n",
        "import numpy as np\n",
        "from scipy.stats import lognorm\n",
        "demand_distrib = lognorm(0.3, 0, np.exp(6))\n",
        "newsvendor_continuous(1, 0.1765, demand_distrib)"
      ],
      "metadata": {
        "id": "g5nZdc855sEV",
        "colab": {
          "base_uri": "https://localhost:8080/"
        },
        "outputId": "0bfcbb7a-17e1-43cc-fa5d-5eb199214047"
      },
      "execution_count": 11,
      "outputs": [
        {
          "output_type": "execute_result",
          "data": {
            "text/plain": [
              "(295.6266448071368, 29.442543513243216)"
            ]
          },
          "metadata": {},
          "execution_count": 11
        }
      ]
    },
    {
      "cell_type": "markdown",
      "source": [
        "For discrete distributions, the [`newsvendor_discrete()`](https://stockpyl.readthedocs.io/en/latest/api/seio/newsvendor.html#stockpyl.newsvendor.newsvendor_discrete) function allows you to specify the demand pmf either:\n",
        "* as a [scipy.stats.rv_discrete](https://docs.scipy.org/doc/scipy/reference/generated/scipy.stats.rv_discrete.html) object, or\n",
        "* as a Python dictionary in which the keys are the possible demand values and the values are their probabilities.\n",
        "\n",
        "The signature is:\n",
        "```python\n",
        "newsvendor_discrete(holding_cost, stockout_cost, demand_distrib=None,\n",
        "    demand_pmf=None, base_stock_level=None)\n",
        "```\n",
        "(Exactly one of `demand_distrib` and `demand_pmf` must be provided.)"
      ],
      "metadata": {
        "id": "pLxzkSb_50-7"
      }
    },
    {
      "cell_type": "markdown",
      "source": [
        "**Example:** In _FoSCT_ Example 4.7, the demand has a Poisson distribution with mean 6, the holding cost is 1, and the stockout cost is 4. Let's first solve this problem by passing `newsvendor_discrete()` an `rv_discrete` object that specifies the demand distribution:"
      ],
      "metadata": {
        "id": "svCONZkX6KZN"
      }
    },
    {
      "cell_type": "code",
      "source": [
        "from stockpyl.newsvendor import newsvendor_discrete\n",
        "from scipy.stats import poisson\n",
        "demand_distrib = poisson(6)\n",
        "newsvendor_discrete(1, 4, demand_distrib=demand_distrib)\n"
      ],
      "metadata": {
        "id": "9Rfr-MRs6oVG",
        "colab": {
          "base_uri": "https://localhost:8080/"
        },
        "outputId": "34ec59f6-ea46-4b69-af00-f7633f930463"
      },
      "execution_count": 12,
      "outputs": [
        {
          "output_type": "execute_result",
          "data": {
            "text/plain": [
              "(8.0, 3.5701069457709416)"
            ]
          },
          "metadata": {},
          "execution_count": 12
        }
      ]
    },
    {
      "cell_type": "markdown",
      "source": [
        "Instead of building an `rv_discrete` object, we can instead pass a dictionary that specifies the pmf explicitly:"
      ],
      "metadata": {
        "id": "flC6plfn6uXG"
      }
    },
    {
      "cell_type": "code",
      "source": [
        "from scipy.stats import poisson\n",
        "# Build the pmf dictionary.\n",
        "d = range(0, 41)\n",
        "f = [poisson.pmf(d_val, 6) for d_val in d]\n",
        "demand_pmf = dict(zip(d, f))\n",
        "# Now we have a dict in which demand_pmf[0] = 0.0024787521766663585,\n",
        "# demand_pmf[1] = 0.014872513059998144, and so on.\n",
        "# Solve the problem.\n",
        "newsvendor_discrete(1, 4, demand_pmf=demand_pmf)"
      ],
      "metadata": {
        "id": "SsN-9b5p68BK",
        "colab": {
          "base_uri": "https://localhost:8080/"
        },
        "outputId": "edb8a7da-d3a8-49ab-e7ea-c8f0df3c612e"
      },
      "execution_count": 13,
      "outputs": [
        {
          "output_type": "execute_result",
          "data": {
            "text/plain": [
              "(8, 3.570106945770941)"
            ]
          },
          "metadata": {},
          "execution_count": 13
        }
      ]
    },
    {
      "cell_type": "markdown",
      "source": [
        "Note that we get the same optimal solution and cost either way."
      ],
      "metadata": {
        "id": "wnnoViOm7i6Z"
      }
    },
    {
      "cell_type": "markdown",
      "source": [
        "---\n",
        "**Exercise:** Suppose the holding cost is 10, the stockout cost is 100, and the demand has a geomtric distribution with parameter $p=0.1$. Solve the resulting newsvendor problem."
      ],
      "metadata": {
        "id": "LQroW87G81yD"
      }
    },
    {
      "cell_type": "code",
      "source": [],
      "metadata": {
        "id": "oO4JolKP9NGh"
      },
      "execution_count": 13,
      "outputs": []
    },
    {
      "cell_type": "markdown",
      "source": [
        "**Exercise:** Suppose instead that the demand equals $0, ..., 5$ with probabilities $0.1, 0.2, 0.2, 0.25, 0.15, 0.1$, respectively. Solve the resulting problem.\n"
      ],
      "metadata": {
        "id": "8U707Uc-9XNS"
      }
    },
    {
      "cell_type": "code",
      "source": [],
      "metadata": {
        "id": "sEDIjJgm9jl4"
      },
      "execution_count": 13,
      "outputs": []
    },
    {
      "cell_type": "markdown",
      "source": [
        "---\n",
        "The functions discussed so far use the \"implicit\" form of the newsvendor problem, in which we provide holding and stockout (overage and underage) costs. Another version of the problem, the \"explicit\" version, optimizes based on the revenue $r$ per item sold, the cost $c$ per item purchased, and the salvage value $v$ per item left over at the end of the period.  Note that, if we let\n",
        "\t\\begin{align}\n",
        "\t\th' & = c - v \\\\\n",
        "\t\tp' & = r - c,\n",
        "\t\\end{align}\n",
        "then the explicit formulation under $r$, $c$, and $v$ is equivalent to the implicit formulation under $h'$ and $p'$.\n",
        "\n",
        "Stockpyl provides two functions to solve the explicit form of the newsvendor problem: [`newsvendor_normal_explicit()`](https://stockpyl.readthedocs.io/en/latest/api/seio/newsvendor.html#stockpyl.newsvendor.newsvendor_normal_explicit), which has the signature\n",
        "```python\n",
        "newsvendor_normal_explicit(revenue, purchase_cost, salvage_value,\n",
        "    demand_mean, demand_sd, holding_cost=0, stockout_cost=0, lead_time=0,\n",
        "    base_stock_level=None)\n",
        "```\n",
        "and [`newsvendor_poisson_explicit()`](https://stockpyl.readthedocs.io/en/latest/api/seio/newsvendor.html#stockpyl.newsvendor.newsvendor_poisson_explicit), which has the signature\n",
        "```python\n",
        "newsvendor_poisson_explicit(revenue, purchase_cost, salvage_value,\n",
        "    demand_mean, holding_cost=0, stockout_cost=0, lead_time=0,\n",
        "    base_stock_level=None)\n",
        "```\n",
        "(The optional `holding_cost` and `stockout_cost` parameters allow you to specify additional holding and stockout costs, in addition to the costs implied by the revenue, purchase cost, and salvage value.)"
      ],
      "metadata": {
        "id": "1y4ZQl8U7ljX"
      }
    },
    {
      "cell_type": "markdown",
      "source": [
        "**Example:** Suppose we have a revenue of $r=1$, a purchase cost of $c=0.3$, a salvage value of $v=0.12$, and demand distributed as $N(50,8^2)$. Then the optimal base-stock level is 56.6 and the optimal expected cost is 33.0:"
      ],
      "metadata": {
        "id": "5IfoEIf88LIO"
      }
    },
    {
      "cell_type": "code",
      "source": [
        "from stockpyl.newsvendor import newsvendor_normal_explicit\n",
        "newsvendor_normal_explicit(1, 0.3, 0.12, 50, 8)"
      ],
      "metadata": {
        "id": "4mizwVq38dWA",
        "colab": {
          "base_uri": "https://localhost:8080/"
        },
        "outputId": "a74cff51-d079-40fd-86b0-893867fbd187"
      },
      "execution_count": 14,
      "outputs": [
        {
          "output_type": "execute_result",
          "data": {
            "text/plain": [
              "(56.60395592743389, 33.002394806823354)"
            ]
          },
          "metadata": {},
          "execution_count": 14
        }
      ]
    },
    {
      "cell_type": "markdown",
      "source": [
        "If, instead, the demand is distributed as $\\text{Pois}(50)$, the optimal order quantity and cost change only a little:"
      ],
      "metadata": {
        "id": "QSfU5hZB8gzt"
      }
    },
    {
      "cell_type": "code",
      "source": [
        "from stockpyl.newsvendor import newsvendor_poisson_explicit\n",
        "newsvendor_poisson_explicit(1, 0.3, 0.12, 50)"
      ],
      "metadata": {
        "id": "K978Tji88oDC",
        "colab": {
          "base_uri": "https://localhost:8080/"
        },
        "outputId": "32480276-e3e4-4aa4-cfe6-0c866508c959"
      },
      "execution_count": 15,
      "outputs": [
        {
          "output_type": "execute_result",
          "data": {
            "text/plain": [
              "(56.0, 33.20276478819082)"
            ]
          },
          "metadata": {},
          "execution_count": 15
        }
      ]
    },
    {
      "cell_type": "markdown",
      "source": [
        "---\n",
        "**Exercise:** Solve the newsvendor problem with revenue $r=500$, purchase cost $c=200$, salvage value $v=80$, and demand distributed as $N(12, 2^2)$."
      ],
      "metadata": {
        "id": "549fnph_9wMC"
      }
    },
    {
      "cell_type": "code",
      "source": [
        "newsvendor_normal_explicit(500, 200, 80, 12, 2)"
      ],
      "metadata": {
        "id": "4-hSHEK095pG",
        "colab": {
          "base_uri": "https://localhost:8080/"
        },
        "outputId": "fe94aafb-6709-4a05-c1e2-d4cf5abec2d5"
      },
      "execution_count": 16,
      "outputs": [
        {
          "output_type": "execute_result",
          "data": {
            "text/plain": [
              "(13.131897643865726, 3314.479359027671)"
            ]
          },
          "metadata": {},
          "execution_count": 16
        }
      ]
    },
    {
      "cell_type": "markdown",
      "source": [
        "\n",
        "## 2.3 The $(r,Q)$ Optimization Problem\n",
        "\n",
        "The `rq` module contains functions for evaluating and optimizing $(r,Q)$ policies. The functions in this module assume a continuous-review system; different functions make different assumptions about the demand distribution. The module offers functions for both exact and approximate optimization methods to find $r$ and $Q$.\n",
        "\n",
        "Four functions implement heuristic (approximate) methods for finding $r$ and $Q$. These are discussed in _FoSCT_ §5.3.\n",
        "\n",
        "The [`r_q_eil_approximation()`](https://stockpyl.readthedocs.io/en/latest/api/seio/rq.html#stockpyl.rq.r_q_eil_approximation) function implements the \"expected-inventory-level\" (EIL) approximation (Hadley and Whitin 1963, Whitin 1953), which assumes the demand per unit time is distributed as $N(\\lambda,\\tau^2)$. This approach iteratively solves a pair of equations for $Q$ and $r$ to derive an approximate solution. The function has the signature\n",
        "```python\n",
        "r_q_eil_approximation(holding_cost, stockout_cost, fixed_cost, demand_mean,\n",
        "    demand_sd, lead_time, tol=1e-6)\n",
        "```\n",
        "and returns three parameters: `reorder_point` (the approximate reorder point), `order_quantity` (the approximate order quantity), and `cost` (the corresponding expected cost). The optional parameter `tol` allows you to specify the tolerance for the iterative method.\n"
      ],
      "metadata": {
        "id": "7HZWR2gPE-Vv"
      }
    },
    {
      "cell_type": "markdown",
      "source": [
        "\n",
        "**Example:** Suppose the holding cost is 0.225 item per year, the stockout cost is 7.5 per item per year, the fixed cost is 8, the annual demand is distributed as $N(1300,150^2)$, and the lead time is 1 month (1/12 year) (_FoSCT_ Example 5.2). The EIL approximation gives a reorder point of $r=214.0$, an order quantity of $318.6$, for a corresponding expected cost of 95.5 per year:"
      ],
      "metadata": {
        "id": "7zyBlQd1E-V1"
      }
    },
    {
      "cell_type": "code",
      "source": [
        "from stockpyl.rq import r_q_eil_approximation\n",
        "r_q_eil_approximation(0.225, 7.5, 8, 1300, 150, 1/12)"
      ],
      "metadata": {
        "id": "9ah4hNB-GnUY",
        "colab": {
          "base_uri": "https://localhost:8080/"
        },
        "outputId": "27fe7df4-2f02-46ac-c7bf-ad088eff879f"
      },
      "execution_count": 17,
      "outputs": [
        {
          "output_type": "execute_result",
          "data": {
            "text/plain": [
              "(213.97044213580244, 318.5901810768729, 95.45114022285196)"
            ]
          },
          "metadata": {},
          "execution_count": 17
        }
      ]
    },
    {
      "cell_type": "markdown",
      "source": [
        "The other three functions for $(r,Q)$ approximations work similarly:\n",
        "* [`r_q_eoqb_approximation()`](https://stockpyl.readthedocs.io/en/latest/api/seio/rq.html#stockpyl.rq.r_q_eoqb_approximation) implements the \"economic order quantity with backorders\" (EOQB) approximation\n",
        "* [`r_q_eoqss_approximation()`](https://stockpyl.readthedocs.io/en/latest/api/seio/rq.html#stockpyl.rq.r_q_eoqss_approximation) implements the \"EOQ plus safety stock\" (EOQSS) approximation\n",
        "* [`r_q_loss_function_approximation()`](https://stockpyl.readthedocs.io/en/latest/api/seio/rq.html#stockpyl.rq.r_q_loss_function_approximation) implements the \"loss function\" approximation (Hadley and Whitin 1963).\n",
        "\n",
        "These functions all assume that the demand is normally distributed. They do not return the expected cost of the solution found; to calculate the expected cost, use the [`r_q_cost()`](https://stockpyl.readthedocs.io/en/latest/api/seio/rq.html#stockpyl.rq.r_q_cost) function, which calculates the _exact_ expected cost of given values of $r$ and $Q$, assuming the demand is normally distributed.\n",
        "\n",
        "\n",
        "\n",
        "\n"
      ],
      "metadata": {
        "id": "FXBV2-gMG-MT"
      }
    },
    {
      "cell_type": "markdown",
      "source": [
        "**Example:** Solving the same problem as above using the EOQ+SS approximation, we get $r=190.3$ and $Q=304.1$, with an expected cost of 87.1 (a bit better than the solution returned by the EIL approximation)."
      ],
      "metadata": {
        "id": "sALY75aAIQ2P"
      }
    },
    {
      "cell_type": "code",
      "source": [
        "from stockpyl.rq import r_q_eoqss_approximation\n",
        "r, Q = r_q_eoqss_approximation(0.225, 7.5, 8, 1300, 150, 1/12)\n",
        "r, Q"
      ],
      "metadata": {
        "id": "GXSoeB9fIYYe",
        "colab": {
          "base_uri": "https://localhost:8080/"
        },
        "outputId": "9a36b236-ae81-471d-fc10-4e87292f428e"
      },
      "execution_count": 18,
      "outputs": [
        {
          "output_type": "execute_result",
          "data": {
            "text/plain": [
              "(190.3369965715624, 304.0467800264368)"
            ]
          },
          "metadata": {},
          "execution_count": 18
        }
      ]
    },
    {
      "cell_type": "code",
      "source": [
        "from stockpyl.rq import r_q_cost\n",
        "r_q_cost(r, Q, 0.225, 7.5, 8, 1300, 150, 1/12)"
      ],
      "metadata": {
        "id": "V3uRpczRIlSF",
        "colab": {
          "base_uri": "https://localhost:8080/"
        },
        "outputId": "d41be718-f66e-4a4c-acf0-a0eadad01714"
      },
      "execution_count": 19,
      "outputs": [
        {
          "output_type": "execute_result",
          "data": {
            "text/plain": [
              "87.04837003438256"
            ]
          },
          "metadata": {},
          "execution_count": 19
        }
      ]
    },
    {
      "cell_type": "markdown",
      "source": [
        "---\n",
        "**Exercise:** Suppose the holding cost is 2 per week, the stockout cost is 16, the fixed cost is 75, the weekly demand is distributed as $N(40, 6^2)$, and the lead time is 2 weeks. Using all four approximations, find $r$, $Q$, and the associated cost."
      ],
      "metadata": {
        "id": "GJPTjYuGJkwF"
      }
    },
    {
      "cell_type": "code",
      "source": [],
      "metadata": {
        "id": "SGc2JZY0J8bo"
      },
      "execution_count": 19,
      "outputs": []
    },
    {
      "cell_type": "markdown",
      "source": [
        "\n",
        "## 2.4 The $(s,S)$ Optimization Problem\n",
        "\n",
        "The `ss` module contains functions for evaluating and optimizing $(s,S)$ policies in a periodic-review system. The notation is mostly the same as in the `rq` module. The [`s_s_cost_discrete()`](https://stockpyl.readthedocs.io/en/latest/api/seio/ss.html#stockpyl.ss.s_s_cost_discrete) function calculates the exact expected cost of an $(s,S)$ policy with given parameters $s$ and $S$ under a discrete distribution using the method by (Zheng and Federgruen 1991, 1992). Its signature is\n",
        "```python\n",
        "s_s_cost_discrete(reorder_point, order_up_to_level, holding_cost,\n",
        "    stockout_cost, fixed_cost, use_poisson, demand_mean=None, demand_hi=None,\n",
        "    demand_pmf=None)\n",
        "```\n",
        "The distribution can be Poisson (in which case, set `use_poisson=True` and provide the mean of the distribution in the argument `demand_mean`) or an arbitrary discrete distribution. In the latter case, the distribution is assumed to be on the integers $0, \\ldots, $`demand_hi`; set `use_poisson=False` and provide the pmf of the distribution as a list of probabilities in `demand_pmf`.\n",
        "\n"
      ],
      "metadata": {
        "id": "nAnVXOH0YTL6"
      }
    },
    {
      "cell_type": "markdown",
      "source": [
        "\n",
        "**Example:** Suppose we use $(s,S)=(4,10)$ for a problem with holding cost 1, stockout cost 4, fixed cost 5, and $\\text{Pois}(6)$ demand (_FoSCT_ Example 4.7). Then the expected cost is 8.03:"
      ],
      "metadata": {
        "id": "6t7BMhcpYTL6"
      }
    },
    {
      "cell_type": "code",
      "source": [
        "from stockpyl.ss import s_s_cost_discrete\n",
        "h = 1\n",
        "p = 4\n",
        "K = 5\n",
        "mu = 6\n",
        "s_s_cost_discrete(4, 10, h, p, K, use_poisson=True, demand_mean=mu)"
      ],
      "metadata": {
        "id": "N_bnXvLRYTL6",
        "colab": {
          "base_uri": "https://localhost:8080/"
        },
        "outputId": "eb249a27-3d13-451b-f522-0e826b0d70da"
      },
      "execution_count": 20,
      "outputs": [
        {
          "output_type": "execute_result",
          "data": {
            "text/plain": [
              "8.034111561471642"
            ]
          },
          "metadata": {},
          "execution_count": 20
        }
      ]
    },
    {
      "cell_type": "markdown",
      "source": [
        "**Example:** Suppose instead that the demand has a geometric distribution with the same mean, 6, as in the previous example, truncatnig the support at 20. Then the expected cost is 9.89:"
      ],
      "metadata": {
        "id": "NJ2sQayUZiP5"
      }
    },
    {
      "cell_type": "code",
      "source": [
        "from scipy.stats import geom\n",
        "demand_prob = 1/6\n",
        "demand_hi = 20\n",
        "demand_pmf = [geom.pmf(x, demand_prob) for x in range(demand_hi + 1)]\n",
        "s_s_cost_discrete(4, 10, h, p, K, use_poisson=False, demand_hi=demand_hi,\n",
        "    demand_pmf=demand_pmf)"
      ],
      "metadata": {
        "id": "tI3zMhn-Zpdn",
        "colab": {
          "base_uri": "https://localhost:8080/"
        },
        "outputId": "3bdaff7c-9f90-4477-a223-8ed03d90c622"
      },
      "execution_count": 21,
      "outputs": [
        {
          "output_type": "execute_result",
          "data": {
            "text/plain": [
              "9.891030991618022"
            ]
          },
          "metadata": {},
          "execution_count": 21
        }
      ]
    },
    {
      "cell_type": "markdown",
      "source": [
        "The [`s_s_discrete_exact`](https://stockpyl.readthedocs.io/en/latest/api/seio/ss.html#stockpyl.ss.s_s_discrete_exact) function finds the exact optimal $s$ and $S$ for a policy under discrete (Poisson or arbitrary) demands using the algorithm by Zheng and Federgruen (1991), i.e., it optimizes the cost calculated by `s_s_cost_discrete()`. Its signature is similar, except that `reorder_point` and `order_up_to_level` are outputs rather than inputs."
      ],
      "metadata": {
        "id": "hjecs1mXZv5f"
      }
    },
    {
      "cell_type": "markdown",
      "source": [
        "**Example:** Optimizing the instance from _FoSCT_ Example 4.7, we find that $(s^*,S^*) = (4, 10)$, with expected cost 8.03:\n"
      ],
      "metadata": {
        "id": "hcgv-ujOaA2c"
      }
    },
    {
      "cell_type": "code",
      "source": [
        "from stockpyl.ss import s_s_discrete_exact\n",
        "s_s_discrete_exact(h, p, K, True, 6)"
      ],
      "metadata": {
        "id": "LD3xawHpZ_d4",
        "colab": {
          "base_uri": "https://localhost:8080/"
        },
        "outputId": "d576af8a-9327-4d5c-d327-47d650c09dfe"
      },
      "execution_count": 22,
      "outputs": [
        {
          "output_type": "execute_result",
          "data": {
            "text/plain": [
              "(4.0, 10.0, 8.034111561471642)"
            ]
          },
          "metadata": {},
          "execution_count": 22
        }
      ]
    },
    {
      "cell_type": "markdown",
      "source": [
        "Finally, the [`s_s_power_approximation()`](https://stockpyl.readthedocs.io/en/latest/api/seio/ss.html#stockpyl.ss.s_s_power_approximation) function finds heuristic values for $s$ and $S$ using the \"power approximation\" by Erhardt and Mosier (1984), which assumes the demands are normally distributed."
      ],
      "metadata": {
        "id": "UgcX_T7vacTx"
      }
    },
    {
      "cell_type": "code",
      "source": [
        "from stockpyl.ss import s_s_power_approximation\n",
        "# Use normal distribution with same mean = variance = 6 to match Poisson distribution used above.\n",
        "s_s_power_approximation(h, p, K, 6, np.sqrt(6))"
      ],
      "metadata": {
        "id": "xd0wrfmwark9",
        "colab": {
          "base_uri": "https://localhost:8080/"
        },
        "outputId": "7fcaac18-2332-45c4-c23a-98a9022eac6e"
      },
      "execution_count": 25,
      "outputs": [
        {
          "output_type": "execute_result",
          "data": {
            "text/plain": [
              "(4.347452327151561, 11.588388508235454)"
            ]
          },
          "metadata": {},
          "execution_count": 25
        }
      ]
    },
    {
      "cell_type": "markdown",
      "source": [
        "---\n",
        "**Exercise:** Use the exact algorithm to solve the $(s,S)$ optimization problem with a holding cost of 12, a stockout cost of 76, a fixed cost of 225, and $\\text{Pois}(65)$ demand. Then use the power approximation for a normally distributed demand with mean and variance both equal to 65. Compare the expected costs of the two solutions."
      ],
      "metadata": {
        "id": "T2IqHdLaawRy"
      }
    },
    {
      "cell_type": "code",
      "source": [],
      "metadata": {
        "id": "X_yFwuwXb5CF"
      },
      "execution_count": null,
      "outputs": []
    },
    {
      "cell_type": "markdown",
      "source": [
        "## 2.5 Specification of Time-Based Quantities\n",
        "<a id='sec_2_5'></a>\n",
        "\n",
        "Before moving on, we take a quick detour to discuss how time-based input and output parameters (i.e., parameters with a subscript $t$) are represented in Stockpyl. These are relevant in the section below and in subsequent notebooks.\n",
        "\n",
        "Let $T$ be the number of time periods. In most cases, if a parameter may differ from one period to the next, Stockpyl allows you to specify it in one of three ways:\n",
        "* As a singleton, in which case the parameter is assumed to equal that value in every time period.\n",
        "* As a list with $T$ elements, in which case the list is assumed to contain values for periods $1, \\ldots, T$ in elements $0, \\ldots, T-1$.\n",
        "* As a list with $T+1$ elements, in which case the list is assumed to contain values for periods $1, \\ldots, T$ in elements $1, \\ldots, T$, and the 0th element is ignored.\n",
        "\n",
        "For example, if a given problem instance has 3 time periods and a parameter `holding_cost` equals 1 in every time period, the following are equivalent:\n",
        "```python\n",
        "holding_cost=1\n",
        "holding_cost=[1, 1, 1]\n",
        "holding_cost=[0, 1, 1, 1]\n",
        "```\n",
        "Similarly, if a parameter `demand` equals 10, 30, and 25 in periods 1--3, respectively, then the following are equivalent:\n",
        "```python\n",
        "demand=[10, 30, 25]\n",
        "demand=[0, 10, 30, 25]\n",
        "```\n",
        "In most or all functions, you may mix input types, specifying some as singletons and some as lists.\n",
        "Time-based output parameters returned by Stockpyl functions are always given as lists with $T+1$ elements."
      ],
      "metadata": {
        "id": "FqsnoOybcW-X"
      }
    },
    {
      "cell_type": "markdown",
      "source": [
        "## 2.6 The Wagner–Whitin Problem\n",
        "\n",
        "The Wagner–Whitin problem (sometimes referred to as the dynamic economic lot-sizing (DEL) or uncapacitated lot-sizing (ULS) model) is a periodic-review, finite-horizon, deterministic inventory model that makes decisions about which periods to order in, and how much to order in each of those periods. Like the EOQ model, it assumes deterministic demand, but unlike the EOQ, it is a periodic-review model and it allows the demand to vary from one period to another.\n",
        "\n",
        "The `wagner_whitin` module solves the problem using the classic dynamic programming (DP) algorithm by Wagner and Whitin (1958). The module contains a single function, [`wagner_whitin()`](https://stockpyl.readthedocs.io/en/latest/api/seio/wagner_whitin.html#stockpyl.wagner_whitin.wagner_whitin), which implements the Wagner–Whitin DP recursion (see _FoSCT_ §3.7.3). The function has the signature\n",
        "```python\n",
        "wagner_whitin(num_periods, holding_cost, fixed_cost, demand, purchase_cost=0)\n",
        "```\n",
        "and returns four parameters: `order_quantities` ($Q$), `cost` ($\\theta_1$), `costs_to_go` ($\\theta$), and `next_order_periods` ($s$). The optional input parameter `purchase_cost` allows you to specify a purchase cost in each time period.\n",
        "With the exception of `num_periods`, the input parameters may vary by time period; see [Section 2.5](#sec_2_5). The output arrays are 1-indexed; i.e., they have length $T+1$, where element $t$ gives the value for period $t$, and element 0 is ignored."
      ],
      "metadata": {
        "id": "aGgtswMRhC2q"
      }
    },
    {
      "cell_type": "markdown",
      "source": [
        "**Example:** In _FoSCT_ Example 3.9, there are 4 periods; the holding cost is 2, the fixed cost is 500, and the demands in periods 1, ..., 4 are 90, 120, 80, and 70, respectively. Solving this problem, we get an optimal solution in which we order in periods 1 and 3, with order quantities 210 and 150 and a total cost of 1380:"
      ],
      "metadata": {
        "id": "TNk_R4ErjaLN"
      }
    },
    {
      "cell_type": "code",
      "source": [
        "from stockpyl.wagner_whitin import wagner_whitin\n",
        "Q, cost, theta, s = wagner_whitin(4, 2, 500, [90, 120, 80, 70])"
      ],
      "metadata": {
        "id": "_cb9DTkajsDl"
      },
      "execution_count": null,
      "outputs": []
    },
    {
      "cell_type": "code",
      "source": [
        "# Display order quantity list and cost.\n",
        "Q, cost"
      ],
      "metadata": {
        "id": "CSQrHqCAj180"
      },
      "execution_count": null,
      "outputs": []
    },
    {
      "cell_type": "code",
      "source": [
        "# Display costs-to-go and next order periods.\n",
        "theta, s"
      ],
      "metadata": {
        "id": "zAMvksG6j62V"
      },
      "execution_count": null,
      "outputs": []
    },
    {
      "cell_type": "markdown",
      "source": [
        "Note that we could alternatively specify the holding and/or fixed costs as lists in which every element is the same, e.g.:"
      ],
      "metadata": {
        "id": "GLNUq0jykETI"
      }
    },
    {
      "cell_type": "code",
      "source": [
        "Q, cost, theta, s = wagner_whitin(4, [2, 2, 2, 2], 500, [90, 120, 80, 70])\n",
        "Q, cost"
      ],
      "metadata": {
        "id": "6Nb0SxBxkO7R"
      },
      "execution_count": null,
      "outputs": []
    },
    {
      "cell_type": "markdown",
      "source": [
        "---\n",
        "**Exercise:** Suppose there are 6 time periods. The holding cost per item per period is 0.1, the fixed cost is 7, and the demands in periods 1, ..., 6 are 12, 16, 17, 0, 9, and 13, respectively. Solve the Wagner–Whitin problem."
      ],
      "metadata": {
        "id": "cHcGGaezlvDq"
      }
    },
    {
      "cell_type": "code",
      "source": [],
      "metadata": {
        "id": "ANIa53T6l9nM"
      },
      "execution_count": null,
      "outputs": []
    },
    {
      "cell_type": "markdown",
      "source": [
        "## 2.7 Stochastic Finite-Horizon Problems\n",
        "\n",
        "The `finite_horizon` module contains code for solving finite-horizon, stochastic inventory optimization problems, with or without fixed costs, under normally distributed demands, using DP. (See _FoSCT_ §4.3.3 and §4.4.3.)\n",
        "\n",
        "The main function in the module is [`finite_horizon_dp()`](https://stockpyl.readthedocs.io/en/latest/api/seio/finite_horizon.html#stockpyl.finite_horizon.finite_horizon_dp), which has the signature\n",
        "```python\n",
        "finite_horizon_dp(num_periods, holding_cost, stockout_cost,\n",
        "    terminal_holding_cost, terminal_stockout_cost, purchase_cost, fixed_cost,\n",
        "    demand_mean, demand_sd, discount_factor=1.0, initial_inventory_level=0.0,\n",
        "    trunc_tol=0.02, d_spread=4, s_spread=5)\n",
        "```\n",
        "and returns six parameters: `reorder_points` ($s$), `order_up_to_levels` ($S$), `total_cost` ($\\theta_1(x_1)$), `cost_matrix` ($\\theta_t(x)$), `oul_matrix` ($y_t(x)$), and `x_range`.\n",
        "Most of the input parameters may vary by time period; see [Section 2.5](#sec_2_5). The output arrays are 1-indexed; i.e., they have length $T+1$, where element $t$ gives the value for period $t$, and element 0 is ignored.\n",
        "\n",
        "The function assumes that there is a termal cost function of the form\n",
        "$$\\theta_{T+1}(x) = h_{T+1}x^+ + p_{T+1}x^-,$$\n",
        "where $h_{T+1}$ and $p_{T+1}$ are the terminal holding and stockout costs, respectively, and\n",
        "\t\\begin{align*}\n",
        "\t\tx^+ & \\equiv \\max\\{x,0\\} \\\\\n",
        "\t\tx^- & \\equiv \\max\\{-x,0\\}.\n",
        "\t\\end{align*}\n",
        "\n",
        "If $K=0$ in each time period, then a base-stock policy is optimal and the output parameters will reflect that; that is, the order-up-to level in period $t$ (as a function of the period-$t$ starting inventory $x$) will have the form\n",
        "\t$$ y_t(x) = \\begin{cases} S_t, & \\text{if $x \\le S_t$} \\\\ 0, & \\text{if $x > S_t$,} \\end{cases} $$\n",
        "and `reorder_points[t]` will equal `order_up_to_levels[t]` for all periods `t`. If $K \\ne 0$, then an $(s,S)$ policy is optimal and the output parameters will reflect that; that is, the order-up-to levels will have the form\n",
        "\t$$ y_t(x) = \\begin{cases} S_t, & \\text{if $x \\le s_t$} \\\\ 0, & \\text{if $x > s_t$.} \\end{cases} $$"
      ],
      "metadata": {
        "id": "dMItYDP6kW5-"
      }
    },
    {
      "cell_type": "markdown",
      "source": [
        "**Example:** Suppose we have $T=5$ time periods; in each time period the holding cost is 1, the stockout cost is 20, the purchase cost is 2, the fixed cost is 50, the demand is distributed as $N(100,20^2)$; and the terminal costs are $h_6 = 1$ and $p_6 = 20$. Solving this problem gives the following $(s,S)$ pairs, with expected cost 1558.7 over the time horizon:\n",
        "\\begin{align*}\n",
        "(s_1,S_1) & = (110, 133) \\\\\n",
        "(s_2,S_2) & = (110, 133) \\\\\n",
        "(s_3,S_3) & = (110, 133) \\\\\n",
        "(s_4,S_4) & = (110, 133) \\\\\n",
        "(s_5,S_5) & = (111, 126)\n",
        "\\end{align*}"
      ],
      "metadata": {
        "id": "CcLkFtc9lrEF"
      }
    },
    {
      "cell_type": "code",
      "source": [
        "from stockpyl.finite_horizon import finite_horizon_dp\n",
        "T = 5\n",
        "h = 1\n",
        "p = 20\n",
        "h_term = 1\n",
        "p_term = 20\n",
        "c = 2\n",
        "K = 50\n",
        "mu = 100\n",
        "sigma = 20\n",
        "s, S, cost, _, _, _ = finite_horizon_dp(T, h, p, h_term, p_term, c, K, mu, sigma)\n",
        "s, S"
      ],
      "metadata": {
        "id": "4zXdUcFNnJqB"
      },
      "execution_count": null,
      "outputs": []
    },
    {
      "cell_type": "markdown",
      "source": [
        "Let's confirm that if $K=0$, the $s$ values equal the $S$ values, i.e., we have a base-stock policy:"
      ],
      "metadata": {
        "id": "Z5MLkmLTpkFb"
      }
    },
    {
      "cell_type": "code",
      "source": [
        "K = 0\n",
        "s, S, cost, _, _, _ = finite_horizon_dp(T, h, p, h_term, p_term, c, K, mu, sigma)\n",
        "s, S"
      ],
      "metadata": {
        "id": "TWCYgAYjp2o6"
      },
      "execution_count": null,
      "outputs": []
    },
    {
      "cell_type": "markdown",
      "source": [
        "The input parameters `trunc_tol`, `d_spread`, and `s_spread`, and the output parameter `x_range`, relate to the truncation and discretization performed within the function. For more details, see the [online documentation](https://stockpyl.readthedocs.io/en/latest/api/seio/finite_horizon.html#stockpyl.finite_horizon.finite_horizon_dp) or the TutORial."
      ],
      "metadata": {
        "id": "5RlSAJIAn2iB"
      }
    },
    {
      "cell_type": "markdown",
      "source": [
        "---\n",
        "**Exercise:** Suppose we have $T=4$ time periods. In each time period the holding cost is 5, the stockout cost is 120, and the fixed cost is 50.  The purchase cost in periods 1,..., 4 is 10, 40, 15, and 15, respectively. The demand mean in periods 1, ..., 4 is 150, 360, 210, and 90, respectively, and the standard deviation is 10 in every period. The terminal holding and stockout costs are 10 and 250, respectively. Find the optimal $s$ and $S$ values."
      ],
      "metadata": {
        "id": "X-Ifz8XqocR7"
      }
    },
    {
      "cell_type": "code",
      "source": [],
      "metadata": {
        "id": "zzyfL6Lfp7m2"
      },
      "execution_count": null,
      "outputs": []
    },
    {
      "cell_type": "markdown",
      "source": [
        "**Next Up:** Stockpyl Tutorial §3: Supply Uncertainty"
      ],
      "metadata": {
        "id": "FjM2sBUvbWIW"
      }
    }
  ]
}