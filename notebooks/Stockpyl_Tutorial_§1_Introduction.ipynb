{
  "nbformat": 4,
  "nbformat_minor": 0,
  "metadata": {
    "colab": {
      "provenance": [],
      "toc_visible": true,
      "authorship_tag": "ABX9TyOajX3kTO7pq1BcAeeYEisK",
      "include_colab_link": true
    },
    "kernelspec": {
      "name": "python3",
      "display_name": "Python 3"
    },
    "language_info": {
      "name": "python"
    }
  },
  "cells": [
    {
      "cell_type": "markdown",
      "metadata": {
        "id": "view-in-github",
        "colab_type": "text"
      },
      "source": [
        "<a href=\"https://colab.research.google.com/github/LarrySnyder/stockpyl/blob/master/notebooks/Stockpyl_Tutorial_%C2%A71_Introduction.ipynb\" target=\"_parent\"><img src=\"https://colab.research.google.com/assets/colab-badge.svg\" alt=\"Open In Colab\"/></a>"
      ]
    },
    {
      "cell_type": "markdown",
      "source": [
        "Stockpyl Tutorial\n",
        "=================\n",
        "\n",
        "(This notebook is a companion to Snyder, L. V., \"[Stockpyl: A Python Package for Inventory Optimization and Simulation](https://pubsonline.informs.org/doi/10.1287/educ.2023.0256),\" in: Bish, E. K. and H. Balasubramanian, _INFORMS TutORials in Operations Research_, 156–197, 2023.)\n",
        "\n"
      ],
      "metadata": {
        "id": "det0HwZhTR0n"
      }
    },
    {
      "cell_type": "markdown",
      "source": [
        "# Section 1: Introduction\n"
      ],
      "metadata": {
        "id": "ncSTvworgH0b"
      }
    },
    {
      "cell_type": "markdown",
      "source": [
        "## 1.1 About Stockpyl\n",
        "\n",
        "Stockpyl is a Python package for inventory optimization and simulation. It implements classical single-node inventory models like the economic order quantity (EOQ), newsvendor, and Wagner–Whitin problems. It also contains algorithms for multi-echelon inventory optimization (MEIO) under both stochastic-service model (SSM) and guaranteed-service model (GSM) assumptions. Moreover, it has extensive features for simulating multi-echelon inventory systems.\n",
        "\n",
        "In these notebooks and the accompanying TutORial, we provide an overview of the inventory-optimization features of Stockpyl. Stockpyl also has simulation features, but they are outside the scope of the TutORial and will be discussed in a future document."
      ],
      "metadata": {
        "id": "JhjjxCjFUjBA"
      }
    },
    {
      "cell_type": "markdown",
      "source": [
        "\n",
        "> **Remark:** The notation and references (equations, sections, examples, etc.) used throughout this tutorial refer to Snyder and Shen, _[Fundamentals of Supply Chain Theory](https://coral.ise.lehigh.edu/sctheory/)_, 2nd edition (2019). We will use the shorthand _FoSCT_ to refer to this text."
      ],
      "metadata": {
        "id": "-AsV18C7U05j"
      }
    },
    {
      "cell_type": "markdown",
      "source": [
        "Stockpyl\n",
        "\n",
        "For more info:\n",
        "* `stockpyl` package on [PyPI](https://pypi.org/project/stockpyl/)\n",
        "* `stockpyl` documentation on [Read the Docs](https://stockpyl.readthedocs.io/en/latest/index.html)\n",
        "* `stockpyl` source code on [GitHub](https://github.com/LarrySnyder/stockpyl)"
      ],
      "metadata": {
        "id": "iysZHuu_VQEf"
      }
    },
    {
      "cell_type": "markdown",
      "source": [
        "Feedback, suggestions, feature requests, and bug reports about Stockpyl are always welcome. The preferred method is to post an issue on the Stockpyl GitHub repo at https://github.com/LarrySnyder/stockpyl/issues. Alternatively, feel free to email me.\n",
        "\n",
        "If you wish to contribute to the Stockpyl project, you can browse the outstanding issues at the link above, or develop code to address an aspect you are interested in. Once your code is ready for review, please submit a pull request at https://github.com/LarrySnyder/stockpyl/pulls. Thank you for your contributions."
      ],
      "metadata": {
        "id": "x_-hyYe2bChT"
      }
    },
    {
      "cell_type": "markdown",
      "source": [
        "## 1.2 A Few Quick Examples"
      ],
      "metadata": {
        "id": "OtLhd69pVkl5"
      }
    },
    {
      "cell_type": "markdown",
      "source": [
        "First, we need to install the Stockpyl package locally. (If you are installing `stockpyl` locally, not in a Google Colab notebook, delete the exclamation point (`!`).)"
      ],
      "metadata": {
        "id": "zXzNiQynVzIn"
      }
    },
    {
      "cell_type": "code",
      "source": [
        "!pip install stockpyl"
      ],
      "metadata": {
        "id": "O9LN4wEYWaQq"
      },
      "execution_count": null,
      "outputs": []
    },
    {
      "cell_type": "markdown",
      "source": [
        "Next, import the package as usual:"
      ],
      "metadata": {
        "id": "vnJsku-zXH2J"
      }
    },
    {
      "cell_type": "code",
      "source": [
        "import stockpyl"
      ],
      "metadata": {
        "id": "FMysDtebXJil"
      },
      "execution_count": null,
      "outputs": []
    },
    {
      "cell_type": "markdown",
      "source": [
        "Stockpyl is organized into [modules](https://stockpyl.readthedocs.io/en/latest/api/api.html), each of which contains code for a particular aspect of inventory optimization or simulation:\n",
        "\n",
        "* Single-Echelon Inventory Optimization\n",
        "    * `eoq` Module\n",
        "    * `newsvendor` Module\n",
        "    * `rq` Module\n",
        "    * `ss` Module\n",
        "    * `wagner_whitin` Module\n",
        "    * `finite_horizon` Module\n",
        "    * `supply_uncertainty` Module\n",
        "* Multi-Echelon Inventory Optimization\n",
        "    * `ssm_serial` Module\n",
        "    * `gsm_tree` Module\n",
        "    * `gsm_serial` Module\n",
        "    * `gsm_helpers` Module\n",
        "    * `meio_general` Module\n",
        "* Simulation\n",
        "    * `sim` Module\n",
        "    * `sim_io` Module\n",
        "* Data Types\n",
        "    * `supply_chain_node` Module\n",
        "    * `supply_chain_network` Module\n",
        "    * `demand_source` Module\n",
        "    * `policy` Module\n",
        "    * `disruption_process` Module\n",
        "* Other Modules\n",
        "    * `instances` Module\n",
        "    * `loss_functions` Module\n",
        "    * `optimization` Module\n",
        "    * `helpers` Module\n",
        "\n",
        "This tutorial will mostly discuss the Single- and Multi-Echelon Inventory Optimization modules."
      ],
      "metadata": {
        "id": "K8be-vRIXvjC"
      }
    },
    {
      "cell_type": "markdown",
      "source": [
        "---\n",
        "First up: Solve the EOQ problem with a fixed cost of 8, a holding cost of 0.225, and a demand rate of 1300 (Example 3.1 in _FoSCT_):"
      ],
      "metadata": {
        "id": "OeSnELXvVq4g"
      }
    },
    {
      "cell_type": "code",
      "execution_count": null,
      "metadata": {
        "id": "i_dXiq5ZSlvp"
      },
      "outputs": [],
      "source": [
        "from stockpyl.eoq import economic_order_quantity\n",
        "Q, cost = economic_order_quantity(fixed_cost=8, holding_cost=0.225, demand_rate=1300)"
      ]
    },
    {
      "cell_type": "markdown",
      "source": [
        "Display the values returned:"
      ],
      "metadata": {
        "id": "HswQDZlXY_Dz"
      }
    },
    {
      "cell_type": "code",
      "source": [
        "Q, cost"
      ],
      "metadata": {
        "id": "ytIxQtHKY99_"
      },
      "execution_count": null,
      "outputs": []
    },
    {
      "cell_type": "markdown",
      "source": [
        "Solve the newsvendor problem with a holding cost of 0.18, a stockout cost of 0.70, and demand that is normally distributed with mean 50 and standard deviation 8 (Example 4.3 in _FoSCT_):\n"
      ],
      "metadata": {
        "id": "V_Np4SCMZHUc"
      }
    },
    {
      "cell_type": "code",
      "source": [
        "from stockpyl.newsvendor import newsvendor_normal\n",
        "S, cost = newsvendor_normal(holding_cost=0.18, stockout_cost=0.70, demand_mean=50, demand_sd=8)"
      ],
      "metadata": {
        "id": "EEx1seSUY9Ej"
      },
      "execution_count": null,
      "outputs": []
    },
    {
      "cell_type": "code",
      "source": [
        "S, cost"
      ],
      "metadata": {
        "id": "pAooHGxPZP91"
      },
      "execution_count": null,
      "outputs": []
    },
    {
      "cell_type": "markdown",
      "source": [
        "> **Remark:** Most functions in Stockpyl use longer, more descriptive parameter names (`holding_cost`, `fixed_cost`, etc.) rather than the shorter notation assigned to them in textbooks and articles ($h$, $K$, etc.)."
      ],
      "metadata": {
        "id": "gnPjMXnhZZgY"
      }
    },
    {
      "cell_type": "markdown",
      "source": [
        "Stockpyl can solve the Wagner–Whitin model using dynamic programming (DP):"
      ],
      "metadata": {
        "id": "8fYC1_oBZr3A"
      }
    },
    {
      "cell_type": "code",
      "source": [
        "from stockpyl.wagner_whitin import wagner_whitin\n",
        "T = 4\n",
        "h = 2\n",
        "K = 500\n",
        "d = [90, 120, 80, 70]\n",
        "Q, cost, theta, s = wagner_whitin(T, h, K, d)"
      ],
      "metadata": {
        "id": "9N8KjeNyZQnV"
      },
      "execution_count": null,
      "outputs": []
    },
    {
      "cell_type": "code",
      "source": [
        "Q # Optimal order quantities"
      ],
      "metadata": {
        "id": "gTfEgvFNZx1n"
      },
      "execution_count": null,
      "outputs": []
    },
    {
      "cell_type": "code",
      "source": [
        "cost # Optimal cost"
      ],
      "metadata": {
        "id": "mpOhFvSKZzWg"
      },
      "execution_count": null,
      "outputs": []
    },
    {
      "cell_type": "code",
      "source": [
        "theta # Cost-to-go function"
      ],
      "metadata": {
        "id": "eTnvFOEVZ17n"
      },
      "execution_count": null,
      "outputs": []
    },
    {
      "cell_type": "code",
      "source": [
        "s # Optimal next period to order in"
      ],
      "metadata": {
        "id": "jxCzRUKtZ3yD"
      },
      "execution_count": null,
      "outputs": []
    },
    {
      "cell_type": "markdown",
      "source": [
        "And finite-horizon, stochastic inventory optimization models, also via DP:"
      ],
      "metadata": {
        "id": "kzwUHoR9a0E8"
      }
    },
    {
      "cell_type": "code",
      "source": [
        "from stockpyl.finite_horizon import finite_horizon_dp\n",
        "T = 5\n",
        "h = 1\n",
        "p = 20\n",
        "h_terminal = 1\n",
        "p_terminal = 20\n",
        "c = 2\n",
        "K = 50\n",
        "mu = 100\n",
        "sigma = 20\n",
        "s, S, cost, _, _, _ = finite_horizon_dp(T, h, p, h_terminal, p_terminal,\n",
        "    c, K, mu, sigma)"
      ],
      "metadata": {
        "id": "DctsMVvRZ6ef"
      },
      "execution_count": null,
      "outputs": []
    },
    {
      "cell_type": "code",
      "source": [
        "s # Reorder points"
      ],
      "metadata": {
        "id": "VcKg2vv-aO70"
      },
      "execution_count": null,
      "outputs": []
    },
    {
      "cell_type": "code",
      "source": [
        "S # Order-up-to levels"
      ],
      "metadata": {
        "id": "DV5B5FzXaQ_2"
      },
      "execution_count": null,
      "outputs": []
    },
    {
      "cell_type": "markdown",
      "source": [
        "Stockpyl includes an implementation of the Clark and Scarf (1960) algorithm for stochastic serial systems (or, more precisely, Chen and Zheng's (1994) reworking of it:"
      ],
      "metadata": {
        "id": "ck8o9RM4aWl5"
      }
    },
    {
      "cell_type": "code",
      "source": [
        "from stockpyl.supply_chain_network import serial_system\n",
        "from stockpyl.ssm_serial import optimize_base_stock_levels\n",
        "# Build network.\n",
        "network = serial_system(\n",
        "        num_nodes=3,\n",
        "        node_order_in_system=[3, 2, 1],\n",
        "        echelon_holding_cost=[4, 3, 1],\n",
        "        local_holding_cost=[4, 7, 8],\n",
        "        shipment_lead_time=[1, 1, 2],\n",
        "        stockout_cost=40,\n",
        "        demand_type='N',\n",
        "        mean=10,\n",
        "        standard_deviation=2\n",
        "    )\n",
        "# Optimize echelon base-stock levels.\n",
        "S_star, C_star = optimize_base_stock_levels(network=network)"
      ],
      "metadata": {
        "id": "TVDy9U3daTc3"
      },
      "execution_count": null,
      "outputs": []
    },
    {
      "cell_type": "code",
      "source": [
        "S_star # Optimal base-stock levels."
      ],
      "metadata": {
        "id": "vYDVK3RNalVJ"
      },
      "execution_count": null,
      "outputs": []
    },
    {
      "cell_type": "code",
      "source": [
        "C_star # Optimal expected cost."
      ],
      "metadata": {
        "id": "KGN09I_iapcV"
      },
      "execution_count": null,
      "outputs": []
    },
    {
      "cell_type": "markdown",
      "source": [
        "Stockpyl has extensive features for simulating multi-echelon inventory systems. The code below simulates the same serial system as above, obtaining an average cost per period that is similar to what the theoretical model predicted."
      ],
      "metadata": {
        "id": "epYvy9imauAn"
      }
    },
    {
      "cell_type": "code",
      "source": [
        "from stockpyl.supply_chain_network import echelon_to_local_base_stock_levels\n",
        "from stockpyl.sim import simulation\n",
        "from stockpyl.policy import Policy\n",
        "# Convert to local base-stock levels and set nodes' inventory policies.\n",
        "S_star_local = echelon_to_local_base_stock_levels(network, S_star)\n",
        "for n in network.nodes:\n",
        "\t     n.inventory_policy = Policy(type='BS',\n",
        "    \t     base_stock_level=S_star_local[n.index], node=n)\n",
        "# Simulate the system.\n",
        "T = 1000\n",
        "total_cost = simulation(network=network, num_periods=T, rand_seed=42)"
      ],
      "metadata": {
        "id": "WR43rfURaq5D"
      },
      "execution_count": null,
      "outputs": []
    },
    {
      "cell_type": "code",
      "source": [
        "total_cost / T # average total cost per period (compare to 227.15 above)."
      ],
      "metadata": {
        "id": "CAuNlY5sa3cl"
      },
      "execution_count": null,
      "outputs": []
    },
    {
      "cell_type": "markdown",
      "source": [
        "Stockpyl also implements Graves and Willems's (2000) dynamic programming algorithm for optimizing committed service times (CSTs) in acyclical guaranteed-service model (GSM) systems:"
      ],
      "metadata": {
        "id": "jXpbyLFGa879"
      }
    },
    {
      "cell_type": "code",
      "source": [
        "from stockpyl.gsm_tree import optimize_committed_service_times\n",
        "from stockpyl.instances import load_instance\n",
        "# Load a named instance, Example 6.5 from FoSCT.\n",
        "tree = load_instance(\"example_6_5\")\n",
        "# Optimize committed service times.\n",
        "opt_cst, opt_cost = optimize_committed_service_times(tree)"
      ],
      "metadata": {
        "id": "_3vI4ZaIa4YO"
      },
      "execution_count": null,
      "outputs": []
    },
    {
      "cell_type": "code",
      "source": [
        "opt_cst # Optimal committed service times."
      ],
      "metadata": {
        "id": "D-gf-744bD0O"
      },
      "execution_count": null,
      "outputs": []
    },
    {
      "cell_type": "code",
      "source": [
        "opt_cost # Optimal expected cost."
      ],
      "metadata": {
        "id": "L7_-wa10bG1S"
      },
      "execution_count": null,
      "outputs": []
    },
    {
      "cell_type": "markdown",
      "source": [
        "**Next Up:** Stockpyl Tutorial §2: Single-Echelon Inventory Optimization"
      ],
      "metadata": {
        "id": "FjM2sBUvbWIW"
      }
    }
  ]
}