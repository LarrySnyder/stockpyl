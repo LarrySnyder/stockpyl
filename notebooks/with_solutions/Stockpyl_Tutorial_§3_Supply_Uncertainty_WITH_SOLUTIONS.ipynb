{
  "nbformat": 4,
  "nbformat_minor": 0,
  "metadata": {
    "colab": {
      "provenance": [],
      "toc_visible": true,
      "authorship_tag": "ABX9TyM/LEgwR+0J2GpbEOYsrGWl",
      "include_colab_link": true
    },
    "kernelspec": {
      "name": "python3",
      "display_name": "Python 3"
    },
    "language_info": {
      "name": "python"
    }
  },
  "cells": [
    {
      "cell_type": "markdown",
      "metadata": {
        "id": "view-in-github",
        "colab_type": "text"
      },
      "source": [
        "<a href=\"https://colab.research.google.com/github/LarrySnyder/stockpyl/blob/master/notebooks/with_solutions/Stockpyl_Tutorial_%C2%A73_Supply_Uncertainty_WITH_SOLUTIONS.ipynb\" target=\"_parent\"><img src=\"https://colab.research.google.com/assets/colab-badge.svg\" alt=\"Open In Colab\"/></a>"
      ]
    },
    {
      "cell_type": "markdown",
      "source": [
        "Stockpyl Tutorial\n",
        "=================\n",
        "\n",
        "(This notebook is a companion to Snyder, L. V., \"[Stockpyl: A Python Package for Inventory Optimization and Simulation](https://pubsonline.informs.org/doi/10.1287/educ.2023.0256),\" in: Bish, E. K. and H. Balasubramanian, _INFORMS TutORials in Operations Research_, 156–197, 2023.)\n",
        "\n"
      ],
      "metadata": {
        "id": "det0HwZhTR0n"
      }
    },
    {
      "cell_type": "markdown",
      "source": [
        "# Section 3: Supply Uncertainty\n",
        "\n",
        "The literature on inventory optimization with supply uncertainty considers two main types of supply uncertainty: disruptions (in which the supplier is unavailable for a random period of time) and yield uncertainty (in which the quantity delivered differs randomly from the quantity ordered). (Other forms of supply uncertainty, such as lead time uncertainty or capacity uncertainty, are somewhat less well-studied in the literature, and are not implemented in Stockpyl.)\n",
        "In particular, the `supply_uncertainty` module in Stockpyl implements the following:\n",
        "\n",
        "* The economic order quantity (EOQ) model with disruptions (Section 3.1.1)\n",
        "* The economic order quantity (EOQ) model with yield uncertainty (Section 3.1.2)\n",
        "* The newsvendor model with disruptions (Section 3.2.1)\n",
        "* The newsvendor with yield uncertainty (Section 3.2.2)\n",
        "\n",
        "The models implemented in Stockpyl (and most inventory models with disruptions) treat disruptions as binary events---either the supplier is completely disrupted and cannot supply any items, or it is completely operational and has infinite supply available. The supplier's status is governed by a 2-state Markov chain, with the `UP` and `DOWN` states indicating that the supplier is operational or disrupted, respectively. For continuous-review inventory models (EOQ), we use a continuous-time Markov chain (CTMC) with given transition rates, and for periodic-review models (newsvendor), we use a discrete-time Markov chain (DTMC) with given transition probabilties. These are discussed in more detail in Sections 3.1.1 and 3.2.1. For reviews of inventory models with disruptions, see Atan and Snyder (2012) or Snyder, et al. (2016).\n",
        "\n",
        "In contrast, yield uncertainty assumes that the supplier is always operational, but the quantity delivered differs from the quantity ordered by a random amount. Stockpyl handles two common types of yield uncertainty, additive and multiplicative. In additive yield uncertainty, if we order $Q$ units, we receive $Q+Y$, where $Y$ is a random variable. In multiplicative yield uncertainty, we receive $QZ$ units, where $Z$ is a random variable. In both cases, the probability distribution of the yield ($Y$ or $Z$) is assumed to be known, analogous to the case of demand uncertainty. Sometimes, restrictions are placed on the yield random variables; for example, we might assume $Y \\le 0$ or $Z \\le 1$ to ensure that the quantity received is not greater than the quantity ordered. (This is realistic in some settings but not in others; for example, in agriculture or chemical manufacturing, the yield is sometimes larger than intended.) However, Stockpyl does not impose such restrictions; if restrictions are required, they should be incorporated into the distribution information passed to the functions. For reviews of inventory models with yield uncertainty, see Grosfeld Nir and Gerchak (2004) or Yano and Lee (1995).\n",
        "\n"
      ],
      "metadata": {
        "id": "jyAuLSd2gDjr"
      }
    },
    {
      "cell_type": "markdown",
      "source": [
        "First, install the package:"
      ],
      "metadata": {
        "id": "3kwwXWHgwnYo"
      }
    },
    {
      "cell_type": "code",
      "source": [
        "!pip install stockpyl"
      ],
      "metadata": {
        "colab": {
          "base_uri": "https://localhost:8080/",
          "height": 1000
        },
        "id": "HkrEPNHgwpDP",
        "outputId": "d16f2fd3-d66c-4ea8-d071-2dabf484c92d"
      },
      "execution_count": 1,
      "outputs": [
        {
          "output_type": "stream",
          "name": "stdout",
          "text": [
            "Collecting stockpyl\n",
            "  Downloading stockpyl-0.0.14-py3-none-any.whl (146 kB)\n",
            "\u001b[?25l     \u001b[90m━━━━━━━━━━━━━━━━━━━━━━━━━━━━━━━━━━━━━━━━\u001b[0m \u001b[32m0.0/146.3 kB\u001b[0m \u001b[31m?\u001b[0m eta \u001b[36m-:--:--\u001b[0m\r\u001b[2K     \u001b[91m━━━━━━━━━━━━━━━━━━━━━━━━━━━━━━━━━━━━━━━\u001b[0m\u001b[90m╺\u001b[0m \u001b[32m143.4/146.3 kB\u001b[0m \u001b[31m5.3 MB/s\u001b[0m eta \u001b[36m0:00:01\u001b[0m\r\u001b[2K     \u001b[90m━━━━━━━━━━━━━━━━━━━━━━━━━━━━━━━━━━━━━━━━\u001b[0m \u001b[32m146.3/146.3 kB\u001b[0m \u001b[31m4.0 MB/s\u001b[0m eta \u001b[36m0:00:00\u001b[0m\n",
            "\u001b[?25hRequirement already satisfied: build>=0.0.2 in /usr/local/lib/python3.10/dist-packages (from stockpyl) (1.0.3)\n",
            "Requirement already satisfied: jsonpickle>=1.0 in /usr/local/lib/python3.10/dist-packages (from stockpyl) (3.0.2)\n",
            "Requirement already satisfied: matplotlib>=2.0 in /usr/local/lib/python3.10/dist-packages (from stockpyl) (3.7.1)\n",
            "Requirement already satisfied: networkx>=2.0 in /usr/local/lib/python3.10/dist-packages (from stockpyl) (3.1)\n",
            "Requirement already satisfied: numpy>=1.21 in /usr/local/lib/python3.10/dist-packages (from stockpyl) (1.23.5)\n",
            "Requirement already satisfied: scipy>=1.6.0 in /usr/local/lib/python3.10/dist-packages (from stockpyl) (1.11.3)\n",
            "Requirement already satisfied: setuptools>=49.6 in /usr/local/lib/python3.10/dist-packages (from stockpyl) (67.7.2)\n",
            "Collecting sphinx==4.5.0 (from stockpyl)\n",
            "  Downloading Sphinx-4.5.0-py3-none-any.whl (3.1 MB)\n",
            "\u001b[2K     \u001b[90m━━━━━━━━━━━━━━━━━━━━━━━━━━━━━━━━━━━━━━━━\u001b[0m \u001b[32m3.1/3.1 MB\u001b[0m \u001b[31m17.1 MB/s\u001b[0m eta \u001b[36m0:00:00\u001b[0m\n",
            "\u001b[?25hCollecting sphinx-rtd-theme>=1.0.0 (from stockpyl)\n",
            "  Downloading sphinx_rtd_theme-1.3.0-py2.py3-none-any.whl (2.8 MB)\n",
            "\u001b[2K     \u001b[90m━━━━━━━━━━━━━━━━━━━━━━━━━━━━━━━━━━━━━━━━\u001b[0m \u001b[32m2.8/2.8 MB\u001b[0m \u001b[31m32.8 MB/s\u001b[0m eta \u001b[36m0:00:00\u001b[0m\n",
            "\u001b[?25hCollecting sphinx-toolbox>=3.1.2 (from stockpyl)\n",
            "  Downloading sphinx_toolbox-3.5.0-py3-none-any.whl (526 kB)\n",
            "\u001b[2K     \u001b[90m━━━━━━━━━━━━━━━━━━━━━━━━━━━━━━━━━━━━━━━━\u001b[0m \u001b[32m526.4/526.4 kB\u001b[0m \u001b[31m30.4 MB/s\u001b[0m eta \u001b[36m0:00:00\u001b[0m\n",
            "\u001b[?25hRequirement already satisfied: tabulate>=0.8.7 in /usr/local/lib/python3.10/dist-packages (from stockpyl) (0.9.0)\n",
            "Requirement already satisfied: tqdm>=4.1.0 in /usr/local/lib/python3.10/dist-packages (from stockpyl) (4.66.1)\n",
            "Requirement already satisfied: sphinxcontrib-applehelp in /usr/local/lib/python3.10/dist-packages (from sphinx==4.5.0->stockpyl) (1.0.7)\n",
            "Requirement already satisfied: sphinxcontrib-devhelp in /usr/local/lib/python3.10/dist-packages (from sphinx==4.5.0->stockpyl) (1.0.5)\n",
            "Requirement already satisfied: sphinxcontrib-jsmath in /usr/local/lib/python3.10/dist-packages (from sphinx==4.5.0->stockpyl) (1.0.1)\n",
            "Requirement already satisfied: sphinxcontrib-htmlhelp>=2.0.0 in /usr/local/lib/python3.10/dist-packages (from sphinx==4.5.0->stockpyl) (2.0.4)\n",
            "Requirement already satisfied: sphinxcontrib-serializinghtml>=1.1.5 in /usr/local/lib/python3.10/dist-packages (from sphinx==4.5.0->stockpyl) (1.1.9)\n",
            "Requirement already satisfied: sphinxcontrib-qthelp in /usr/local/lib/python3.10/dist-packages (from sphinx==4.5.0->stockpyl) (1.0.6)\n",
            "Requirement already satisfied: Jinja2>=2.3 in /usr/local/lib/python3.10/dist-packages (from sphinx==4.5.0->stockpyl) (3.1.2)\n",
            "Requirement already satisfied: Pygments>=2.0 in /usr/local/lib/python3.10/dist-packages (from sphinx==4.5.0->stockpyl) (2.16.1)\n",
            "Collecting docutils<0.18,>=0.14 (from sphinx==4.5.0->stockpyl)\n",
            "  Downloading docutils-0.17.1-py2.py3-none-any.whl (575 kB)\n",
            "\u001b[2K     \u001b[90m━━━━━━━━━━━━━━━━━━━━━━━━━━━━━━━━━━━━━━━━\u001b[0m \u001b[32m575.5/575.5 kB\u001b[0m \u001b[31m23.5 MB/s\u001b[0m eta \u001b[36m0:00:00\u001b[0m\n",
            "\u001b[?25hRequirement already satisfied: snowballstemmer>=1.1 in /usr/local/lib/python3.10/dist-packages (from sphinx==4.5.0->stockpyl) (2.2.0)\n",
            "Requirement already satisfied: babel>=1.3 in /usr/local/lib/python3.10/dist-packages (from sphinx==4.5.0->stockpyl) (2.13.0)\n",
            "Requirement already satisfied: alabaster<0.8,>=0.7 in /usr/local/lib/python3.10/dist-packages (from sphinx==4.5.0->stockpyl) (0.7.13)\n",
            "Requirement already satisfied: imagesize in /usr/local/lib/python3.10/dist-packages (from sphinx==4.5.0->stockpyl) (1.4.1)\n",
            "Requirement already satisfied: requests>=2.5.0 in /usr/local/lib/python3.10/dist-packages (from sphinx==4.5.0->stockpyl) (2.31.0)\n",
            "Requirement already satisfied: packaging in /usr/local/lib/python3.10/dist-packages (from sphinx==4.5.0->stockpyl) (23.2)\n",
            "Requirement already satisfied: pyproject_hooks in /usr/local/lib/python3.10/dist-packages (from build>=0.0.2->stockpyl) (1.0.0)\n",
            "Requirement already satisfied: tomli>=1.1.0 in /usr/local/lib/python3.10/dist-packages (from build>=0.0.2->stockpyl) (2.0.1)\n",
            "Requirement already satisfied: contourpy>=1.0.1 in /usr/local/lib/python3.10/dist-packages (from matplotlib>=2.0->stockpyl) (1.1.1)\n",
            "Requirement already satisfied: cycler>=0.10 in /usr/local/lib/python3.10/dist-packages (from matplotlib>=2.0->stockpyl) (0.12.1)\n",
            "Requirement already satisfied: fonttools>=4.22.0 in /usr/local/lib/python3.10/dist-packages (from matplotlib>=2.0->stockpyl) (4.43.1)\n",
            "Requirement already satisfied: kiwisolver>=1.0.1 in /usr/local/lib/python3.10/dist-packages (from matplotlib>=2.0->stockpyl) (1.4.5)\n",
            "Requirement already satisfied: pillow>=6.2.0 in /usr/local/lib/python3.10/dist-packages (from matplotlib>=2.0->stockpyl) (9.4.0)\n",
            "Requirement already satisfied: pyparsing>=2.3.1 in /usr/local/lib/python3.10/dist-packages (from matplotlib>=2.0->stockpyl) (3.1.1)\n",
            "Requirement already satisfied: python-dateutil>=2.7 in /usr/local/lib/python3.10/dist-packages (from matplotlib>=2.0->stockpyl) (2.8.2)\n",
            "Collecting sphinxcontrib-jquery<5,>=4 (from sphinx-rtd-theme>=1.0.0->stockpyl)\n",
            "  Downloading sphinxcontrib_jquery-4.1-py2.py3-none-any.whl (121 kB)\n",
            "\u001b[2K     \u001b[90m━━━━━━━━━━━━━━━━━━━━━━━━━━━━━━━━━━━━━━━━\u001b[0m \u001b[32m121.1/121.1 kB\u001b[0m \u001b[31m15.5 MB/s\u001b[0m eta \u001b[36m0:00:00\u001b[0m\n",
            "\u001b[?25hCollecting apeye>=0.4.0 (from sphinx-toolbox>=3.1.2->stockpyl)\n",
            "  Downloading apeye-1.4.1-py3-none-any.whl (107 kB)\n",
            "\u001b[2K     \u001b[90m━━━━━━━━━━━━━━━━━━━━━━━━━━━━━━━━━━━━━━━━\u001b[0m \u001b[32m108.0/108.0 kB\u001b[0m \u001b[31m10.9 MB/s\u001b[0m eta \u001b[36m0:00:00\u001b[0m\n",
            "\u001b[?25hCollecting autodocsumm>=0.2.0 (from sphinx-toolbox>=3.1.2->stockpyl)\n",
            "  Downloading autodocsumm-0.2.11-py3-none-any.whl (14 kB)\n",
            "Requirement already satisfied: beautifulsoup4>=4.9.1 in /usr/local/lib/python3.10/dist-packages (from sphinx-toolbox>=3.1.2->stockpyl) (4.11.2)\n",
            "Requirement already satisfied: cachecontrol[filecache]>=0.13.0 in /usr/local/lib/python3.10/dist-packages (from sphinx-toolbox>=3.1.2->stockpyl) (0.13.1)\n",
            "Collecting dict2css>=0.2.3 (from sphinx-toolbox>=3.1.2->stockpyl)\n",
            "  Downloading dict2css-0.3.0-py3-none-any.whl (25 kB)\n",
            "Collecting domdf-python-tools>=2.9.0 (from sphinx-toolbox>=3.1.2->stockpyl)\n",
            "  Downloading domdf_python_tools-3.6.1-py3-none-any.whl (127 kB)\n",
            "\u001b[2K     \u001b[90m━━━━━━━━━━━━━━━━━━━━━━━━━━━━━━━━━━━━━━━━\u001b[0m \u001b[32m127.0/127.0 kB\u001b[0m \u001b[31m15.4 MB/s\u001b[0m eta \u001b[36m0:00:00\u001b[0m\n",
            "\u001b[?25hRequirement already satisfied: filelock>=3.8.0 in /usr/local/lib/python3.10/dist-packages (from sphinx-toolbox>=3.1.2->stockpyl) (3.12.4)\n",
            "Requirement already satisfied: html5lib>=1.1 in /usr/local/lib/python3.10/dist-packages (from sphinx-toolbox>=3.1.2->stockpyl) (1.1)\n",
            "Collecting ruamel.yaml>=0.16.12 (from sphinx-toolbox>=3.1.2->stockpyl)\n",
            "  Downloading ruamel.yaml-0.17.35-py3-none-any.whl (112 kB)\n",
            "\u001b[2K     \u001b[90m━━━━━━━━━━━━━━━━━━━━━━━━━━━━━━━━━━━━━━━━\u001b[0m \u001b[32m112.9/112.9 kB\u001b[0m \u001b[31m16.0 MB/s\u001b[0m eta \u001b[36m0:00:00\u001b[0m\n",
            "\u001b[?25hCollecting sphinx-autodoc-typehints>=1.11.1 (from sphinx-toolbox>=3.1.2->stockpyl)\n",
            "  Downloading sphinx_autodoc_typehints-1.24.0-py3-none-any.whl (17 kB)\n",
            "Collecting sphinx-jinja2-compat>=0.1.0 (from sphinx-toolbox>=3.1.2->stockpyl)\n",
            "  Downloading sphinx_jinja2_compat-0.2.0-py3-none-any.whl (17 kB)\n",
            "Collecting sphinx-prompt>=1.1.0 (from sphinx-toolbox>=3.1.2->stockpyl)\n",
            "  Downloading sphinx_prompt-1.8.0-py3-none-any.whl (7.3 kB)\n",
            "Collecting sphinx-tabs<3.5.0,>=1.2.1 (from sphinx-toolbox>=3.1.2->stockpyl)\n",
            "  Downloading sphinx_tabs-3.4.1-py3-none-any.whl (10.0 kB)\n",
            "Requirement already satisfied: typing-extensions!=3.10.0.1,>=3.7.4.3 in /usr/local/lib/python3.10/dist-packages (from sphinx-toolbox>=3.1.2->stockpyl) (4.5.0)\n",
            "Collecting apeye-core>=1.0.0b2 (from apeye>=0.4.0->sphinx-toolbox>=3.1.2->stockpyl)\n",
            "  Downloading apeye_core-1.1.4-py3-none-any.whl (99 kB)\n",
            "\u001b[2K     \u001b[90m━━━━━━━━━━━━━━━━━━━━━━━━━━━━━━━━━━━━━━━━\u001b[0m \u001b[32m99.3/99.3 kB\u001b[0m \u001b[31m14.3 MB/s\u001b[0m eta \u001b[36m0:00:00\u001b[0m\n",
            "\u001b[?25hRequirement already satisfied: platformdirs>=2.3.0 in /usr/local/lib/python3.10/dist-packages (from apeye>=0.4.0->sphinx-toolbox>=3.1.2->stockpyl) (3.11.0)\n",
            "Requirement already satisfied: soupsieve>1.2 in /usr/local/lib/python3.10/dist-packages (from beautifulsoup4>=4.9.1->sphinx-toolbox>=3.1.2->stockpyl) (2.5)\n",
            "Requirement already satisfied: msgpack>=0.5.2 in /usr/local/lib/python3.10/dist-packages (from cachecontrol[filecache]>=0.13.0->sphinx-toolbox>=3.1.2->stockpyl) (1.0.7)\n",
            "Collecting cssutils>=2.2.0 (from dict2css>=0.2.3->sphinx-toolbox>=3.1.2->stockpyl)\n",
            "  Downloading cssutils-2.9.0-py3-none-any.whl (398 kB)\n",
            "\u001b[2K     \u001b[90m━━━━━━━━━━━━━━━━━━━━━━━━━━━━━━━━━━━━━━━━\u001b[0m \u001b[32m398.5/398.5 kB\u001b[0m \u001b[31m32.7 MB/s\u001b[0m eta \u001b[36m0:00:00\u001b[0m\n",
            "\u001b[?25hRequirement already satisfied: natsort>=7.0.1 in /usr/local/lib/python3.10/dist-packages (from domdf-python-tools>=2.9.0->sphinx-toolbox>=3.1.2->stockpyl) (8.4.0)\n",
            "Requirement already satisfied: six>=1.9 in /usr/local/lib/python3.10/dist-packages (from html5lib>=1.1->sphinx-toolbox>=3.1.2->stockpyl) (1.16.0)\n",
            "Requirement already satisfied: webencodings in /usr/local/lib/python3.10/dist-packages (from html5lib>=1.1->sphinx-toolbox>=3.1.2->stockpyl) (0.5.1)\n",
            "Requirement already satisfied: MarkupSafe>=2.0 in /usr/local/lib/python3.10/dist-packages (from Jinja2>=2.3->sphinx==4.5.0->stockpyl) (2.1.3)\n",
            "Requirement already satisfied: charset-normalizer<4,>=2 in /usr/local/lib/python3.10/dist-packages (from requests>=2.5.0->sphinx==4.5.0->stockpyl) (3.3.0)\n",
            "Requirement already satisfied: idna<4,>=2.5 in /usr/local/lib/python3.10/dist-packages (from requests>=2.5.0->sphinx==4.5.0->stockpyl) (3.4)\n",
            "Requirement already satisfied: urllib3<3,>=1.21.1 in /usr/local/lib/python3.10/dist-packages (from requests>=2.5.0->sphinx==4.5.0->stockpyl) (2.0.6)\n",
            "Requirement already satisfied: certifi>=2017.4.17 in /usr/local/lib/python3.10/dist-packages (from requests>=2.5.0->sphinx==4.5.0->stockpyl) (2023.7.22)\n",
            "Collecting ruamel.yaml.clib>=0.2.7 (from ruamel.yaml>=0.16.12->sphinx-toolbox>=3.1.2->stockpyl)\n",
            "  Downloading ruamel.yaml.clib-0.2.8-cp310-cp310-manylinux_2_17_x86_64.manylinux2014_x86_64.manylinux_2_24_x86_64.whl (526 kB)\n",
            "\u001b[2K     \u001b[90m━━━━━━━━━━━━━━━━━━━━━━━━━━━━━━━━━━━━━━━━\u001b[0m \u001b[32m526.7/526.7 kB\u001b[0m \u001b[31m30.1 MB/s\u001b[0m eta \u001b[36m0:00:00\u001b[0m\n",
            "\u001b[?25hINFO: pip is looking at multiple versions of sphinx-autodoc-typehints to determine which version is compatible with other requirements. This could take a while.\n",
            "Collecting sphinx-autodoc-typehints>=1.11.1 (from sphinx-toolbox>=3.1.2->stockpyl)\n",
            "  Downloading sphinx_autodoc_typehints-1.23.3-py3-none-any.whl (18 kB)\n",
            "  Downloading sphinx_autodoc_typehints-1.23.2-py3-none-any.whl (18 kB)\n",
            "  Downloading sphinx_autodoc_typehints-1.23.1-py3-none-any.whl (18 kB)\n",
            "  Downloading sphinx_autodoc_typehints-1.23.0-py3-none-any.whl (17 kB)\n",
            "  Downloading sphinx_autodoc_typehints-1.22-py3-none-any.whl (17 kB)\n",
            "  Downloading sphinx_autodoc_typehints-1.21.8-py3-none-any.whl (17 kB)\n",
            "  Downloading sphinx_autodoc_typehints-1.21.7-py3-none-any.whl (16 kB)\n",
            "INFO: pip is looking at multiple versions of sphinx-autodoc-typehints to determine which version is compatible with other requirements. This could take a while.\n",
            "  Downloading sphinx_autodoc_typehints-1.21.6-py3-none-any.whl (16 kB)\n",
            "  Downloading sphinx_autodoc_typehints-1.21.5-py3-none-any.whl (16 kB)\n",
            "  Downloading sphinx_autodoc_typehints-1.21.4-py3-none-any.whl (16 kB)\n",
            "  Downloading sphinx_autodoc_typehints-1.21.3-py3-none-any.whl (15 kB)\n",
            "  Downloading sphinx_autodoc_typehints-1.21.2-py3-none-any.whl (13 kB)\n",
            "INFO: This is taking longer than usual. You might need to provide the dependency resolver with stricter constraints to reduce runtime. See https://pip.pypa.io/warnings/backtracking for guidance. If you want to abort this run, press Ctrl + C.\n",
            "  Downloading sphinx_autodoc_typehints-1.21.1-py3-none-any.whl (13 kB)\n",
            "  Downloading sphinx_autodoc_typehints-1.21.0-py3-none-any.whl (13 kB)\n",
            "  Downloading sphinx_autodoc_typehints-1.20.2-py3-none-any.whl (12 kB)\n",
            "  Downloading sphinx_autodoc_typehints-1.20.1-py3-none-any.whl (12 kB)\n",
            "  Downloading sphinx_autodoc_typehints-1.20.0-py3-none-any.whl (12 kB)\n",
            "  Downloading sphinx_autodoc_typehints-1.19.5-py3-none-any.whl (12 kB)\n",
            "  Downloading sphinx_autodoc_typehints-1.19.4-py3-none-any.whl (12 kB)\n",
            "  Downloading sphinx_autodoc_typehints-1.19.3-py3-none-any.whl (12 kB)\n",
            "  Downloading sphinx_autodoc_typehints-1.19.2-py3-none-any.whl (12 kB)\n",
            "  Downloading sphinx_autodoc_typehints-1.19.1-py3-none-any.whl (12 kB)\n",
            "INFO: pip is looking at multiple versions of sphinx-prompt to determine which version is compatible with other requirements. This could take a while.\n",
            "Collecting sphinx-prompt>=1.1.0 (from sphinx-toolbox>=3.1.2->stockpyl)\n",
            "  Downloading sphinx_prompt-1.7.0-py3-none-any.whl (5.2 kB)\n",
            "  Downloading sphinx_prompt-1.6.0-py3-none-any.whl (5.2 kB)\n",
            "  Downloading sphinx_prompt-1.5.0-py3-none-any.whl (4.5 kB)\n",
            "INFO: pip is looking at multiple versions of sphinx-tabs to determine which version is compatible with other requirements. This could take a while.\n",
            "Collecting sphinx-tabs<3.5.0,>=1.2.1 (from sphinx-toolbox>=3.1.2->stockpyl)\n",
            "  Downloading sphinx_tabs-3.4.0-py3-none-any.whl (10.0 kB)\n",
            "Collecting Jinja2>=2.3 (from sphinx==4.5.0->stockpyl)\n",
            "  Downloading Jinja2-3.0.3-py3-none-any.whl (133 kB)\n",
            "\u001b[2K     \u001b[90m━━━━━━━━━━━━━━━━━━━━━━━━━━━━━━━━━━━━━━━━\u001b[0m \u001b[32m133.6/133.6 kB\u001b[0m \u001b[31m18.0 MB/s\u001b[0m eta \u001b[36m0:00:00\u001b[0m\n",
            "\u001b[?25hINFO: pip is looking at multiple versions of sphinxcontrib-htmlhelp to determine which version is compatible with other requirements. This could take a while.\n",
            "Collecting sphinxcontrib-htmlhelp>=2.0.0 (from sphinx==4.5.0->stockpyl)\n",
            "  Downloading sphinxcontrib_htmlhelp-2.0.3-py3-none-any.whl (99 kB)\n",
            "\u001b[2K     \u001b[90m━━━━━━━━━━━━━━━━━━━━━━━━━━━━━━━━━━━━━━━━\u001b[0m \u001b[32m99.2/99.2 kB\u001b[0m \u001b[31m13.4 MB/s\u001b[0m eta \u001b[36m0:00:00\u001b[0m\n",
            "\u001b[?25h  Downloading sphinxcontrib_htmlhelp-2.0.2-py3-none-any.whl (99 kB)\n",
            "\u001b[2K     \u001b[90m━━━━━━━━━━━━━━━━━━━━━━━━━━━━━━━━━━━━━━━━\u001b[0m \u001b[32m99.2/99.2 kB\u001b[0m \u001b[31m11.3 MB/s\u001b[0m eta \u001b[36m0:00:00\u001b[0m\n",
            "\u001b[?25h  Downloading sphinxcontrib_htmlhelp-2.0.1-py3-none-any.whl (99 kB)\n",
            "\u001b[2K     \u001b[90m━━━━━━━━━━━━━━━━━━━━━━━━━━━━━━━━━━━━━━━━\u001b[0m \u001b[32m99.8/99.8 kB\u001b[0m \u001b[31m13.2 MB/s\u001b[0m eta \u001b[36m0:00:00\u001b[0m\n",
            "\u001b[?25hINFO: pip is looking at multiple versions of sphinxcontrib-serializinghtml to determine which version is compatible with other requirements. This could take a while.\n",
            "Collecting sphinxcontrib-serializinghtml>=1.1.5 (from sphinx==4.5.0->stockpyl)\n",
            "  Downloading sphinxcontrib_serializinghtml-1.1.8-py3-none-any.whl (92 kB)\n",
            "\u001b[2K     \u001b[90m━━━━━━━━━━━━━━━━━━━━━━━━━━━━━━━━━━━━━━━━\u001b[0m \u001b[32m92.6/92.6 kB\u001b[0m \u001b[31m12.3 MB/s\u001b[0m eta \u001b[36m0:00:00\u001b[0m\n",
            "\u001b[?25h  Downloading sphinxcontrib_serializinghtml-1.1.7-py3-none-any.whl (92 kB)\n",
            "\u001b[2K     \u001b[90m━━━━━━━━━━━━━━━━━━━━━━━━━━━━━━━━━━━━━━━━\u001b[0m \u001b[32m92.6/92.6 kB\u001b[0m \u001b[31m12.1 MB/s\u001b[0m eta \u001b[36m0:00:00\u001b[0m\n",
            "\u001b[?25h  Downloading sphinxcontrib_serializinghtml-1.1.6-py3-none-any.whl (92 kB)\n",
            "\u001b[2K     \u001b[90m━━━━━━━━━━━━━━━━━━━━━━━━━━━━━━━━━━━━━━━━\u001b[0m \u001b[32m92.6/92.6 kB\u001b[0m \u001b[31m11.6 MB/s\u001b[0m eta \u001b[36m0:00:00\u001b[0m\n",
            "\u001b[?25h  Downloading sphinxcontrib_serializinghtml-1.1.5-py2.py3-none-any.whl (94 kB)\n",
            "\u001b[2K     \u001b[90m━━━━━━━━━━━━━━━━━━━━━━━━━━━━━━━━━━━━━━━━\u001b[0m \u001b[32m94.0/94.0 kB\u001b[0m \u001b[31m11.9 MB/s\u001b[0m eta \u001b[36m0:00:00\u001b[0m\n",
            "\u001b[?25hINFO: pip is looking at multiple versions of sphinxcontrib-applehelp to determine which version is compatible with other requirements. This could take a while.\n",
            "Collecting sphinxcontrib-applehelp (from sphinx==4.5.0->stockpyl)\n",
            "  Downloading sphinxcontrib_applehelp-1.0.6-py3-none-any.whl (120 kB)\n",
            "\u001b[2K     \u001b[90m━━━━━━━━━━━━━━━━━━━━━━━━━━━━━━━━━━━━━━━━\u001b[0m \u001b[32m120.0/120.0 kB\u001b[0m \u001b[31m16.5 MB/s\u001b[0m eta \u001b[36m0:00:00\u001b[0m\n",
            "\u001b[?25h  Downloading sphinxcontrib_applehelp-1.0.5-py3-none-any.whl (120 kB)\n",
            "\u001b[2K     \u001b[90m━━━━━━━━━━━━━━━━━━━━━━━━━━━━━━━━━━━━━━━━\u001b[0m \u001b[32m120.0/120.0 kB\u001b[0m \u001b[31m13.6 MB/s\u001b[0m eta \u001b[36m0:00:00\u001b[0m\n",
            "\u001b[?25h  Downloading sphinxcontrib_applehelp-1.0.4-py3-none-any.whl (120 kB)\n",
            "\u001b[2K     \u001b[90m━━━━━━━━━━━━━━━━━━━━━━━━━━━━━━━━━━━━━━━━\u001b[0m \u001b[32m120.6/120.6 kB\u001b[0m \u001b[31m16.8 MB/s\u001b[0m eta \u001b[36m0:00:00\u001b[0m\n",
            "\u001b[?25hINFO: pip is looking at multiple versions of sphinxcontrib-devhelp to determine which version is compatible with other requirements. This could take a while.\n",
            "Collecting sphinxcontrib-devhelp (from sphinx==4.5.0->stockpyl)\n",
            "  Downloading sphinxcontrib_devhelp-1.0.4-py3-none-any.whl (83 kB)\n",
            "\u001b[2K     \u001b[90m━━━━━━━━━━━━━━━━━━━━━━━━━━━━━━━━━━━━━━━━\u001b[0m \u001b[32m83.5/83.5 kB\u001b[0m \u001b[31m10.9 MB/s\u001b[0m eta \u001b[36m0:00:00\u001b[0m\n",
            "\u001b[?25h  Downloading sphinxcontrib_devhelp-1.0.3-py3-none-any.whl (83 kB)\n",
            "\u001b[2K     \u001b[90m━━━━━━━━━━━━━━━━━━━━━━━━━━━━━━━━━━━━━━━━\u001b[0m \u001b[32m83.5/83.5 kB\u001b[0m \u001b[31m11.0 MB/s\u001b[0m eta \u001b[36m0:00:00\u001b[0m\n",
            "\u001b[?25h  Downloading sphinxcontrib_devhelp-1.0.2-py2.py3-none-any.whl (84 kB)\n",
            "\u001b[2K     \u001b[90m━━━━━━━━━━━━━━━━━━━━━━━━━━━━━━━━━━━━━━━━\u001b[0m \u001b[32m84.7/84.7 kB\u001b[0m \u001b[31m11.2 MB/s\u001b[0m eta \u001b[36m0:00:00\u001b[0m\n",
            "\u001b[?25hINFO: pip is looking at multiple versions of sphinxcontrib-qthelp to determine which version is compatible with other requirements. This could take a while.\n",
            "Collecting sphinxcontrib-qthelp (from sphinx==4.5.0->stockpyl)\n",
            "  Downloading sphinxcontrib_qthelp-1.0.5-py3-none-any.whl (89 kB)\n",
            "\u001b[2K     \u001b[90m━━━━━━━━━━━━━━━━━━━━━━━━━━━━━━━━━━━━━━━━\u001b[0m \u001b[32m89.4/89.4 kB\u001b[0m \u001b[31m11.5 MB/s\u001b[0m eta \u001b[36m0:00:00\u001b[0m\n",
            "\u001b[?25h  Downloading sphinxcontrib_qthelp-1.0.4-py3-none-any.whl (89 kB)\n",
            "\u001b[2K     \u001b[90m━━━━━━━━━━━━━━━━━━━━━━━━━━━━━━━━━━━━━━━━\u001b[0m \u001b[32m89.4/89.4 kB\u001b[0m \u001b[31m11.6 MB/s\u001b[0m eta \u001b[36m0:00:00\u001b[0m\n",
            "\u001b[?25h  Downloading sphinxcontrib_qthelp-1.0.3-py2.py3-none-any.whl (90 kB)\n",
            "\u001b[2K     \u001b[90m━━━━━━━━━━━━━━━━━━━━━━━━━━━━━━━━━━━━━━━━\u001b[0m \u001b[32m90.6/90.6 kB\u001b[0m \u001b[31m11.9 MB/s\u001b[0m eta \u001b[36m0:00:00\u001b[0m\n",
            "\u001b[?25hInstalling collected packages: sphinxcontrib-serializinghtml, sphinxcontrib-qthelp, sphinxcontrib-htmlhelp, sphinxcontrib-devhelp, sphinxcontrib-applehelp, ruamel.yaml.clib, Jinja2, domdf-python-tools, docutils, cssutils, sphinx-jinja2-compat, sphinx, ruamel.yaml, dict2css, apeye-core, sphinxcontrib-jquery, sphinx-tabs, sphinx-prompt, sphinx-autodoc-typehints, autodocsumm, apeye, sphinx-toolbox, sphinx-rtd-theme, stockpyl\n",
            "  Attempting uninstall: sphinxcontrib-serializinghtml\n",
            "    Found existing installation: sphinxcontrib-serializinghtml 1.1.9\n",
            "    Uninstalling sphinxcontrib-serializinghtml-1.1.9:\n",
            "      Successfully uninstalled sphinxcontrib-serializinghtml-1.1.9\n",
            "  Attempting uninstall: sphinxcontrib-qthelp\n",
            "    Found existing installation: sphinxcontrib-qthelp 1.0.6\n",
            "    Uninstalling sphinxcontrib-qthelp-1.0.6:\n",
            "      Successfully uninstalled sphinxcontrib-qthelp-1.0.6\n",
            "  Attempting uninstall: sphinxcontrib-htmlhelp\n",
            "    Found existing installation: sphinxcontrib-htmlhelp 2.0.4\n",
            "    Uninstalling sphinxcontrib-htmlhelp-2.0.4:\n",
            "      Successfully uninstalled sphinxcontrib-htmlhelp-2.0.4\n",
            "  Attempting uninstall: sphinxcontrib-devhelp\n",
            "    Found existing installation: sphinxcontrib-devhelp 1.0.5\n",
            "    Uninstalling sphinxcontrib-devhelp-1.0.5:\n",
            "      Successfully uninstalled sphinxcontrib-devhelp-1.0.5\n",
            "  Attempting uninstall: sphinxcontrib-applehelp\n",
            "    Found existing installation: sphinxcontrib-applehelp 1.0.7\n",
            "    Uninstalling sphinxcontrib-applehelp-1.0.7:\n",
            "      Successfully uninstalled sphinxcontrib-applehelp-1.0.7\n",
            "  Attempting uninstall: Jinja2\n",
            "    Found existing installation: Jinja2 3.1.2\n",
            "    Uninstalling Jinja2-3.1.2:\n",
            "      Successfully uninstalled Jinja2-3.1.2\n",
            "  Attempting uninstall: docutils\n",
            "    Found existing installation: docutils 0.18.1\n",
            "    Uninstalling docutils-0.18.1:\n",
            "      Successfully uninstalled docutils-0.18.1\n",
            "  Attempting uninstall: sphinx\n",
            "    Found existing installation: Sphinx 5.0.2\n",
            "    Uninstalling Sphinx-5.0.2:\n",
            "      Successfully uninstalled Sphinx-5.0.2\n",
            "Successfully installed Jinja2-3.0.3 apeye-1.4.1 apeye-core-1.1.4 autodocsumm-0.2.11 cssutils-2.9.0 dict2css-0.3.0 docutils-0.17.1 domdf-python-tools-3.6.1 ruamel.yaml-0.17.35 ruamel.yaml.clib-0.2.8 sphinx-4.5.0 sphinx-autodoc-typehints-1.19.1 sphinx-jinja2-compat-0.2.0 sphinx-prompt-1.5.0 sphinx-rtd-theme-1.3.0 sphinx-tabs-3.4.0 sphinx-toolbox-3.5.0 sphinxcontrib-applehelp-1.0.4 sphinxcontrib-devhelp-1.0.2 sphinxcontrib-htmlhelp-2.0.1 sphinxcontrib-jquery-4.1 sphinxcontrib-qthelp-1.0.3 sphinxcontrib-serializinghtml-1.1.5 stockpyl-0.0.14\n"
          ]
        },
        {
          "output_type": "display_data",
          "data": {
            "application/vnd.colab-display-data+json": {
              "pip_warning": {
                "packages": [
                  "sphinxcontrib"
                ]
              }
            }
          },
          "metadata": {}
        }
      ]
    },
    {
      "cell_type": "markdown",
      "source": [
        "## 3.1 The EOQ Problem With Supply Uncertainty\n",
        "\n"
      ],
      "metadata": {
        "id": "05nmfg42c6QF"
      }
    },
    {
      "cell_type": "markdown",
      "source": [
        "### 3.1.1 The EOQ Problem with Disruptions (EOQD)\n",
        "\n",
        "The EOQ problem with disruptions (EOQD; _FoSCT_ §9.2.1) assumes that the supplier can be disrupted randomly, according to a 2-state CTMC. The CTMC transitions from the `UP` state to the `DOWN` state with rate $\\lambda$, known as the _disruption rate_, and from the `DOWN` state to the `UP` state with rate $\\mu$, the _recovery rate_. Therefore, the length of a given `UP` (non-disrupted) interval is exponentially distributed with a mean of $1/\\lambda$, and the length of a given `DOWN` (disrupted) interval is exponentially distributed with a mean of $1/\\mu$. Demand is constant and deterministic, as in the classical EOQ. Inventory may be depleted during a `DOWN` interval, in which case unmet demands are lost.\n",
        "\n",
        "The  [`eoq_with_disruptions()`](https://stockpyl.readthedocs.io/en/latest/api/seio/supply_uncertainty.html#stockpyl.supply_uncertainty.eoq_with_disruptions) function solves the EOQD either exactly (using models by Parlar and Berkin (1991) and Berk and Arreola-Risa (1994) and optimizing numerically), or heuristically (using an approximation by Snyder (2014)).\n"
      ],
      "metadata": {
        "id": "76ZXjE_qtqFP"
      }
    },
    {
      "cell_type": "markdown",
      "source": [
        "The [`eoq_with_disruptions()`](https://stockpyl.readthedocs.io/en/latest/api/seio/supply_uncertainty.html#stockpyl.supply_uncertainty.eoq_with_disruptions) function has the signature\n",
        "```python\n",
        "eoq_with_disruptions(fixed_cost, holding_cost, stockout_cost, demand_rate,\n",
        "    disruption_rate, recovery_rate, approximate=False)\n",
        "```\n",
        "and returns two parameters: `order_quantity` and `cost`. The function numerically optimizes the exact cost function if `approximate=False` and the approximation cost function if `approximate=True`."
      ],
      "metadata": {
        "id": "beNEGiviuY-R"
      }
    },
    {
      "cell_type": "markdown",
      "source": [
        "**Example:** Suppose the fixed cost is 8, the holding cost is 0.225, the stockout cost is 5, the demand rate is 1300, and the disruption and recovery rates are 1.5 and 14, respectively (_FoSCT_ Examples 9.1–9.2). Solving the problem exactly, we get $Q^* = 772.81$, with an expected cost of 173.95:"
      ],
      "metadata": {
        "id": "bY6vmLIBu3C6"
      }
    },
    {
      "cell_type": "code",
      "source": [
        "from stockpyl.supply_uncertainty import eoq_with_disruptions\n",
        "eoq_with_disruptions(8, 0.225, 5, 1300, 1.5, 14)"
      ],
      "metadata": {
        "colab": {
          "base_uri": "https://localhost:8080/"
        },
        "id": "C9R1bpTetpO2",
        "outputId": "3b87ce53-4807-45e0-c85a-5bf964818a64"
      },
      "execution_count": 2,
      "outputs": [
        {
          "output_type": "execute_result",
          "data": {
            "text/plain": [
              "(772.8110739983106, 173.95000257319708)"
            ]
          },
          "metadata": {},
          "execution_count": 2
        }
      ]
    },
    {
      "cell_type": "markdown",
      "source": [
        "If we instead use the approximation, we get a very close order quantity, $Q=773.14$:"
      ],
      "metadata": {
        "id": "oF3ugS_Lvrk_"
      }
    },
    {
      "cell_type": "code",
      "source": [
        "eoq_with_disruptions(8, 0.225, 5, 1300, 1.5, 14, approximate=True)"
      ],
      "metadata": {
        "colab": {
          "base_uri": "https://localhost:8080/"
        },
        "id": "-cdZ8wNQvqXf",
        "outputId": "49756cb9-9594-43ab-fbf1-ea2b5cad94ce"
      },
      "execution_count": 3,
      "outputs": [
        {
          "output_type": "execute_result",
          "data": {
            "text/plain": [
              "(773.1432417118889, 173.957229385175)"
            ]
          },
          "metadata": {},
          "execution_count": 3
        }
      ]
    },
    {
      "cell_type": "markdown",
      "source": [
        "The cost returned by `eoq_with_disruptions()` when `approximate=True` is an approximate cost. We can calculate the exact cost of the approximate order quantity using the [`eoq_with_disruptions_cost()`](https://stockpyl.readthedocs.io/en/latest/api/seio/supply_uncertainty.html#stockpyl.supply_uncertainty.eoq_with_disruptions_cost) function, which takes the order quantity as an input parameter and returns the (exact or approximate) cost. In this case, the exact and approximate costs are nearly identical:"
      ],
      "metadata": {
        "id": "2W277GqIv0rr"
      }
    },
    {
      "cell_type": "code",
      "source": [
        "from stockpyl.supply_uncertainty import eoq_with_disruptions_cost\n",
        "eoq_with_disruptions_cost(773.1432417118889, 8, 0.225, 5, 1300, 1.5, 14, approximate=False)"
      ],
      "metadata": {
        "colab": {
          "base_uri": "https://localhost:8080/"
        },
        "id": "A09S4D9Rvzum",
        "outputId": "597b3804-74e6-46f8-d5c2-c10584b9ab66"
      },
      "execution_count": 4,
      "outputs": [
        {
          "output_type": "execute_result",
          "data": {
            "text/plain": [
              "173.95001838749064"
            ]
          },
          "metadata": {},
          "execution_count": 4
        }
      ]
    },
    {
      "cell_type": "markdown",
      "source": [
        "---\n",
        "**Exercise:** Solve the EOQD with $K=17$, $h=4$, $p=60$, a demand rate of 9, and disruption and recovery rates 2 and 12, respectively. Use both the exact and approximate models, and compare their solutions and costs."
      ],
      "metadata": {
        "id": "7hiHnTiVwdRj"
      }
    },
    {
      "cell_type": "code",
      "source": [
        "## SOLUTION\n",
        "eoq_with_disruptions(17, 4, 60, 9, 2, 12, approximate=False)"
      ],
      "metadata": {
        "colab": {
          "base_uri": "https://localhost:8080/"
        },
        "id": "dRGaIwqwwtUg",
        "outputId": "d56cbc20-f9eb-439a-f17b-c707e60dbb0a"
      },
      "execution_count": 5,
      "outputs": [
        {
          "output_type": "execute_result",
          "data": {
            "text/plain": [
              "(10.16125677849806, 40.645030286768154)"
            ]
          },
          "metadata": {},
          "execution_count": 5
        }
      ]
    },
    {
      "cell_type": "code",
      "source": [
        "## SOLUTION\n",
        "eoq_with_disruptions(17, 4, 60, 9, 2, 12, approximate=True)"
      ],
      "metadata": {
        "colab": {
          "base_uri": "https://localhost:8080/"
        },
        "id": "ekUUGBNzwXjP",
        "outputId": "2172f500-9ce9-4adb-cc5f-5be48dfe73ec"
      },
      "execution_count": 6,
      "outputs": [
        {
          "output_type": "execute_result",
          "data": {
            "text/plain": [
              "(10.161257749592748, 40.64503099837099)"
            ]
          },
          "metadata": {},
          "execution_count": 6
        }
      ]
    },
    {
      "cell_type": "code",
      "source": [
        "## SOLUTION\n",
        "eoq_with_disruptions_cost(10.161257749592748, 17, 4, 60, 9, 2, 12, approximate=False)"
      ],
      "metadata": {
        "colab": {
          "base_uri": "https://localhost:8080/"
        },
        "id": "luTzUXQ5xA40",
        "outputId": "1a6de504-733f-413d-f8ce-e097d150b695"
      },
      "execution_count": 7,
      "outputs": [
        {
          "output_type": "execute_result",
          "data": {
            "text/plain": [
              "40.645030286769114"
            ]
          },
          "metadata": {},
          "execution_count": 7
        }
      ]
    },
    {
      "cell_type": "markdown",
      "source": [
        "### 3.1.2 The EOQ Problem with Yield Uncertainty\n",
        "\n",
        "In the EOQ problem with yield uncertainty (_FoSCT_ §9.3.1), an order of size $Q$ is placed, and the quantity received is $Q+Y$ (in the case of additive yield) or $QZ$ (in the case of multiplicative yield), where $Y$ and $Z$ are random variables.  The lead time is 0 and stockouts are not allowed.\n",
        "\n",
        "> **Remark:** The expected cost functions and the optimal solutions for the EOQ problems with additive and multiplicative yield uncertainty depend only on the mean and standard deviation of the yield random variable, not the entire distribution. Therefore, the corresponding functions only require these quantities, not an entire distribution function, and they make no assumptions about the shape of the distribution.\n",
        "\n",
        "The Stockpyl functions for EOQ with yield uncertainty have the signatures\n",
        "```python\n",
        "eoq_with_additive_yield_uncertainty(fixed_cost, holding_cost, demand_rate,\n",
        "\tyield_mean, yield_sd, order_quantity=None)\n",
        "eoq_with_multiplicative_yield_uncertainty(fixed_cost, holding_cost,\n",
        "\tdemand_rate, yield_mean, yield_sd, order_quantity=None)\n",
        "```\n",
        "Each function returns two parameters: `order_quantity` and `cost`. The optimal input parameter `order_quantity` allows you to provide the order quantity, in which case the function will simply calculate the cost for that order quantity.\n"
      ],
      "metadata": {
        "id": "C6vTP-YFxIZD"
      }
    },
    {
      "cell_type": "markdown",
      "source": [
        "**Example:** Suppose the fixed cost is 18500, the holding cost is 0.06 per item per month, the demand rate is 75000 per month, and there is additive yield uncertainty with $Y\\sim N(-15000,9000^2)$ (_FoSCT_ Example 9.4). That is, the yield is, on average, 15000 units less than $Q$, with a standard deviation of 9000. Solving the problem optimally, we get an optimal order quantity of 230246.37, with an opimal expected cost of 12914.78 per month:"
      ],
      "metadata": {
        "id": "-AbJqF_LxsUR"
      }
    },
    {
      "cell_type": "code",
      "source": [
        "from stockpyl.supply_uncertainty import eoq_with_additive_yield_uncertainty\n",
        "import math\n",
        "eoq_with_additive_yield_uncertainty(18500, 0.06, 75000, -15000, 9000)"
      ],
      "metadata": {
        "colab": {
          "base_uri": "https://localhost:8080/"
        },
        "id": "lXKG5CTqxGhI",
        "outputId": "ee57e923-3443-425b-ac6d-3da22dc7f026"
      },
      "execution_count": 9,
      "outputs": [
        {
          "output_type": "execute_result",
          "data": {
            "text/plain": [
              "(230246.37046881882, 12914.78222812913)"
            ]
          },
          "metadata": {},
          "execution_count": 9
        }
      ]
    },
    {
      "cell_type": "markdown",
      "source": [
        "We can also provide the function with an order quantity in order to calculate the cost of that quantity (without optimizing):"
      ],
      "metadata": {
        "id": "Uo1j6mOvymqz"
      }
    },
    {
      "cell_type": "code",
      "source": [
        "eoq_with_additive_yield_uncertainty(18500, 0.06, 75000, -15000, 9000, order_quantity=300000)"
      ],
      "metadata": {
        "colab": {
          "base_uri": "https://localhost:8080/"
        },
        "id": "_u83UjLCyjGk",
        "outputId": "ec301da6-e60c-415c-b2f8-105f56878902"
      },
      "execution_count": 10,
      "outputs": [
        {
          "output_type": "execute_result",
          "data": {
            "text/plain": [
              "(300000, 13426.947368421053)"
            ]
          },
          "metadata": {},
          "execution_count": 10
        }
      ]
    },
    {
      "cell_type": "markdown",
      "source": [
        "**Example:** Suppose instead that the yield uncertainty is multiplicative, with $Z\\sim \\text{Beta}(5, 1)$; that is, the yield multiplier has a beta distribution with parameters 5 and 1 (Example 9.5). Then the optimal order quantity is 254477.46, with an expected cost per month of 13086.16:"
      ],
      "metadata": {
        "id": "5or57EicywJl"
      }
    },
    {
      "cell_type": "code",
      "source": [
        "from scipy.stats import beta\n",
        "# First, calculate the mean and standard deviation of a Beta(5, 1) r.v.\n",
        "mu, sigma_squared = beta.stats(5, 1, moments='mv')\n",
        "sigma = math.sqrt(sigma_squared)\n",
        "mu, sigma"
      ],
      "metadata": {
        "colab": {
          "base_uri": "https://localhost:8080/"
        },
        "id": "nWEfV-0gzyRU",
        "outputId": "cde0f0a7-79a7-411b-c131-4a72a2178995"
      },
      "execution_count": 15,
      "outputs": [
        {
          "output_type": "execute_result",
          "data": {
            "text/plain": [
              "(0.8333333333333334, 0.14085904245475275)"
            ]
          },
          "metadata": {},
          "execution_count": 15
        }
      ]
    },
    {
      "cell_type": "code",
      "source": [
        "from stockpyl.supply_uncertainty import eoq_with_multiplicative_yield_uncertainty\n",
        "# Now solve the EOQ with yield uncertainty.\n",
        "eoq_with_multiplicative_yield_uncertainty(18500, 0.06, 75000, mu, sigma)"
      ],
      "metadata": {
        "colab": {
          "base_uri": "https://localhost:8080/"
        },
        "id": "6BVvUn2kytHs",
        "outputId": "a9b9b1a0-cc18-4f91-dd15-17ff4a6568cf"
      },
      "execution_count": 17,
      "outputs": [
        {
          "output_type": "execute_result",
          "data": {
            "text/plain": [
              "(254460.21299998942, 13086.525239999457)"
            ]
          },
          "metadata": {},
          "execution_count": 17
        }
      ]
    },
    {
      "cell_type": "markdown",
      "source": [
        "---\n",
        "**Exercise:** Suppose the fixed cost is 1500, the holding cost is 3 per item per week, the demand rate is 2000 per week, and there is additive yield uncertainty with $Y\\sim U[-50,20]$. Find the optimal order quantity and cost."
      ],
      "metadata": {
        "id": "nXcRUZ4t0bNg"
      }
    },
    {
      "cell_type": "code",
      "source": [
        "## SOLUTION\n",
        "# Mean and variance of a U[a,b] rv are (a+b)/2 and (b-a)^2/12.\n",
        "a = -50\n",
        "b = 20\n",
        "mu = (a + b) / 2\n",
        "sigma = math.sqrt((b - a)**2 / 12)\n",
        "eoq_with_additive_yield_uncertainty(1500, 3, 2000, mu, sigma)"
      ],
      "metadata": {
        "colab": {
          "base_uri": "https://localhost:8080/"
        },
        "id": "KcJx8VDTzNYC",
        "outputId": "34335e89-8d2b-4399-e8fc-35619f2f0527"
      },
      "execution_count": 21,
      "outputs": [
        {
          "output_type": "execute_result",
          "data": {
            "text/plain": [
              "(1429.3579226395748, 4243.073767918724)"
            ]
          },
          "metadata": {},
          "execution_count": 21
        }
      ]
    },
    {
      "cell_type": "markdown",
      "source": [
        "**Exercise:** Suppose instead that the yield uncertainty is multiplicative, with $Z\\sim N(0.9, 0.02^2)$."
      ],
      "metadata": {
        "id": "NNeyK8G11Z6M"
      }
    },
    {
      "cell_type": "code",
      "source": [
        "## SOLUTION\n",
        "eoq_with_multiplicative_yield_uncertainty(1500, 3, 2000, 0.9, 0.02)"
      ],
      "metadata": {
        "colab": {
          "base_uri": "https://localhost:8080/"
        },
        "id": "2IE9u3aJ1M7G",
        "outputId": "0f8b926f-7852-41ef-f181-a0ea27de43bd"
      },
      "execution_count": 22,
      "outputs": [
        {
          "output_type": "execute_result",
          "data": {
            "text/plain": [
              "(1570.9605590167373, 4243.688123423879)"
            ]
          },
          "metadata": {},
          "execution_count": 22
        }
      ]
    },
    {
      "cell_type": "markdown",
      "source": [
        "## 3.2 The Newsvendor Problem with Supply Uncertainty\n",
        "\n",
        "We now turn our attention to newsvendor problems with supply uncertainty. These problems assume that the demand is deterministic but the supply is stochastic (the opposite of the classical newsvendor problem). We consider an infinite-horizon model in which inventory may be carried from one time period to the next (at a holding cost of $h$ per item per period), and unmet demands may be carried from one period to the next in the form of backorders (at a stockout cost of $p$ per item per period).\n",
        "\n",
        "> **Remark:** The newsvendor problem with disruptions is an infinite-horizon problem; it does not make sense to consider this problem in a single-period setting since the only reason to order extra inventory in a given period is to protect against disruptions in future periods. The newsvendor problem with yield uncertainty may be interpreted as either a single-period or infinite-horizon problem. As discussed in Section 1, we use the term \"newsvendor\" to describe both the single-period and infinite-horizon problems."
      ],
      "metadata": {
        "id": "J5xnvJwt1oXl"
      }
    },
    {
      "cell_type": "markdown",
      "source": [
        "### 3.2.1 The Newsvendor Problem with Disruptions\n",
        "\n",
        "The newsvendor problem with disruptions (Güllu, Onol, and Erkip 1997; Tomlin 2005 [unabridged version]; Schmitt and Snyder 2012; _FoSCT_ §9.2.2)  assumes that the supplier's disruptions follow a 2-state DTMC. If the supplier is in the `UP` state, it transitions to the `DOWN` state with probability $\\alpha$ (called the _disruption probability_) and remains `UP` with probability $1-\\alpha$. If it is in the `DOWN` state, it transitions to `UP` with probability $\\beta$ (the _recovery probability_) and remains `DOWN` with probability $1-\\beta$. Therefore, the length of a given `UP` (non-disrupted) interval has a geometric distribution with mean $1/\\alpha$, and the length of a given `DOWN` (disrupted) interval is geometrically distributed with mean $1/\\beta$. Inventory may be depleted during a `DOWN` interval, in which case unmet demands are lost. A base-stock policy is optimal (with the modification that the firm orders nothing during `DOWN` periods), and our goal is to determine the optimal base-stock level.\n",
        "\n",
        "The [`newsvendor_with_disruptions()`](https://stockpyl.readthedocs.io/en/latest/api/seio/supply_uncertainty.html#stockpyl.supply_uncertainty.newsvendor_with_disruptions) function has the signature\n",
        "```python\n",
        "newsvendor_with_disruptions(holding_cost, stockout_cost, demand,\n",
        "    disruption_prob, recovery_prob, base_stock_level=None)\n",
        "```\n",
        "and returns two parameters: `base_stock_level` and `cost`. Alternatively, you can use the optional input parameter `base_stock_level` to specify a base-stock level, for which the function will calculate the expected cost."
      ],
      "metadata": {
        "id": "YyXTBhPh151P"
      }
    },
    {
      "cell_type": "markdown",
      "source": [
        "**Example:** Suppose the holding and stockout costs are 0.25 and 3 per item per period, respectively; the demand is 2000 items per period; and the disruption and recovery probabilities are 0.04 and 0.25, respectively (_FoSCT_ Example 9.3). Then the optimal base-stock level is 8000, and the corresponding expected cost per period is 2737.07:"
      ],
      "metadata": {
        "id": "WcgZMaJ72tTf"
      }
    },
    {
      "cell_type": "code",
      "source": [
        "from stockpyl.supply_uncertainty import newsvendor_with_disruptions\n",
        "newsvendor_with_disruptions(0.25, 3, 2000, 0.04, 0.25)"
      ],
      "metadata": {
        "colab": {
          "base_uri": "https://localhost:8080/"
        },
        "id": "PHnqjVC61lb2",
        "outputId": "14e8fc03-3287-4850-a11b-354f11aad0fd"
      },
      "execution_count": 23,
      "outputs": [
        {
          "output_type": "execute_result",
          "data": {
            "text/plain": [
              "(8000, 2737.0689302470355)"
            ]
          },
          "metadata": {},
          "execution_count": 23
        }
      ]
    },
    {
      "cell_type": "markdown",
      "source": [
        "---\n",
        "**Exercise:** Suppose the holding and stockout costs are 35 and 600 per item per period, respectively; the demand is 50 items per period; and the disruption and recovery probabilities are 0.1 and 0.3, respectively. Find the optimal base-stock level and expected cost."
      ],
      "metadata": {
        "id": "HhNmUlpt3Hey"
      }
    },
    {
      "cell_type": "code",
      "source": [
        "## SOLUTION\n",
        "newsvendor_with_disruptions(35, 600, 50, 0.1, 0.3)"
      ],
      "metadata": {
        "colab": {
          "base_uri": "https://localhost:8080/"
        },
        "id": "2Dk8pC7Z3Ffj",
        "outputId": "2be7ebe6-7ed6-4f6c-d000-c9c92942c2f7"
      },
      "execution_count": 25,
      "outputs": [
        {
          "output_type": "execute_result",
          "data": {
            "text/plain": [
              "(300, 11738.518591751188)"
            ]
          },
          "metadata": {},
          "execution_count": 25
        }
      ]
    },
    {
      "cell_type": "markdown",
      "source": [
        "### 3.2.2 The Newsvendor Problem with Yield Uncertainty\n",
        "\n",
        "The last model with supply uncertainty we discuss is the newsvendor problem with yield uncertainty (_FoSCT_ §9.3.2). As of this writing, Stockpyl only supports additive yield uncertainty for the newsvendor problem.\n",
        "\n",
        "The [`newsvendor_with_additive_yield_uncertainty()`](https://stockpyl.readthedocs.io/en/latest/api/seio/supply_uncertainty.html#stockpyl.supply_uncertainty.newsvendor_with_additive_yield_uncertainty) function has the signature\n",
        "```python\n",
        "newsvendor_with_additive_yield_uncertainty(holding_cost, stockout_cost,\n",
        "\tdemand, yield_mean=None, yield_sd=None, yield_distribution=None,\n",
        "\tloss_function=None, base_stock_level=None)\n",
        "```\n",
        "and returns two parameters: `base_stock_level` and `cost`. Alternatively, you can use the optional input parameter `base_stock_level` to provide a base-stock level, for which the function will calculate the expected cost.\n",
        "\n",
        "This function provides two ways to specify the yield distribution:\n",
        "* Using `yield_mean` and `yield_sd`, in which case the yield is assumed to be normally distributed with these parameters\n",
        "* Using `yield_distribution` as a [`scipy.stats.rv_continuous`](https://docs.scipy.org/doc/scipy/reference/generated/scipy.stats.rv_continuous.html) or [`scipy.stats.rv_discrete`](https://docs.scipy.org/doc/scipy/reference/generated/scipy.stats.rv_discrete.html) object\n",
        "\n",
        "The cost function requires the loss functions $n_Y(\\cdot)$ and $\\bar{n}_Y(\\cdot)$ (see _FoSCT_ §C.3). If `yield_distribution` is provided, the function will calculate the loss functions using generic formulas.\n",
        "However, you can optionally also provide a `loss_function` to be used instead. If `loss_function` is provided, it must be a function that takes a single argument and returns a tuple consisting of the loss function and the complementary loss function value of that argument. (Stockpyl's `loss_function` module contains a number of functions for calculating loss functions.) The `loss_function` parameter is ignored if `yield_distribution` is not provided. Providing the loss function explicitly is usually more accurate.\n",
        "\n"
      ],
      "metadata": {
        "id": "gXS5TPrW3fr9"
      }
    },
    {
      "cell_type": "markdown",
      "source": [
        "**Example:** Suppose the holding cost is 15 per item per period, the stockout cost is 75 per item per period, the demand is 150000, and the yield uncertainty is additive with $Y\\sim U[-500000, 500000]$ (_FoSCT_ Example 9.6). We first solve it without providing the loss functions explicitly (so they are calculated using a generic function):"
      ],
      "metadata": {
        "id": "hBZcs5Hd4fLr"
      }
    },
    {
      "cell_type": "code",
      "source": [
        "from stockpyl.supply_uncertainty import newsvendor_with_additive_yield_uncertainty\n",
        "from scipy.stats import uniform\n",
        "# Second parameter scipy.stats.uniform is the range, not the upper limit.\n",
        "yield_distribution = uniform(-5e5, 1e6)\n",
        "newsvendor_with_additive_yield_uncertainty(15, 75, 1.5e6, yield_distribution=yield_distribution)"
      ],
      "metadata": {
        "colab": {
          "base_uri": "https://localhost:8080/"
        },
        "id": "tVWRjPcr3Yc8",
        "outputId": "33a85fe9-f1a5-4e0a-d9c1-c03ac6bf6e5b"
      },
      "execution_count": 27,
      "outputs": [
        {
          "output_type": "execute_result",
          "data": {
            "text/plain": [
              "(1833333.3333333335, 6249999.997499999)"
            ]
          },
          "metadata": {},
          "execution_count": 27
        }
      ]
    },
    {
      "cell_type": "markdown",
      "source": [
        "Next, we explicitly pass the `uniform_loss` function to calculate the loss functions, which is more accurate:"
      ],
      "metadata": {
        "id": "f1a60Uab5Rac"
      }
    },
    {
      "cell_type": "code",
      "source": [
        "from stockpyl.loss_functions import uniform_loss\n",
        "loss_function = lambda x: uniform_loss(x, -500000, 500000)\n",
        "newsvendor_with_additive_yield_uncertainty(15, 75, 1.5e6,\n",
        "    yield_distribution=uniform(-500000, 1000000),\n",
        "    loss_function=loss_function)"
      ],
      "metadata": {
        "colab": {
          "base_uri": "https://localhost:8080/"
        },
        "id": "5_MWBIGG5LUf",
        "outputId": "cc8cd1bb-5b3b-4db7-df3d-a252b00b3c18"
      },
      "execution_count": 28,
      "outputs": [
        {
          "output_type": "execute_result",
          "data": {
            "text/plain": [
              "(1833333.3333333335, 6250000.000000001)"
            ]
          },
          "metadata": {},
          "execution_count": 28
        }
      ]
    },
    {
      "cell_type": "markdown",
      "source": [
        "---\n",
        "**Exercise:** Suppose the holding cost is 0.6 per item per period, the stockout cost is 3.2 per item per period, the demand is 135, and the yield uncertainty is additive with $Y\\sim U[-8, 6]$. Find the optimal base-stock level and expected cost, either using a generic loss function or providing one explicitly."
      ],
      "metadata": {
        "id": "cUmPnjlH5rPh"
      }
    },
    {
      "cell_type": "code",
      "source": [
        "## SOLUTION\n",
        "yield_distribution = uniform(-8, 14)\n",
        "newsvendor_with_additive_yield_uncertainty(0.6, 3.2, 135, yield_distribution=yield_distribution)"
      ],
      "metadata": {
        "colab": {
          "base_uri": "https://localhost:8080/"
        },
        "id": "NhRbY0dc5os_",
        "outputId": "abd0a5fa-dd9d-4c02-81c8-a1d1c077677e"
      },
      "execution_count": 29,
      "outputs": [
        {
          "output_type": "execute_result",
          "data": {
            "text/plain": [
              "(140.78947368421052, 3.5368421038484206)"
            ]
          },
          "metadata": {},
          "execution_count": 29
        }
      ]
    },
    {
      "cell_type": "markdown",
      "source": [
        "**Next Up:** Stockpyl Tutorial §4: Multi-Echelon Inventory Optimization (MEIO)"
      ],
      "metadata": {
        "id": "RHP4iFZL6J9g"
      }
    }
  ]
}