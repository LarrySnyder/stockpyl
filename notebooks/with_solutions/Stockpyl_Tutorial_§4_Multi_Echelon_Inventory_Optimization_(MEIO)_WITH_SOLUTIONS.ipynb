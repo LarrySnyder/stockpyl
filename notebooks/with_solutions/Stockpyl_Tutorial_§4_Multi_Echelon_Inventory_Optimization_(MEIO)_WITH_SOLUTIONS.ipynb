{
  "nbformat": 4,
  "nbformat_minor": 0,
  "metadata": {
    "colab": {
      "provenance": [],
      "toc_visible": true,
      "authorship_tag": "ABX9TyOweQLs4rp93pxmDFjdCcvQ",
      "include_colab_link": true
    },
    "kernelspec": {
      "name": "python3",
      "display_name": "Python 3"
    },
    "language_info": {
      "name": "python"
    }
  },
  "cells": [
    {
      "cell_type": "markdown",
      "metadata": {
        "id": "view-in-github",
        "colab_type": "text"
      },
      "source": [
        "<a href=\"https://colab.research.google.com/github/LarrySnyder/stockpyl/blob/master/notebooks/with_solutions/Stockpyl_Tutorial_%C2%A74_Multi_Echelon_Inventory_Optimization_(MEIO)_WITH_SOLUTIONS.ipynb\" target=\"_parent\"><img src=\"https://colab.research.google.com/assets/colab-badge.svg\" alt=\"Open In Colab\"/></a>"
      ]
    },
    {
      "cell_type": "markdown",
      "source": [
        "Stockpyl Tutorial\n",
        "=================\n",
        "\n",
        "(This notebook is a companion to Snyder, L. V., \"[Stockpyl: A Python Package for Inventory Optimization and Simulation](https://pubsonline.informs.org/doi/10.1287/educ.2023.0256),\" in: Bish, E. K. and H. Balasubramanian, _INFORMS TutORials in Operations Research_, 156–197, 2023.)\n",
        "\n"
      ],
      "metadata": {
        "id": "det0HwZhTR0n"
      }
    },
    {
      "cell_type": "markdown",
      "source": [
        "# Section 4: Multi-Echelon Inventory Optimization (MEIO)\n",
        "\n",
        "Multi-echelon inventory optimization (MEIO) is significantly more difficult than single-echelon problems, primarily because a given node or stage (we use the terms interchangeably) experiences stochastic lead times from its upstream nodes, even if the transportation lead time is deterministic, due to random stockouts at the upstream nodes. Moreover, the probability distribution of the lead time depends on the base-stock levels (or other inventory policy parameters) at the upstream nodes, but the optimal upstream base-stock levels depend on the optimal downstream base-stock levels, which in turn depend on the probability distribution of the lead times. This vicious cycle makes it difficult even to calculate the expected cost of a given set of base-stock levels, let alone optimize them.\n",
        "\n",
        "Two primary types of models have been developed to deal with this issue. _Stochastic-service models_ (SSM) assume that each stage meets the demand from stock whenever possible and experiences stockouts otherwise, much like the newsvendor and other single-stage problems. The upstream lead times will be stochastic due to stockouts, and the expected cost function must account for these lead times either exactly or approximately, leading to considerable challenges in both formulating the expected cost and optimizing it. This is the approach taken in the seminal paper by Clark and Scarf (1960) and many subsequent works.\n",
        "\n",
        "In contrast, _guaranteeed-service models_ (GSM) assume that each stage provides a deterministic upper bound on its outbound lead time. In particular, each stage sets a _committed service time_ (CST) and guarantees that it will satisfy every demand within that CST. This allows a more tractable formulation of the MEIO problem since the upstream lead times are now deterministic. On the other hand, the tractability comes at an expense, in the form of a relatively strong assumption that the customer demand is bounded. There is a one-to-one relationship between a set of CSTs, one for each node, and a set of corresponding base-stock levels. Therefore, if we think of SSM as a more accurate model of real-world inventory systems (a claim that is open to debate, see, e.g., Graves and Willems 2003), the GSM approach can be viewed as a heuristic for setting base-stock levels in an SSM system. The GSM approach was pioneered by Kimball (1988) and Simpson (1958), and brought into more widespread use by Graves and Willems (2000).\n",
        "\n",
        "\n",
        "\n",
        "Stockpyl contains code to solve the following types of multi-echelon inventory optimization (MEIO) problems:\n",
        "\n",
        "* Serial systems under the SSM (`ssm_serial` module; see Section 4.3)\n",
        "* Serial or tree systems under the GSM (`gsm_serial` and `gsm_tree` modules; see Section 4.4)\n",
        "* SSM systems with arbitrary topology, optimized using enumeration or coordinate descent (`meio_general` module; see Section 4.5)\n",
        "\n",
        "\n",
        "Before discussing these modules, we discuss an important data type used throughout them.\n",
        "\n",
        "\n"
      ],
      "metadata": {
        "id": "jyAuLSd2gDjr"
      }
    },
    {
      "cell_type": "markdown",
      "source": [
        "First, install the package:"
      ],
      "metadata": {
        "id": "3kwwXWHgwnYo"
      }
    },
    {
      "cell_type": "code",
      "source": [
        "!pip install stockpyl"
      ],
      "metadata": {
        "colab": {
          "base_uri": "https://localhost:8080/",
          "height": 1000
        },
        "id": "HkrEPNHgwpDP",
        "outputId": "c684f2c1-3d63-4ee9-e77f-d6805a5be44e"
      },
      "execution_count": 2,
      "outputs": [
        {
          "output_type": "stream",
          "name": "stdout",
          "text": [
            "Collecting stockpyl\n",
            "  Downloading stockpyl-0.0.14-py3-none-any.whl (146 kB)\n",
            "\u001b[2K     \u001b[90m━━━━━━━━━━━━━━━━━━━━━━━━━━━━━━━━━━━━━━━━\u001b[0m \u001b[32m146.3/146.3 kB\u001b[0m \u001b[31m2.6 MB/s\u001b[0m eta \u001b[36m0:00:00\u001b[0m\n",
            "\u001b[?25hRequirement already satisfied: build>=0.0.2 in /usr/local/lib/python3.10/dist-packages (from stockpyl) (1.0.3)\n",
            "Requirement already satisfied: jsonpickle>=1.0 in /usr/local/lib/python3.10/dist-packages (from stockpyl) (3.0.2)\n",
            "Requirement already satisfied: matplotlib>=2.0 in /usr/local/lib/python3.10/dist-packages (from stockpyl) (3.7.1)\n",
            "Requirement already satisfied: networkx>=2.0 in /usr/local/lib/python3.10/dist-packages (from stockpyl) (3.1)\n",
            "Requirement already satisfied: numpy>=1.21 in /usr/local/lib/python3.10/dist-packages (from stockpyl) (1.23.5)\n",
            "Requirement already satisfied: scipy>=1.6.0 in /usr/local/lib/python3.10/dist-packages (from stockpyl) (1.11.3)\n",
            "Requirement already satisfied: setuptools>=49.6 in /usr/local/lib/python3.10/dist-packages (from stockpyl) (67.7.2)\n",
            "Collecting sphinx==4.5.0 (from stockpyl)\n",
            "  Downloading Sphinx-4.5.0-py3-none-any.whl (3.1 MB)\n",
            "\u001b[2K     \u001b[90m━━━━━━━━━━━━━━━━━━━━━━━━━━━━━━━━━━━━━━━━\u001b[0m \u001b[32m3.1/3.1 MB\u001b[0m \u001b[31m15.2 MB/s\u001b[0m eta \u001b[36m0:00:00\u001b[0m\n",
            "\u001b[?25hCollecting sphinx-rtd-theme>=1.0.0 (from stockpyl)\n",
            "  Downloading sphinx_rtd_theme-1.3.0-py2.py3-none-any.whl (2.8 MB)\n",
            "\u001b[2K     \u001b[90m━━━━━━━━━━━━━━━━━━━━━━━━━━━━━━━━━━━━━━━━\u001b[0m \u001b[32m2.8/2.8 MB\u001b[0m \u001b[31m32.8 MB/s\u001b[0m eta \u001b[36m0:00:00\u001b[0m\n",
            "\u001b[?25hCollecting sphinx-toolbox>=3.1.2 (from stockpyl)\n",
            "  Downloading sphinx_toolbox-3.5.0-py3-none-any.whl (526 kB)\n",
            "\u001b[2K     \u001b[90m━━━━━━━━━━━━━━━━━━━━━━━━━━━━━━━━━━━━━━━━\u001b[0m \u001b[32m526.4/526.4 kB\u001b[0m \u001b[31m29.6 MB/s\u001b[0m eta \u001b[36m0:00:00\u001b[0m\n",
            "\u001b[?25hRequirement already satisfied: tabulate>=0.8.7 in /usr/local/lib/python3.10/dist-packages (from stockpyl) (0.9.0)\n",
            "Requirement already satisfied: tqdm>=4.1.0 in /usr/local/lib/python3.10/dist-packages (from stockpyl) (4.66.1)\n",
            "Requirement already satisfied: sphinxcontrib-applehelp in /usr/local/lib/python3.10/dist-packages (from sphinx==4.5.0->stockpyl) (1.0.7)\n",
            "Requirement already satisfied: sphinxcontrib-devhelp in /usr/local/lib/python3.10/dist-packages (from sphinx==4.5.0->stockpyl) (1.0.5)\n",
            "Requirement already satisfied: sphinxcontrib-jsmath in /usr/local/lib/python3.10/dist-packages (from sphinx==4.5.0->stockpyl) (1.0.1)\n",
            "Requirement already satisfied: sphinxcontrib-htmlhelp>=2.0.0 in /usr/local/lib/python3.10/dist-packages (from sphinx==4.5.0->stockpyl) (2.0.4)\n",
            "Requirement already satisfied: sphinxcontrib-serializinghtml>=1.1.5 in /usr/local/lib/python3.10/dist-packages (from sphinx==4.5.0->stockpyl) (1.1.9)\n",
            "Requirement already satisfied: sphinxcontrib-qthelp in /usr/local/lib/python3.10/dist-packages (from sphinx==4.5.0->stockpyl) (1.0.6)\n",
            "Requirement already satisfied: Jinja2>=2.3 in /usr/local/lib/python3.10/dist-packages (from sphinx==4.5.0->stockpyl) (3.1.2)\n",
            "Requirement already satisfied: Pygments>=2.0 in /usr/local/lib/python3.10/dist-packages (from sphinx==4.5.0->stockpyl) (2.16.1)\n",
            "Collecting docutils<0.18,>=0.14 (from sphinx==4.5.0->stockpyl)\n",
            "  Downloading docutils-0.17.1-py2.py3-none-any.whl (575 kB)\n",
            "\u001b[2K     \u001b[90m━━━━━━━━━━━━━━━━━━━━━━━━━━━━━━━━━━━━━━━━\u001b[0m \u001b[32m575.5/575.5 kB\u001b[0m \u001b[31m33.6 MB/s\u001b[0m eta \u001b[36m0:00:00\u001b[0m\n",
            "\u001b[?25hRequirement already satisfied: snowballstemmer>=1.1 in /usr/local/lib/python3.10/dist-packages (from sphinx==4.5.0->stockpyl) (2.2.0)\n",
            "Requirement already satisfied: babel>=1.3 in /usr/local/lib/python3.10/dist-packages (from sphinx==4.5.0->stockpyl) (2.13.0)\n",
            "Requirement already satisfied: alabaster<0.8,>=0.7 in /usr/local/lib/python3.10/dist-packages (from sphinx==4.5.0->stockpyl) (0.7.13)\n",
            "Requirement already satisfied: imagesize in /usr/local/lib/python3.10/dist-packages (from sphinx==4.5.0->stockpyl) (1.4.1)\n",
            "Requirement already satisfied: requests>=2.5.0 in /usr/local/lib/python3.10/dist-packages (from sphinx==4.5.0->stockpyl) (2.31.0)\n",
            "Requirement already satisfied: packaging in /usr/local/lib/python3.10/dist-packages (from sphinx==4.5.0->stockpyl) (23.2)\n",
            "Requirement already satisfied: pyproject_hooks in /usr/local/lib/python3.10/dist-packages (from build>=0.0.2->stockpyl) (1.0.0)\n",
            "Requirement already satisfied: tomli>=1.1.0 in /usr/local/lib/python3.10/dist-packages (from build>=0.0.2->stockpyl) (2.0.1)\n",
            "Requirement already satisfied: contourpy>=1.0.1 in /usr/local/lib/python3.10/dist-packages (from matplotlib>=2.0->stockpyl) (1.1.1)\n",
            "Requirement already satisfied: cycler>=0.10 in /usr/local/lib/python3.10/dist-packages (from matplotlib>=2.0->stockpyl) (0.12.1)\n",
            "Requirement already satisfied: fonttools>=4.22.0 in /usr/local/lib/python3.10/dist-packages (from matplotlib>=2.0->stockpyl) (4.43.1)\n",
            "Requirement already satisfied: kiwisolver>=1.0.1 in /usr/local/lib/python3.10/dist-packages (from matplotlib>=2.0->stockpyl) (1.4.5)\n",
            "Requirement already satisfied: pillow>=6.2.0 in /usr/local/lib/python3.10/dist-packages (from matplotlib>=2.0->stockpyl) (9.4.0)\n",
            "Requirement already satisfied: pyparsing>=2.3.1 in /usr/local/lib/python3.10/dist-packages (from matplotlib>=2.0->stockpyl) (3.1.1)\n",
            "Requirement already satisfied: python-dateutil>=2.7 in /usr/local/lib/python3.10/dist-packages (from matplotlib>=2.0->stockpyl) (2.8.2)\n",
            "Collecting sphinxcontrib-jquery<5,>=4 (from sphinx-rtd-theme>=1.0.0->stockpyl)\n",
            "  Downloading sphinxcontrib_jquery-4.1-py2.py3-none-any.whl (121 kB)\n",
            "\u001b[2K     \u001b[90m━━━━━━━━━━━━━━━━━━━━━━━━━━━━━━━━━━━━━━━━\u001b[0m \u001b[32m121.1/121.1 kB\u001b[0m \u001b[31m13.8 MB/s\u001b[0m eta \u001b[36m0:00:00\u001b[0m\n",
            "\u001b[?25hCollecting apeye>=0.4.0 (from sphinx-toolbox>=3.1.2->stockpyl)\n",
            "  Downloading apeye-1.4.1-py3-none-any.whl (107 kB)\n",
            "\u001b[2K     \u001b[90m━━━━━━━━━━━━━━━━━━━━━━━━━━━━━━━━━━━━━━━━\u001b[0m \u001b[32m108.0/108.0 kB\u001b[0m \u001b[31m12.9 MB/s\u001b[0m eta \u001b[36m0:00:00\u001b[0m\n",
            "\u001b[?25hCollecting autodocsumm>=0.2.0 (from sphinx-toolbox>=3.1.2->stockpyl)\n",
            "  Downloading autodocsumm-0.2.11-py3-none-any.whl (14 kB)\n",
            "Requirement already satisfied: beautifulsoup4>=4.9.1 in /usr/local/lib/python3.10/dist-packages (from sphinx-toolbox>=3.1.2->stockpyl) (4.11.2)\n",
            "Requirement already satisfied: cachecontrol[filecache]>=0.13.0 in /usr/local/lib/python3.10/dist-packages (from sphinx-toolbox>=3.1.2->stockpyl) (0.13.1)\n",
            "Collecting dict2css>=0.2.3 (from sphinx-toolbox>=3.1.2->stockpyl)\n",
            "  Downloading dict2css-0.3.0-py3-none-any.whl (25 kB)\n",
            "Collecting domdf-python-tools>=2.9.0 (from sphinx-toolbox>=3.1.2->stockpyl)\n",
            "  Downloading domdf_python_tools-3.6.1-py3-none-any.whl (127 kB)\n",
            "\u001b[2K     \u001b[90m━━━━━━━━━━━━━━━━━━━━━━━━━━━━━━━━━━━━━━━━\u001b[0m \u001b[32m127.0/127.0 kB\u001b[0m \u001b[31m12.3 MB/s\u001b[0m eta \u001b[36m0:00:00\u001b[0m\n",
            "\u001b[?25hRequirement already satisfied: filelock>=3.8.0 in /usr/local/lib/python3.10/dist-packages (from sphinx-toolbox>=3.1.2->stockpyl) (3.12.4)\n",
            "Requirement already satisfied: html5lib>=1.1 in /usr/local/lib/python3.10/dist-packages (from sphinx-toolbox>=3.1.2->stockpyl) (1.1)\n",
            "Collecting ruamel.yaml>=0.16.12 (from sphinx-toolbox>=3.1.2->stockpyl)\n",
            "  Downloading ruamel.yaml-0.17.35-py3-none-any.whl (112 kB)\n",
            "\u001b[2K     \u001b[90m━━━━━━━━━━━━━━━━━━━━━━━━━━━━━━━━━━━━━━━━\u001b[0m \u001b[32m112.9/112.9 kB\u001b[0m \u001b[31m10.9 MB/s\u001b[0m eta \u001b[36m0:00:00\u001b[0m\n",
            "\u001b[?25hCollecting sphinx-autodoc-typehints>=1.11.1 (from sphinx-toolbox>=3.1.2->stockpyl)\n",
            "  Downloading sphinx_autodoc_typehints-1.24.0-py3-none-any.whl (17 kB)\n",
            "Collecting sphinx-jinja2-compat>=0.1.0 (from sphinx-toolbox>=3.1.2->stockpyl)\n",
            "  Downloading sphinx_jinja2_compat-0.2.0-py3-none-any.whl (17 kB)\n",
            "Collecting sphinx-prompt>=1.1.0 (from sphinx-toolbox>=3.1.2->stockpyl)\n",
            "  Downloading sphinx_prompt-1.8.0-py3-none-any.whl (7.3 kB)\n",
            "Collecting sphinx-tabs<3.5.0,>=1.2.1 (from sphinx-toolbox>=3.1.2->stockpyl)\n",
            "  Downloading sphinx_tabs-3.4.1-py3-none-any.whl (10.0 kB)\n",
            "Requirement already satisfied: typing-extensions!=3.10.0.1,>=3.7.4.3 in /usr/local/lib/python3.10/dist-packages (from sphinx-toolbox>=3.1.2->stockpyl) (4.5.0)\n",
            "Collecting apeye-core>=1.0.0b2 (from apeye>=0.4.0->sphinx-toolbox>=3.1.2->stockpyl)\n",
            "  Downloading apeye_core-1.1.4-py3-none-any.whl (99 kB)\n",
            "\u001b[2K     \u001b[90m━━━━━━━━━━━━━━━━━━━━━━━━━━━━━━━━━━━━━━━━\u001b[0m \u001b[32m99.3/99.3 kB\u001b[0m \u001b[31m11.4 MB/s\u001b[0m eta \u001b[36m0:00:00\u001b[0m\n",
            "\u001b[?25hRequirement already satisfied: platformdirs>=2.3.0 in /usr/local/lib/python3.10/dist-packages (from apeye>=0.4.0->sphinx-toolbox>=3.1.2->stockpyl) (3.11.0)\n",
            "Requirement already satisfied: soupsieve>1.2 in /usr/local/lib/python3.10/dist-packages (from beautifulsoup4>=4.9.1->sphinx-toolbox>=3.1.2->stockpyl) (2.5)\n",
            "Requirement already satisfied: msgpack>=0.5.2 in /usr/local/lib/python3.10/dist-packages (from cachecontrol[filecache]>=0.13.0->sphinx-toolbox>=3.1.2->stockpyl) (1.0.7)\n",
            "Collecting cssutils>=2.2.0 (from dict2css>=0.2.3->sphinx-toolbox>=3.1.2->stockpyl)\n",
            "  Downloading cssutils-2.9.0-py3-none-any.whl (398 kB)\n",
            "\u001b[2K     \u001b[90m━━━━━━━━━━━━━━━━━━━━━━━━━━━━━━━━━━━━━━━━\u001b[0m \u001b[32m398.5/398.5 kB\u001b[0m \u001b[31m36.9 MB/s\u001b[0m eta \u001b[36m0:00:00\u001b[0m\n",
            "\u001b[?25hRequirement already satisfied: natsort>=7.0.1 in /usr/local/lib/python3.10/dist-packages (from domdf-python-tools>=2.9.0->sphinx-toolbox>=3.1.2->stockpyl) (8.4.0)\n",
            "Requirement already satisfied: six>=1.9 in /usr/local/lib/python3.10/dist-packages (from html5lib>=1.1->sphinx-toolbox>=3.1.2->stockpyl) (1.16.0)\n",
            "Requirement already satisfied: webencodings in /usr/local/lib/python3.10/dist-packages (from html5lib>=1.1->sphinx-toolbox>=3.1.2->stockpyl) (0.5.1)\n",
            "Requirement already satisfied: MarkupSafe>=2.0 in /usr/local/lib/python3.10/dist-packages (from Jinja2>=2.3->sphinx==4.5.0->stockpyl) (2.1.3)\n",
            "Requirement already satisfied: charset-normalizer<4,>=2 in /usr/local/lib/python3.10/dist-packages (from requests>=2.5.0->sphinx==4.5.0->stockpyl) (3.3.0)\n",
            "Requirement already satisfied: idna<4,>=2.5 in /usr/local/lib/python3.10/dist-packages (from requests>=2.5.0->sphinx==4.5.0->stockpyl) (3.4)\n",
            "Requirement already satisfied: urllib3<3,>=1.21.1 in /usr/local/lib/python3.10/dist-packages (from requests>=2.5.0->sphinx==4.5.0->stockpyl) (2.0.6)\n",
            "Requirement already satisfied: certifi>=2017.4.17 in /usr/local/lib/python3.10/dist-packages (from requests>=2.5.0->sphinx==4.5.0->stockpyl) (2023.7.22)\n",
            "Collecting ruamel.yaml.clib>=0.2.7 (from ruamel.yaml>=0.16.12->sphinx-toolbox>=3.1.2->stockpyl)\n",
            "  Downloading ruamel.yaml.clib-0.2.8-cp310-cp310-manylinux_2_17_x86_64.manylinux2014_x86_64.manylinux_2_24_x86_64.whl (526 kB)\n",
            "\u001b[2K     \u001b[90m━━━━━━━━━━━━━━━━━━━━━━━━━━━━━━━━━━━━━━━━\u001b[0m \u001b[32m526.7/526.7 kB\u001b[0m \u001b[31m40.0 MB/s\u001b[0m eta \u001b[36m0:00:00\u001b[0m\n",
            "\u001b[?25hINFO: pip is looking at multiple versions of sphinx-autodoc-typehints to determine which version is compatible with other requirements. This could take a while.\n",
            "Collecting sphinx-autodoc-typehints>=1.11.1 (from sphinx-toolbox>=3.1.2->stockpyl)\n",
            "  Downloading sphinx_autodoc_typehints-1.23.3-py3-none-any.whl (18 kB)\n",
            "  Downloading sphinx_autodoc_typehints-1.23.2-py3-none-any.whl (18 kB)\n",
            "  Downloading sphinx_autodoc_typehints-1.23.1-py3-none-any.whl (18 kB)\n",
            "  Downloading sphinx_autodoc_typehints-1.23.0-py3-none-any.whl (17 kB)\n",
            "  Downloading sphinx_autodoc_typehints-1.22-py3-none-any.whl (17 kB)\n",
            "  Downloading sphinx_autodoc_typehints-1.21.8-py3-none-any.whl (17 kB)\n",
            "  Downloading sphinx_autodoc_typehints-1.21.7-py3-none-any.whl (16 kB)\n",
            "INFO: pip is looking at multiple versions of sphinx-autodoc-typehints to determine which version is compatible with other requirements. This could take a while.\n",
            "  Downloading sphinx_autodoc_typehints-1.21.6-py3-none-any.whl (16 kB)\n",
            "  Downloading sphinx_autodoc_typehints-1.21.5-py3-none-any.whl (16 kB)\n",
            "  Downloading sphinx_autodoc_typehints-1.21.4-py3-none-any.whl (16 kB)\n",
            "  Downloading sphinx_autodoc_typehints-1.21.3-py3-none-any.whl (15 kB)\n",
            "  Downloading sphinx_autodoc_typehints-1.21.2-py3-none-any.whl (13 kB)\n",
            "INFO: This is taking longer than usual. You might need to provide the dependency resolver with stricter constraints to reduce runtime. See https://pip.pypa.io/warnings/backtracking for guidance. If you want to abort this run, press Ctrl + C.\n",
            "  Downloading sphinx_autodoc_typehints-1.21.1-py3-none-any.whl (13 kB)\n",
            "  Downloading sphinx_autodoc_typehints-1.21.0-py3-none-any.whl (13 kB)\n",
            "  Downloading sphinx_autodoc_typehints-1.20.2-py3-none-any.whl (12 kB)\n",
            "  Downloading sphinx_autodoc_typehints-1.20.1-py3-none-any.whl (12 kB)\n",
            "  Downloading sphinx_autodoc_typehints-1.20.0-py3-none-any.whl (12 kB)\n",
            "  Downloading sphinx_autodoc_typehints-1.19.5-py3-none-any.whl (12 kB)\n",
            "  Downloading sphinx_autodoc_typehints-1.19.4-py3-none-any.whl (12 kB)\n",
            "  Downloading sphinx_autodoc_typehints-1.19.3-py3-none-any.whl (12 kB)\n",
            "  Downloading sphinx_autodoc_typehints-1.19.2-py3-none-any.whl (12 kB)\n",
            "  Downloading sphinx_autodoc_typehints-1.19.1-py3-none-any.whl (12 kB)\n",
            "INFO: pip is looking at multiple versions of sphinx-prompt to determine which version is compatible with other requirements. This could take a while.\n",
            "Collecting sphinx-prompt>=1.1.0 (from sphinx-toolbox>=3.1.2->stockpyl)\n",
            "  Downloading sphinx_prompt-1.7.0-py3-none-any.whl (5.2 kB)\n",
            "  Downloading sphinx_prompt-1.6.0-py3-none-any.whl (5.2 kB)\n",
            "  Downloading sphinx_prompt-1.5.0-py3-none-any.whl (4.5 kB)\n",
            "INFO: pip is looking at multiple versions of sphinx-tabs to determine which version is compatible with other requirements. This could take a while.\n",
            "Collecting sphinx-tabs<3.5.0,>=1.2.1 (from sphinx-toolbox>=3.1.2->stockpyl)\n",
            "  Downloading sphinx_tabs-3.4.0-py3-none-any.whl (10.0 kB)\n",
            "Collecting Jinja2>=2.3 (from sphinx==4.5.0->stockpyl)\n",
            "  Downloading Jinja2-3.0.3-py3-none-any.whl (133 kB)\n",
            "\u001b[2K     \u001b[90m━━━━━━━━━━━━━━━━━━━━━━━━━━━━━━━━━━━━━━━━\u001b[0m \u001b[32m133.6/133.6 kB\u001b[0m \u001b[31m14.5 MB/s\u001b[0m eta \u001b[36m0:00:00\u001b[0m\n",
            "\u001b[?25hINFO: pip is looking at multiple versions of sphinxcontrib-htmlhelp to determine which version is compatible with other requirements. This could take a while.\n",
            "Collecting sphinxcontrib-htmlhelp>=2.0.0 (from sphinx==4.5.0->stockpyl)\n",
            "  Downloading sphinxcontrib_htmlhelp-2.0.3-py3-none-any.whl (99 kB)\n",
            "\u001b[2K     \u001b[90m━━━━━━━━━━━━━━━━━━━━━━━━━━━━━━━━━━━━━━━━\u001b[0m \u001b[32m99.2/99.2 kB\u001b[0m \u001b[31m11.1 MB/s\u001b[0m eta \u001b[36m0:00:00\u001b[0m\n",
            "\u001b[?25h  Downloading sphinxcontrib_htmlhelp-2.0.2-py3-none-any.whl (99 kB)\n",
            "\u001b[2K     \u001b[90m━━━━━━━━━━━━━━━━━━━━━━━━━━━━━━━━━━━━━━━━\u001b[0m \u001b[32m99.2/99.2 kB\u001b[0m \u001b[31m10.3 MB/s\u001b[0m eta \u001b[36m0:00:00\u001b[0m\n",
            "\u001b[?25h  Downloading sphinxcontrib_htmlhelp-2.0.1-py3-none-any.whl (99 kB)\n",
            "\u001b[2K     \u001b[90m━━━━━━━━━━━━━━━━━━━━━━━━━━━━━━━━━━━━━━━━\u001b[0m \u001b[32m99.8/99.8 kB\u001b[0m \u001b[31m10.4 MB/s\u001b[0m eta \u001b[36m0:00:00\u001b[0m\n",
            "\u001b[?25hINFO: pip is looking at multiple versions of sphinxcontrib-serializinghtml to determine which version is compatible with other requirements. This could take a while.\n",
            "Collecting sphinxcontrib-serializinghtml>=1.1.5 (from sphinx==4.5.0->stockpyl)\n",
            "  Downloading sphinxcontrib_serializinghtml-1.1.8-py3-none-any.whl (92 kB)\n",
            "\u001b[2K     \u001b[90m━━━━━━━━━━━━━━━━━━━━━━━━━━━━━━━━━━━━━━━━\u001b[0m \u001b[32m92.6/92.6 kB\u001b[0m \u001b[31m9.1 MB/s\u001b[0m eta \u001b[36m0:00:00\u001b[0m\n",
            "\u001b[?25h  Downloading sphinxcontrib_serializinghtml-1.1.7-py3-none-any.whl (92 kB)\n",
            "\u001b[2K     \u001b[90m━━━━━━━━━━━━━━━━━━━━━━━━━━━━━━━━━━━━━━━━\u001b[0m \u001b[32m92.6/92.6 kB\u001b[0m \u001b[31m10.2 MB/s\u001b[0m eta \u001b[36m0:00:00\u001b[0m\n",
            "\u001b[?25h  Downloading sphinxcontrib_serializinghtml-1.1.6-py3-none-any.whl (92 kB)\n",
            "\u001b[2K     \u001b[90m━━━━━━━━━━━━━━━━━━━━━━━━━━━━━━━━━━━━━━━━\u001b[0m \u001b[32m92.6/92.6 kB\u001b[0m \u001b[31m10.3 MB/s\u001b[0m eta \u001b[36m0:00:00\u001b[0m\n",
            "\u001b[?25h  Downloading sphinxcontrib_serializinghtml-1.1.5-py2.py3-none-any.whl (94 kB)\n",
            "\u001b[2K     \u001b[90m━━━━━━━━━━━━━━━━━━━━━━━━━━━━━━━━━━━━━━━━\u001b[0m \u001b[32m94.0/94.0 kB\u001b[0m \u001b[31m10.5 MB/s\u001b[0m eta \u001b[36m0:00:00\u001b[0m\n",
            "\u001b[?25hINFO: pip is looking at multiple versions of sphinxcontrib-applehelp to determine which version is compatible with other requirements. This could take a while.\n",
            "Collecting sphinxcontrib-applehelp (from sphinx==4.5.0->stockpyl)\n",
            "  Downloading sphinxcontrib_applehelp-1.0.6-py3-none-any.whl (120 kB)\n",
            "\u001b[2K     \u001b[90m━━━━━━━━━━━━━━━━━━━━━━━━━━━━━━━━━━━━━━━━\u001b[0m \u001b[32m120.0/120.0 kB\u001b[0m \u001b[31m12.3 MB/s\u001b[0m eta \u001b[36m0:00:00\u001b[0m\n",
            "\u001b[?25h  Downloading sphinxcontrib_applehelp-1.0.5-py3-none-any.whl (120 kB)\n",
            "\u001b[2K     \u001b[90m━━━━━━━━━━━━━━━━━━━━━━━━━━━━━━━━━━━━━━━━\u001b[0m \u001b[32m120.0/120.0 kB\u001b[0m \u001b[31m10.1 MB/s\u001b[0m eta \u001b[36m0:00:00\u001b[0m\n",
            "\u001b[?25h  Downloading sphinxcontrib_applehelp-1.0.4-py3-none-any.whl (120 kB)\n",
            "\u001b[2K     \u001b[90m━━━━━━━━━━━━━━━━━━━━━━━━━━━━━━━━━━━━━━━━\u001b[0m \u001b[32m120.6/120.6 kB\u001b[0m \u001b[31m12.6 MB/s\u001b[0m eta \u001b[36m0:00:00\u001b[0m\n",
            "\u001b[?25hINFO: pip is looking at multiple versions of sphinxcontrib-devhelp to determine which version is compatible with other requirements. This could take a while.\n",
            "Collecting sphinxcontrib-devhelp (from sphinx==4.5.0->stockpyl)\n",
            "  Downloading sphinxcontrib_devhelp-1.0.4-py3-none-any.whl (83 kB)\n",
            "\u001b[2K     \u001b[90m━━━━━━━━━━━━━━━━━━━━━━━━━━━━━━━━━━━━━━━━\u001b[0m \u001b[32m83.5/83.5 kB\u001b[0m \u001b[31m8.6 MB/s\u001b[0m eta \u001b[36m0:00:00\u001b[0m\n",
            "\u001b[?25h  Downloading sphinxcontrib_devhelp-1.0.3-py3-none-any.whl (83 kB)\n",
            "\u001b[2K     \u001b[90m━━━━━━━━━━━━━━━━━━━━━━━━━━━━━━━━━━━━━━━━\u001b[0m \u001b[32m83.5/83.5 kB\u001b[0m \u001b[31m9.3 MB/s\u001b[0m eta \u001b[36m0:00:00\u001b[0m\n",
            "\u001b[?25h  Downloading sphinxcontrib_devhelp-1.0.2-py2.py3-none-any.whl (84 kB)\n",
            "\u001b[2K     \u001b[90m━━━━━━━━━━━━━━━━━━━━━━━━━━━━━━━━━━━━━━━━\u001b[0m \u001b[32m84.7/84.7 kB\u001b[0m \u001b[31m9.6 MB/s\u001b[0m eta \u001b[36m0:00:00\u001b[0m\n",
            "\u001b[?25hINFO: pip is looking at multiple versions of sphinxcontrib-qthelp to determine which version is compatible with other requirements. This could take a while.\n",
            "Collecting sphinxcontrib-qthelp (from sphinx==4.5.0->stockpyl)\n",
            "  Downloading sphinxcontrib_qthelp-1.0.5-py3-none-any.whl (89 kB)\n",
            "\u001b[2K     \u001b[90m━━━━━━━━━━━━━━━━━━━━━━━━━━━━━━━━━━━━━━━━\u001b[0m \u001b[32m89.4/89.4 kB\u001b[0m \u001b[31m9.5 MB/s\u001b[0m eta \u001b[36m0:00:00\u001b[0m\n",
            "\u001b[?25h  Downloading sphinxcontrib_qthelp-1.0.4-py3-none-any.whl (89 kB)\n",
            "\u001b[2K     \u001b[90m━━━━━━━━━━━━━━━━━━━━━━━━━━━━━━━━━━━━━━━━\u001b[0m \u001b[32m89.4/89.4 kB\u001b[0m \u001b[31m10.4 MB/s\u001b[0m eta \u001b[36m0:00:00\u001b[0m\n",
            "\u001b[?25h  Downloading sphinxcontrib_qthelp-1.0.3-py2.py3-none-any.whl (90 kB)\n",
            "\u001b[2K     \u001b[90m━━━━━━━━━━━━━━━━━━━━━━━━━━━━━━━━━━━━━━━━\u001b[0m \u001b[32m90.6/90.6 kB\u001b[0m \u001b[31m9.2 MB/s\u001b[0m eta \u001b[36m0:00:00\u001b[0m\n",
            "\u001b[?25hInstalling collected packages: sphinxcontrib-serializinghtml, sphinxcontrib-qthelp, sphinxcontrib-htmlhelp, sphinxcontrib-devhelp, sphinxcontrib-applehelp, ruamel.yaml.clib, Jinja2, domdf-python-tools, docutils, cssutils, sphinx-jinja2-compat, sphinx, ruamel.yaml, dict2css, apeye-core, sphinxcontrib-jquery, sphinx-tabs, sphinx-prompt, sphinx-autodoc-typehints, autodocsumm, apeye, sphinx-toolbox, sphinx-rtd-theme, stockpyl\n",
            "  Attempting uninstall: sphinxcontrib-serializinghtml\n",
            "    Found existing installation: sphinxcontrib-serializinghtml 1.1.9\n",
            "    Uninstalling sphinxcontrib-serializinghtml-1.1.9:\n",
            "      Successfully uninstalled sphinxcontrib-serializinghtml-1.1.9\n",
            "  Attempting uninstall: sphinxcontrib-qthelp\n",
            "    Found existing installation: sphinxcontrib-qthelp 1.0.6\n",
            "    Uninstalling sphinxcontrib-qthelp-1.0.6:\n",
            "      Successfully uninstalled sphinxcontrib-qthelp-1.0.6\n",
            "  Attempting uninstall: sphinxcontrib-htmlhelp\n",
            "    Found existing installation: sphinxcontrib-htmlhelp 2.0.4\n",
            "    Uninstalling sphinxcontrib-htmlhelp-2.0.4:\n",
            "      Successfully uninstalled sphinxcontrib-htmlhelp-2.0.4\n",
            "  Attempting uninstall: sphinxcontrib-devhelp\n",
            "    Found existing installation: sphinxcontrib-devhelp 1.0.5\n",
            "    Uninstalling sphinxcontrib-devhelp-1.0.5:\n",
            "      Successfully uninstalled sphinxcontrib-devhelp-1.0.5\n",
            "  Attempting uninstall: sphinxcontrib-applehelp\n",
            "    Found existing installation: sphinxcontrib-applehelp 1.0.7\n",
            "    Uninstalling sphinxcontrib-applehelp-1.0.7:\n",
            "      Successfully uninstalled sphinxcontrib-applehelp-1.0.7\n",
            "  Attempting uninstall: Jinja2\n",
            "    Found existing installation: Jinja2 3.1.2\n",
            "    Uninstalling Jinja2-3.1.2:\n",
            "      Successfully uninstalled Jinja2-3.1.2\n",
            "  Attempting uninstall: docutils\n",
            "    Found existing installation: docutils 0.18.1\n",
            "    Uninstalling docutils-0.18.1:\n",
            "      Successfully uninstalled docutils-0.18.1\n",
            "  Attempting uninstall: sphinx\n",
            "    Found existing installation: Sphinx 5.0.2\n",
            "    Uninstalling Sphinx-5.0.2:\n",
            "      Successfully uninstalled Sphinx-5.0.2\n",
            "Successfully installed Jinja2-3.0.3 apeye-1.4.1 apeye-core-1.1.4 autodocsumm-0.2.11 cssutils-2.9.0 dict2css-0.3.0 docutils-0.17.1 domdf-python-tools-3.6.1 ruamel.yaml-0.17.35 ruamel.yaml.clib-0.2.8 sphinx-4.5.0 sphinx-autodoc-typehints-1.19.1 sphinx-jinja2-compat-0.2.0 sphinx-prompt-1.5.0 sphinx-rtd-theme-1.3.0 sphinx-tabs-3.4.0 sphinx-toolbox-3.5.0 sphinxcontrib-applehelp-1.0.4 sphinxcontrib-devhelp-1.0.2 sphinxcontrib-htmlhelp-2.0.1 sphinxcontrib-jquery-4.1 sphinxcontrib-qthelp-1.0.3 sphinxcontrib-serializinghtml-1.1.5 stockpyl-0.0.14\n"
          ]
        },
        {
          "output_type": "display_data",
          "data": {
            "application/vnd.colab-display-data+json": {
              "pip_warning": {
                "packages": [
                  "sphinxcontrib"
                ]
              }
            }
          },
          "metadata": {}
        }
      ]
    },
    {
      "cell_type": "markdown",
      "source": [
        "## 4.1 The `SupplyChainNetwork` and `SupplyChainNode` Classes\n",
        "\n",
        "The MEIO code in Stockpyl makes use of the [`SupplyChainNetwork`](https://stockpyl.readthedocs.io/en/latest/api/datatypes/supply_chain_network.html#stockpyl.supply_chain_network.SupplyChainNetwork) class, which contains all of the data for an MEIO instance. For some functions, you provide data in the form of lists, dictionaries, or singletons and the function builds the `SupplyChainNetwork` object for you, while other functions require you to pass a `SupplyChainNetwork` object directly.\n",
        "\n",
        "A `SupplyChainNetwork`, in turn, consists of one or more [`SupplyChainNode`](https://stockpyl.readthedocs.io/en/latest/api/datatypes/supply_chain_node.html#stockpyl.supply_chain_node.SupplyChainNode) objects. When you create a `SupplyChainNode`, you provide an index and any parameters you wish. For example:"
      ],
      "metadata": {
        "id": "S2Uj-U7BBxWv"
      }
    },
    {
      "cell_type": "code",
      "source": [
        "from stockpyl.supply_chain_node import SupplyChainNode\n",
        "# Build a node.\n",
        "my_node = SupplyChainNode(\n",
        "    index=1,\n",
        "    local_holding_cost=3,\n",
        "    stockout_cost=20,\n",
        "    shipment_lead_time=2\n",
        ")\n",
        "# Build another node.\n",
        "my_other_node = SupplyChainNode(\n",
        "    index=2,\n",
        "    name=\"other_node\",\n",
        "    echelon_holding_cost=1.5\n",
        ")"
      ],
      "metadata": {
        "id": "yS-5ekxkCcL3"
      },
      "execution_count": 3,
      "outputs": []
    },
    {
      "cell_type": "markdown",
      "source": [
        "(A list of all available parameters is in the [`online documentation`](https://stockpyl.readthedocs.io/en/latest/api/datatypes/supply_chain_node.html#stockpyl.supply_chain_node.SupplyChainNode) for the `SupplyChainNode` class.)\n",
        "\n",
        "You can then add these nodes to a `SupplyChainNetwork`:"
      ],
      "metadata": {
        "id": "rjOlGIRQCeTP"
      }
    },
    {
      "cell_type": "code",
      "source": [
        "from stockpyl.supply_chain_network import SupplyChainNetwork\n",
        "# Create an empty supply chain network.\n",
        "network = SupplyChainNetwork()\n",
        "# Add the first node to it.\n",
        "network.add_node(my_node)\n",
        "# Add the second node by adding it as a successor to the first node.\n",
        "network.add_successor(my_node, my_other_node)"
      ],
      "metadata": {
        "id": "k922d77oCtP-"
      },
      "execution_count": 4,
      "outputs": []
    },
    {
      "cell_type": "markdown",
      "source": [
        "The `network` object now contains both nodes, and a (directed) edge from `my_node` to `my_other_node`. Nodes can be accessed either from a `SupplyChainNetwork` object's `nodes` attribute (a list of nodes), or using its member function `get_node_from_index()`:"
      ],
      "metadata": {
        "id": "fRC5NRMQC2sh"
      }
    },
    {
      "cell_type": "code",
      "source": [
        "n1 = network.nodes[0]\n",
        "n1.index"
      ],
      "metadata": {
        "colab": {
          "base_uri": "https://localhost:8080/"
        },
        "id": "pu8wv1zKC0Cy",
        "outputId": "1a5e6ff1-6239-4ef2-8ae6-ce2ede2ef38b"
      },
      "execution_count": 5,
      "outputs": [
        {
          "output_type": "execute_result",
          "data": {
            "text/plain": [
              "1"
            ]
          },
          "metadata": {},
          "execution_count": 5
        }
      ]
    },
    {
      "cell_type": "code",
      "source": [
        "n1.local_holding_cost"
      ],
      "metadata": {
        "colab": {
          "base_uri": "https://localhost:8080/"
        },
        "id": "89sg1E10C94u",
        "outputId": "fd8a13a4-94a7-4a9d-9c96-7af9a5db727a"
      },
      "execution_count": 6,
      "outputs": [
        {
          "output_type": "execute_result",
          "data": {
            "text/plain": [
              "3"
            ]
          },
          "metadata": {},
          "execution_count": 6
        }
      ]
    },
    {
      "cell_type": "code",
      "source": [
        "n2 = network.get_node_from_index(2)\n",
        "n2.index"
      ],
      "metadata": {
        "colab": {
          "base_uri": "https://localhost:8080/"
        },
        "id": "RsAj7W9PC_0A",
        "outputId": "ff41b566-ead1-4e17-f079-17e972cabeb0"
      },
      "execution_count": 7,
      "outputs": [
        {
          "output_type": "execute_result",
          "data": {
            "text/plain": [
              "2"
            ]
          },
          "metadata": {},
          "execution_count": 7
        }
      ]
    },
    {
      "cell_type": "code",
      "source": [
        "n2.echelon_holding_cost"
      ],
      "metadata": {
        "colab": {
          "base_uri": "https://localhost:8080/"
        },
        "id": "9C9KxAOZDCTx",
        "outputId": "67022150-0140-49f8-8a79-f61ef0cd2d4b"
      },
      "execution_count": 8,
      "outputs": [
        {
          "output_type": "execute_result",
          "data": {
            "text/plain": [
              "1.5"
            ]
          },
          "metadata": {},
          "execution_count": 8
        }
      ]
    },
    {
      "cell_type": "markdown",
      "source": [
        "The [`supply_chain_network`](https://stockpyl.readthedocs.io/en/latest/api/datatypes/supply_chain_network.html#module-stockpyl.supply_chain_network) module contains functions for quickly building certain types of multi-echelon networks.\n",
        "For example, [`single_stage_system()`](https://stockpyl.readthedocs.io/en/latest/api/datatypes/supply_chain_network.html#stockpyl.supply_chain_network.single_stage_system) generates a single-node network:"
      ],
      "metadata": {
        "id": "ViyyrgBjDE7s"
      }
    },
    {
      "cell_type": "code",
      "source": [
        "from stockpyl.supply_chain_network import single_stage_system\n",
        "network = single_stage_system(holding_cost=0.18,\n",
        "    stockout_cost=0.70,\n",
        "    demand_type='N',\n",
        "    mean=50, standard_deviation=8,\n",
        "    policy_type='BS',\n",
        "    base_stock_level=56.6\n",
        ")\n",
        "network.nodes[0].stockout_cost"
      ],
      "metadata": {
        "colab": {
          "base_uri": "https://localhost:8080/"
        },
        "id": "NeYeqfoHDDeu",
        "outputId": "8d7f1e40-727e-4243-b6e3-7db8a92eabde"
      },
      "execution_count": 9,
      "outputs": [
        {
          "output_type": "execute_result",
          "data": {
            "text/plain": [
              "0.7"
            ]
          },
          "metadata": {},
          "execution_count": 9
        }
      ]
    },
    {
      "cell_type": "markdown",
      "source": [
        "The [`serial_system()`](https://stockpyl.readthedocs.io/en/latest/api/datatypes/supply_chain_network.html#stockpyl.supply_chain_network.serial_system) function generates a serial system. Its signature is\n",
        "```python\n",
        "serial_system(num_nodes, node_order_in_system=None, node_order_in_lists=None,\n",
        "    **kwargs)\n",
        "```\n",
        "The `node_order_in_system` parameter indicates the order of the node indices in the serial system; if omitted, the nodes are assumed to be indexed 0, ..., `num_nodes`-1, with node 0 upstream and node `num_nodes`-1 downstream. The `node_order_in_lists` parameter allows you to provide data in a different order if you wish. The `kwargs` parameters specify the attributes (data) for the nodes in the network. If they are provided, they must be either a dictionary, a list, or a singleton, with the following requirements:\n",
        "* If the parameter is a dictionary, then the keys must contain the node indices and the values must contain the corresponding attribute values. If a given node index is contained in `node_order_in_system` (or in 0, ..., `num_nodes`-1, if `node_order_in_system` is not provided) but is not a key in the dictionary, the attribute value is set to `None` for that node.\n",
        "* If the parameter is a singleton, then the attribute is set to that value for all nodes.\n",
        "* If the parameter is a list and `node_order_in_lists` is provided, `node_order_in_lists` must contain the same indices as `node_order_in_system` (if it is provided) or 0, ..., `num_nodes`-1 (if it is not). The values in the list are assumed to correspond to the node indices in the order they are specified in `node_order_in_lists`. That is, the value in slot `k` in the parameter list is assigned to the node with index `node_order_in_lists[k]`.\n",
        "* If the parameter is a list and `node_order_in_lists` is not provided, the values in the list are assumed to correspond to nodes in the same order as `node_order_in_system` (or in 0, ..., `num_nodes`-1, if `node_order_in_system` is not provided).\n",
        "\n",
        "This scheme is meant to provide maximum flexibility, but it can also be confusing at first, so we recommend testing the network you build by querying it to double-check, as we do in the example below."
      ],
      "metadata": {
        "id": "x79AECjiDTta"
      }
    },
    {
      "cell_type": "markdown",
      "source": [
        "**Example:** Build a 3-node serial system, with nodes labeled $2 \\to 1 \\to 0$. The local holding costs at nodes 0, 1, 2 are 7, 4, 2, respectively. The demand at node 0 is distributed as $N(10,2^2)$. The node uses a base-stock policy with a base-stock level of 5.\n",
        "\n",
        "<center><img src=\"https://github.com/LarrySnyder/stockpyl/raw/master/notebooks/images/tutorial_3_stage_system.png\" width=\"400\"/></center>\n"
      ],
      "metadata": {
        "id": "_3nx8bLnENRZ"
      }
    },
    {
      "cell_type": "code",
      "source": [
        "from stockpyl.supply_chain_network import serial_system\n",
        "# Build a 3-node serial system.\n",
        "network = serial_system(\n",
        "    num_nodes=3,\n",
        "    node_order_in_system=[2, 1, 0],\n",
        "    node_order_in_lists=[0, 1, 2],\n",
        "    local_holding_cost=[7, 4, 2],\n",
        "    demand_type='N',\n",
        "    mean=10,\n",
        "    standard_deviation=2,\n",
        "    policy_type='BS',\n",
        "    base_stock_level=5\n",
        ")\n",
        "# Check the index of the (only) source node.\n",
        "network.source_nodes[0].index"
      ],
      "metadata": {
        "colab": {
          "base_uri": "https://localhost:8080/"
        },
        "id": "A7ZuiaOFDSVM",
        "outputId": "cab4b2df-16d8-4167-ac74-5cd0c5d96d8a"
      },
      "execution_count": 10,
      "outputs": [
        {
          "output_type": "execute_result",
          "data": {
            "text/plain": [
              "2"
            ]
          },
          "metadata": {},
          "execution_count": 10
        }
      ]
    },
    {
      "cell_type": "code",
      "source": [
        "# Check the holding cost of the middle node (source node's successor).\n",
        "network.source_nodes[0].successors()[0].local_holding_cost"
      ],
      "metadata": {
        "colab": {
          "base_uri": "https://localhost:8080/"
        },
        "id": "7bBo7GuaE1gV",
        "outputId": "4fbd9c4d-b5fd-4531-c62c-ed3ab708a0ad"
      },
      "execution_count": 11,
      "outputs": [
        {
          "output_type": "execute_result",
          "data": {
            "text/plain": [
              "4"
            ]
          },
          "metadata": {},
          "execution_count": 11
        }
      ]
    },
    {
      "cell_type": "markdown",
      "source": [
        "In this case, although the network consists of nodes in the order $2 \\to 1 \\to 0$, the `local_holding_cost` parameter is provided as a list with node 0 first, then node 1, then node 2.\n",
        "\n",
        "Once the network is constructed, we can query in various ways. In the code above, `network.source_nodes[0]` gets the first (actually, only) source node (i.e., a node with no upstream predecessors) and `succesors()` gets a list of that node's successor nodes."
      ],
      "metadata": {
        "id": "MI2BclL-F-ux"
      }
    },
    {
      "cell_type": "markdown",
      "source": [
        "---\n",
        "**Exercise:** Construct a 2-node serial system in which node 1 is upstream and node 2 is downstream (that is, node 2 is node 1's successor). The local holding costs at nodes 1 and 2 are 30 and 40, respectively. The lead times at nodes 1 and 2 are 6 and 2, respectively. Query your network to make sure that it is correct."
      ],
      "metadata": {
        "id": "tsStgCUcGm-W"
      }
    },
    {
      "cell_type": "code",
      "source": [
        "## SOLUTION\n",
        "network = serial_system(\n",
        "    num_nodes=2,\n",
        "    node_order_in_system=[1, 2],\n",
        "    local_holding_cost=[30, 40],\n",
        "    lead_time=[6, 2],\n",
        "    standard_deviation=12\n",
        ")\n",
        "# Check the index of the (only) source node.\n",
        "network.source_nodes[0].index"
      ],
      "metadata": {
        "colab": {
          "base_uri": "https://localhost:8080/"
        },
        "id": "uUWA10OBHFVN",
        "outputId": "1ea53f78-1209-4fd6-fd7a-c1b91ff5d5ed"
      },
      "execution_count": 12,
      "outputs": [
        {
          "output_type": "execute_result",
          "data": {
            "text/plain": [
              "1"
            ]
          },
          "metadata": {},
          "execution_count": 12
        }
      ]
    },
    {
      "cell_type": "code",
      "source": [
        "## SOLUTION\n",
        "# Check the index of the (only) sink node.\n",
        "network.sink_nodes[0].index"
      ],
      "metadata": {
        "colab": {
          "base_uri": "https://localhost:8080/"
        },
        "id": "9aaq0njzHYic",
        "outputId": "b09538c8-36b9-487c-bfa0-6bbc76ab1397"
      },
      "execution_count": 13,
      "outputs": [
        {
          "output_type": "execute_result",
          "data": {
            "text/plain": [
              "2"
            ]
          },
          "metadata": {},
          "execution_count": 13
        }
      ]
    },
    {
      "cell_type": "code",
      "source": [
        "## SOLUTION\n",
        "# Check that node 1 is node 2's predecessor, and node 2 is node 1's succesor.\n",
        "print(f'Node 2\\'s predecessor is node {network.get_node_from_index(2).predecessor_indices()[0]}')\n",
        "print(f'Node 1\\'s successor is node {network.get_node_from_index(1).successor_indices()[0]}')"
      ],
      "metadata": {
        "colab": {
          "base_uri": "https://localhost:8080/"
        },
        "id": "FXKZs97SHfJu",
        "outputId": "90bfc1e0-7526-40a3-c149-050b6da40828"
      },
      "execution_count": 14,
      "outputs": [
        {
          "output_type": "stream",
          "name": "stdout",
          "text": [
            "Node 2's predecessor is node 1\n",
            "Node 1's successor is node 2\n"
          ]
        }
      ]
    },
    {
      "cell_type": "code",
      "source": [
        "## SOLUTION\n",
        "# Check holding costs and lead times.\n",
        "node1 = network.get_node_from_index(1)\n",
        "node2 = network.get_node_from_index(2)\n",
        "print(f'Node 1\\'s holding cost is {node1.local_holding_cost}')\n",
        "print(f'Node 2\\'s holding cost is {node2.local_holding_cost}')\n",
        "print(f'Node 1\\'s lead time is {node1.lead_time}')\n",
        "print(f'Node 2\\'s lead time is {node2.lead_time}')\n"
      ],
      "metadata": {
        "colab": {
          "base_uri": "https://localhost:8080/"
        },
        "id": "LWou3xEGICV5",
        "outputId": "5832f098-fa17-44c5-97c1-3c4addf5a5bd"
      },
      "execution_count": 15,
      "outputs": [
        {
          "output_type": "stream",
          "name": "stdout",
          "text": [
            "Node 1's holding cost is 30\n",
            "Node 2's holding cost is 40\n",
            "Node 1's lead time is 6\n",
            "Node 2's lead time is 2\n"
          ]
        }
      ]
    },
    {
      "cell_type": "markdown",
      "source": [
        "---\n",
        "Similarly, the [`owmr_system()`](https://stockpyl.readthedocs.io/en/latest/api/datatypes/supply_chain_network.html#stockpyl.supply_chain_network.owmr_system) and [`mwor_system()`](https://stockpyl.readthedocs.io/en/latest/api/datatypes/supply_chain_network.html#stockpyl.supply_chain_network.mwor_system) functions allow you to quickly build one-warehouse, multi-retailer (OWMR) and multi-warehouse, one-retailer (MWOR) systems.\n",
        "\n",
        "Finally, the [`network_from_edges()`](https://stockpyl.readthedocs.io/en/latest/api/datatypes/supply_chain_network.html#stockpyl.supply_chain_network.network_from_edges) function allows you build a network with arbitrary topology by providing a list of the edges in the network, along with the data for each node. The function has the signature\n",
        "```python\n",
        "network_from_edges(edges, node_order_in_lists=None, **kwargs)\n",
        "```\n",
        "The `edges` parameter is a list of edges, with each edge specified as a tuple `(a, b)`, where `a` is the index of the predecessor node and `b` is the index of the successor node. If `edges` is `None` or an empty list, a single-node network is created. The `node_order_in_lists` parameter works similarly to that in the `serial_system()` function, described above. The `kwargs` parameters are handled similarly to `serial_system()` as well, with the modification that indices are matched to the indices in the `edges` list rather than to `node_order_in_system` or 0, ..., `num_nodes` - 1."
      ],
      "metadata": {
        "id": "227khYbcGKLD"
      }
    },
    {
      "cell_type": "markdown",
      "source": [
        "**Example:** The following code creates a network that represents the system depicted below. The holding costs at nodes 1–4 are 4, 7, 2, 1, respectively, and the stockout costs at nodes 1 and 2 are 20 and 50, respectively.\n",
        "\n",
        "<center><img src=\"https://github.com/LarrySnyder/stockpyl/raw/master/notebooks/images/tutorial_4_stage_system.png\" width=\"400\"/></center>"
      ],
      "metadata": {
        "id": "f69p2v0yJsu3"
      }
    },
    {
      "cell_type": "code",
      "source": [
        "from stockpyl.supply_chain_network import network_from_edges\n",
        "# Create a network by specifying the edges.\n",
        "network1 = network_from_edges(\n",
        "    edges=[(3, 1), (3, 2), (4, 1)],\n",
        "    node_order_in_lists=[1, 2, 3, 4],\n",
        "    local_holding_cost=[4, 7, 2, 1],\n",
        "    stockout_cost=[20, 50, None, None],\n",
        "    demand_type=['N', 'N', None, None],\n",
        "    mean=[10, 15, None, None],\n",
        "    standard_deviation=[2, 4, None, None]\n",
        ")\n",
        "# Print some details about each node in the network.\n",
        "for node in network1.nodes:\n",
        "    print(f\"Node {node.index}: h = {node.local_holding_cost} p = {node.stockout_cost} mu = {node.demand_source.mean}  sigma = {node.demand_source.standard_deviation}\")"
      ],
      "metadata": {
        "colab": {
          "base_uri": "https://localhost:8080/"
        },
        "id": "6CTIGNOKE3-s",
        "outputId": "82c50111-8f26-4dbe-d57b-3109142e5e3c"
      },
      "execution_count": 16,
      "outputs": [
        {
          "output_type": "stream",
          "name": "stdout",
          "text": [
            "Node 3: h = 2 p = None mu = None  sigma = None\n",
            "Node 1: h = 4 p = 20 mu = 10  sigma = 2\n",
            "Node 2: h = 7 p = 50 mu = 15  sigma = 4\n",
            "Node 4: h = 1 p = None mu = None  sigma = None\n"
          ]
        }
      ]
    },
    {
      "cell_type": "markdown",
      "source": [
        "Alternatively, we could construct the same network by constructing each node individually and adding them to the network, specifying the appropriate predecessors and successors. In this case, we need to explicitly set the `demand_source` attribute for the sink nodes (nodes that face external demand) and the `supply_type` attribute for the source nodes (nodes that have external supply). The `demand_source` is set to a [`DemandSource`](https://stockpyl.readthedocs.io/en/latest/api/datatypes/demand_source.html#stockpyl.demand_source.DemandSource) object; in particular, the demand is normally distributed at nodes 1 and 2, with different means and standard deviations. (See the online documentation for more information.) The `supply_type` attribute is set to `'U'` for nodes 3 and 4 to indicate unlimited supply. (This is currently the only type of supply supported in the `SupplyChainNode` class.)"
      ],
      "metadata": {
        "id": "1NzcZB8NK-JN"
      }
    },
    {
      "cell_type": "markdown",
      "source": [
        "**Example:** The following code creates the same network as in the previous example, but building it node-by-node:"
      ],
      "metadata": {
        "id": "tyHubSdsLOvU"
      }
    },
    {
      "cell_type": "code",
      "source": [
        "from stockpyl.supply_chain_network import SupplyChainNetwork\n",
        "from stockpyl.supply_chain_node import SupplyChainNode\n",
        "from stockpyl.demand_source import DemandSource\n",
        "# Build 4 nodes.\n",
        "node1 = SupplyChainNode(index=1, local_holding_cost=4, stockout_cost=20,\n",
        "\tdemand_source=DemandSource(type='N', mean=10, standard_deviation=2))\n",
        "node2 = SupplyChainNode(index=2, local_holding_cost=7, stockout_cost=50,\n",
        "\tdemand_source=DemandSource(type='N', mean=15, standard_deviation=4))\n",
        "node3 = SupplyChainNode(index=3, local_holding_cost=2, supply_type='U')\n",
        "node4 = SupplyChainNode(index=4, local_holding_cost=1, supply_type='U')\n",
        "# Build the network.\n",
        "network2 = SupplyChainNetwork()\n",
        "network2.add_node(node3)\n",
        "network2.add_successor(node3, node1)\n",
        "network2.add_successor(node3, node2)\n",
        "network2.add_predecessor(node1, node4)\n",
        "# Check that network2 equals the one we built using network_from_edges().\n",
        "network1.deep_equal_to(network2)"
      ],
      "metadata": {
        "colab": {
          "base_uri": "https://localhost:8080/"
        },
        "id": "8HSobodWKgL2",
        "outputId": "bdf0a5bc-ece5-46ca-cc5a-6d60793e57fd"
      },
      "execution_count": 17,
      "outputs": [
        {
          "output_type": "execute_result",
          "data": {
            "text/plain": [
              "True"
            ]
          },
          "metadata": {},
          "execution_count": 17
        }
      ]
    },
    {
      "cell_type": "markdown",
      "source": [
        "Instead of adding the nodes by successor, one can also add the nodes directly to the network and then add the edges in a separate step:\n"
      ],
      "metadata": {
        "id": "3nXUe4bnLcXY"
      }
    },
    {
      "cell_type": "code",
      "source": [
        "network3 = SupplyChainNetwork()\n",
        "network3.add_node(node1)\n",
        "network3.add_node(node2)\n",
        "network3.add_node(node3)\n",
        "network3.add_node(node4)\n",
        "network3.add_edges_from_list([(3, 2), (3, 1), (4, 1)])"
      ],
      "metadata": {
        "id": "guEQqoHULY-0"
      },
      "execution_count": 18,
      "outputs": []
    },
    {
      "cell_type": "markdown",
      "source": [
        "Another way to build `SupplyChainNetwork`s is using Stockpyl's built-in instances. The `instances` module contains approximately 70 instances, most (but not all) of which are taken from _FoSCT_ and named accordingly. The instances can be loaded using the [`load_instance()`](https://stockpyl.readthedocs.io/en/latest/api/other/instances.html#stockpyl.instances.load_instance) function by providing the instance name. A list of the built-in instances is provided in the online documentation for the \\href[`instances`](https://stockpyl.readthedocs.io/en/latest/api/other/instances.html) module."
      ],
      "metadata": {
        "id": "2-yAjX1ALfwR"
      }
    },
    {
      "cell_type": "markdown",
      "source": [
        "**Example:** Build the \"digital camera\" network from Figure 6.14 in _FoSCT_.\n",
        "\n",
        "\n",
        "<center><img src=\"https://github.com/LarrySnyder/stockpyl/raw/master/notebooks/images/tutorial_digital_camera_system.png\" width=\"600\"/></center>"
      ],
      "metadata": {
        "id": "aZ31fP1_L0xK"
      }
    },
    {
      "cell_type": "code",
      "source": [
        "from stockpyl.instances import load_instance\n",
        "instance = load_instance('figure_6_14')"
      ],
      "metadata": {
        "id": "Z472hXEnL0VF"
      },
      "execution_count": 19,
      "outputs": []
    },
    {
      "cell_type": "markdown",
      "source": [
        "This is equivalent to building the network manually:\n"
      ],
      "metadata": {
        "id": "L1is9XpLMhhH"
      }
    },
    {
      "cell_type": "code",
      "source": [
        "from stockpyl.supply_chain_network import SupplyChainNetwork\n",
        "from stockpyl.supply_chain_node import SupplyChainNode\n",
        "from stockpyl.demand_source import DemandSource\n",
        "from scipy import stats\n",
        "instance2 = SupplyChainNetwork()\n",
        "instance2.add_node(SupplyChainNode(1, 'Raw_Material', instance2,\n",
        "\tprocessing_time=2, local_holding_cost=0.01))\n",
        "instance2.add_node(SupplyChainNode(2, 'Process_Wafers', instance2,\n",
        "\tprocessing_time=3, local_holding_cost=0.03))\n",
        "instance2.add_node(SupplyChainNode(3, 'Package_Test_Wafers', instance2,\n",
        "\tprocessing_time=2, local_holding_cost=0.04))\n",
        "instance2.add_node(SupplyChainNode(4, 'Imager_Base', instance2,\n",
        "\tprocessing_time=4, local_holding_cost=0.06))\n",
        "instance2.add_node(SupplyChainNode(5, 'Imager_Assembly', instance2,\n",
        "\tprocessing_time=2, local_holding_cost=0.12))\n",
        "instance2.add_node(SupplyChainNode(6, 'Ship_to_Final_Assembly', instance2,\n",
        "\tprocessing_time=3, local_holding_cost=0.13))\n",
        "instance2.add_node(SupplyChainNode(7, 'Camera', instance2,\n",
        "\tprocessing_time=6, local_holding_cost=0.20))\n",
        "instance2.add_node(SupplyChainNode(8, 'Circuit_Board', instance2,\n",
        "\tprocessing_time=4, local_holding_cost=0.08))\n",
        "instance2.add_node(SupplyChainNode(9, 'Other_Parts', instance2,\n",
        "\tprocessing_time=3, local_holding_cost=0.04))\n",
        "instance2.add_node(SupplyChainNode(10, 'Build_Test_Pack', instance2,\n",
        "\tprocessing_time=2, local_holding_cost=0.50, external_outbound_cst=2,\n",
        "\tdemand_source=DemandSource(type='N', mean=0, standard_deviation=10)))\n",
        "for n in instance2.nodes:\n",
        "    n.demand_bound_constant = stats.norm.ppf(0.95)\n",
        "instance2.add_edges_from_list([(1, 2), (2, 3), (3, 5), (4, 5), (5, 6),\n",
        "\t(7, 10), (6, 10), (8, 10), (9, 10)])\n",
        "# Check that the two instances are equal.\n",
        "instance.deep_equal_to(instance2)"
      ],
      "metadata": {
        "colab": {
          "base_uri": "https://localhost:8080/"
        },
        "id": "6uG1JxWaLerd",
        "outputId": "fefdd47e-2677-45a4-f228-9348cb397ba3"
      },
      "execution_count": 20,
      "outputs": [
        {
          "output_type": "execute_result",
          "data": {
            "text/plain": [
              "True"
            ]
          },
          "metadata": {},
          "execution_count": 20
        }
      ]
    },
    {
      "cell_type": "markdown",
      "source": [
        "---\n",
        "**Exercise:** Write code to load the network from _FoSCT_ Example 6.5, pictured below, as a named instance. (The instance is called `example_6_5`.)\n",
        "\n",
        "In the figure, the numbers inside the nodes are node indices; the numbers above each node are local holding costs; and the numbers below each node are processing times. The number on the inbound arrow to node 1 indicates the \"external inbound CST\", and those on the outbound arros from nodes 2 and 4 are \"external outbound CSTs\". It doesn't matter for now what those terms mean (we'll discuss them more below).\n",
        "\n",
        "<center><img src=\"https://github.com/LarrySnyder/stockpyl/raw/master/notebooks/images/tutorial_example_6_5.png\" width=\"500\"/></center>\n"
      ],
      "metadata": {
        "id": "wFQEgJnWNFGq"
      }
    },
    {
      "cell_type": "code",
      "source": [
        "## SOLUTION\n",
        "instance = load_instance('example_6_5')"
      ],
      "metadata": {
        "id": "oYVvVNzqO7SQ"
      },
      "execution_count": 21,
      "outputs": []
    },
    {
      "cell_type": "markdown",
      "source": [
        "Now build the network manually, and check that the two networks are equal.\n",
        "\n",
        "(_Note_: Processing times are indicated using the keyword `processing_time`. External inbound and outbound CSTs are indicated using the keywords `external_inbound_cst` and `external_outbound_cst`.)\n",
        "\n"
      ],
      "metadata": {
        "id": "9MFpyHNSOrr_"
      }
    },
    {
      "cell_type": "code",
      "source": [
        "## SOLUTION\n",
        "from stockpyl.supply_chain_network import network_from_edges\n",
        "instance2 = network_from_edges(\n",
        "    edges=[(1, 3), (3, 2), (3, 4)],\n",
        "    node_order_in_lists=[1, 2, 3, 4],\n",
        "    processing_time=[2, 1, 1, 1],\n",
        "    external_inbound_cst=[1, None, None, None],\n",
        "    local_holding_cost=[1, 3, 2, 3],\n",
        "    demand_bound_constant=[1, 1, 1, 1],\n",
        "    external_outbound_cst=[None, 0, None, 1],\n",
        "    demand_type=[None, 'N', None, 'N'],\n",
        "    mean=[None, 0, None, 0],\n",
        "    standard_deviation=[None, 1, None, 1]\n",
        ")\n",
        "# Check that they are equal.\n",
        "instance.deep_equal_to(instance2)"
      ],
      "metadata": {
        "colab": {
          "base_uri": "https://localhost:8080/"
        },
        "id": "whlEmR3GNEyl",
        "outputId": "cbd9f8cd-1fc5-4d7b-edbe-0a365bfa74bb"
      },
      "execution_count": 22,
      "outputs": [
        {
          "output_type": "execute_result",
          "data": {
            "text/plain": [
              "True"
            ]
          },
          "metadata": {},
          "execution_count": 22
        }
      ]
    },
    {
      "cell_type": "markdown",
      "source": [
        "## 4.2 Local vs. Echelon Quantities\n",
        "\n",
        "In a serial system indexed $N \\to N-1 \\to \\cdots \\to 1$, the _echelon_ of stage $j$ is defined as stage $j$ and all stages downstream from $j$. The _echelon inventory level_, $IL_j$, consists of all items on hand in stages $j,\\ldots,1$, plus all items in transit between those stages, minus backorders at stage 1. Echelon-based quantities such as these are less intuitive than the _local_ quantities we typically deal with, but they are more convenient mathematically, and the functions described in Section 4.3 use them.\n",
        "\n",
        "The _local holding cost_ at stage $j$, denoted $h'_j$, is the holding cost charged based on on-hand inventory at stage $j$ (sometimes plus items in transit from stage $j$ to $j-1$). This type of holding cost is intuitive, and is analogous to the holding cost in single-stage problems. On the other hand, in SSM models, it is often convenient to work with the _echelon holding cost_, denoted $h_j$ and defined as\n",
        "$$h_j = h'_j - h'_{j+1},$$\n",
        "with $h'_{N+1} \\equiv 0$. One way to think about the echelon holding cost is that it represents the additional holding cost attributed to the value added to the product at stage $j$. Typically, echelon holding costs are non-negative (meaning the value of the product, or the cost to store it, increases as we move downstream), since local holding costs tend to increase as we move downstream. However, negative echelon holding costs are possible.\n",
        "Local holding costs can be calculated from the echelon costs as follows:    \n",
        "$$h'_j = \\sum_{i=j}^N h_j.$$\n",
        "\n",
        "In an _echelon base-stock policy_, each stage $j$ places an order so that its _echelon inventory position_ (defined as its echelon inventory level, $IL_j$, plus any items on-order from stage $j+1$) equals its _echelon base-stock level_, $S_j$. Echelon base-stock policies are closely related to the more familiar _local base-stock policies_, in which we bring the local inventory position up to the local base-stock level. Indeed, the two types of policies are equivalent if we relate the echelon base-stock levels $S_j$ and the local base-stock levels $S'_j$ as follows:\n",
        "\\begin{align*}\n",
        "    S'_j & = S_j - S_{j-1} \\\\\n",
        "    S_j & = \\sum_{i=1}^j S'_i.\n",
        "\\end{align*}\n",
        "We define $S_0 \\equiv 0$. This assumes that $S_j \\ge S_{j-1}$; if not, we let $S^-_j = \\min_{i \\ge j} \\{S_i\\}$ and set $S'_j = S^-_j - S^-_{j-1}$.\n",
        "\n",
        "The serial SSM functions described in Section 4.3 take echelon holding costs as input parameters and return echelon base-stock levels as outputs. GSM models tend to work with local quantities, not echelon ones, so the functions described in Section 4.4 take local holding costs and return local base-stock levels. The functions [`local_to_echelon_base_stock_levels()`](https://stockpyl.readthedocs.io/en/latest/api/datatypes/supply_chain_network.html#stockpyl.supply_chain_network.local_to_echelon_base_stock_levels) and [`echelon_to_local_base_stock_levels()`](https://stockpyl.readthedocs.io/en/latest/api/datatypes/supply_chain_network.html#stockpyl.supply_chain_network.echelon_to_local_base_stock_levels) in the `supply_chain_network` module convert back and forth between the two types of base-stock levels. They take a dictionary in which the keys are node indices and the values are base-stock levels."
      ],
      "metadata": {
        "id": "iyaC0r_RM8NZ"
      }
    },
    {
      "cell_type": "markdown",
      "source": [
        "**Example:** The serial system below is from Example 6.1 in _FoSCT_. Suppose the local base-stock levels are $(S_1',S_2',S_3') = (10, 14, 25)$. The code below builds the network and then uses `local_to_echelon_base_stock_levels()` to translate the local base-stock levels into echelon ones.\n",
        "\n",
        "<center><img src=\"https://github.com/LarrySnyder/stockpyl/raw/master/notebooks/images/tutorial_example_6_1.png\" width=\"500\"/></center>\n",
        "\n"
      ],
      "metadata": {
        "id": "sFRPL3GBhh6b"
      }
    },
    {
      "cell_type": "code",
      "source": [
        "from stockpyl.supply_chain_network import local_to_echelon_base_stock_levels\n",
        "# Build the network.\n",
        "network = serial_system(\n",
        "    num_nodes=3,\n",
        "    node_order_in_system=[3, 2, 1]\n",
        ")\n",
        "# Translate local to echelon base-stock levels.\n",
        "S_local = {1: 10, 2: 14, 3: 25}\n",
        "S_ech = local_to_echelon_base_stock_levels(network, S_local)\n",
        "S_ech"
      ],
      "metadata": {
        "colab": {
          "base_uri": "https://localhost:8080/"
        },
        "id": "f8LqKUZdMsjN",
        "outputId": "57166d6f-097d-47c7-b251-93bac1fccafd"
      },
      "execution_count": 30,
      "outputs": [
        {
          "output_type": "execute_result",
          "data": {
            "text/plain": [
              "{3: 49, 2: 24, 1: 10}"
            ]
          },
          "metadata": {},
          "execution_count": 30
        }
      ]
    },
    {
      "cell_type": "code",
      "source": [
        "from stockpyl.supply_chain_network import echelon_to_local_base_stock_levels\n",
        "# Translate back to local.\n",
        "echelon_to_local_base_stock_levels(network, S_ech)"
      ],
      "metadata": {
        "colab": {
          "base_uri": "https://localhost:8080/"
        },
        "id": "qT3JzVxOi9-3",
        "outputId": "f75a3520-ab5e-492c-8d9c-dd8271b419f6"
      },
      "execution_count": 31,
      "outputs": [
        {
          "output_type": "execute_result",
          "data": {
            "text/plain": [
              "{3: 25, 2: 14, 1: 10}"
            ]
          },
          "metadata": {},
          "execution_count": 31
        }
      ]
    },
    {
      "cell_type": "markdown",
      "source": [
        "## 4.3 Serial SSM Systems"
      ],
      "metadata": {
        "id": "UcH-rB75kGmP"
      }
    },
    {
      "cell_type": "markdown",
      "source": [
        "The `ssm_serial` module contains code to solve serial systems under the stochastic service model (SSM), either exactly, using the [`optimize_base_stock_levels()`](https://stockpyl.readthedocs.io/en/latest/api/meio/ssm_serial.html#stockpyl.ssm_serial.optimize_base_stock_levels) function (which implements the algorithm by Chen and Zheng (1994), which in turn is based on the algorithm by Clark and Scarf (1960)), or approximately, using the [`newsvendor_heuristic()`](https://stockpyl.readthedocs.io/en/latest/api/meio/ssm_serial.html#stockpyl.ssm_serial.newsvendor_heuristic) function (which implements the newsvendor-based heuristic by Shang and Song 2003). Both functions assume a continuous-review system in which each stage follows an echelon base-stock policy (see Section 4.2).\n",
        "\n",
        "The `optimize_base_stock_levels()` function has the signature\n",
        "```python\n",
        "optimize_base_stock_levels(num_nodes=None, node_order_in_system=None,\n",
        "\tnode_order_in_lists=None, echelon_holding_cost=None, lead_time=None,\n",
        "\tstockout_cost=None, demand_mean=None, demand_standard_deviation=None,\n",
        "\tdemand_source=None, network=None, S=None, plots=False, x=None,\n",
        "\tx_num=1000, d_num=100, ltd_lower_tail_prob=1-stats.norm.cdf(4),\n",
        "\tltd_upper_tail_prob=1-stats.norm.cdf(4),\n",
        "\tsum_ltd_lower_tail_prob=1-stats.norm.cdf(4),\n",
        "\tsum_ltd_upper_tail_prob=1-stats.norm.cdf(4))\n",
        "```\n",
        "and returns two parameters: `S_star` is a dictionary containing the optimal echelon base-stock levels, and `C_star` is the optimal expected cost.\n",
        "\n",
        "The `newsvendor_heuristic()`  function has the signature\n",
        "```python\n",
        "newsvendor_heuristic(num_nodes=None, node_order_in_system=None,\n",
        "    node_order_in_lists=None, echelon_holding_cost=None, lead_time=None,\n",
        "    stockout_cost=None, demand_mean=None, demand_standard_deviation=None,\n",
        "    demand_source=None, network=None, weight=0.5, round_type=None)\n",
        "```\n",
        "and returns a single parameter, `S_heur`.\n",
        "\n",
        "For either function, you may pass the instance data as individual parameters (costs, demand distribution, etc.) or a `SupplyChainNetwork`.\n",
        "\n",
        "By default, the nodes in the system are assumed to be indexed $N,\\ldots,1$, with node 1 at the downstream end, but this can be changed by providing either the `node_order_in_system` parameter or by providing a `SupplyChainNetwork` explicitly in the `network` parameter.\n",
        "\n",
        "The node-based parameters `echelon_holding_cost` and `lead_time` can be specified either as a dictionary, a list, or a singleton. The requirements for specifying these parameters are the same as those described in Section 4.1, except that the default indexing of the nodes for `ssm_serial` functions is 1,...,`num_nodes` instead of 0,...,`num_nodes`-1.\n",
        "\n",
        "The easiest way to describe the demand is to provide the `demand_mean` and `demand_standard_deviation` parameters; in this case, the demand is assumed to be normally distributed. Alternatively, you can provide a [`DemandSource`](https://stockpyl.readthedocs.io/en/latest/api/datatypes/demand_source.html#stockpyl.demand_source.DemandSource) object in the `demand_source` parameter, which is a bit more work but is more flexible. Finally, if you pass the whole network as a `SupplyChainNetwork` object in the `network` parameter, you can specify the demand distribution in that object.\n",
        "\n",
        "\n",
        "\n"
      ],
      "metadata": {
        "id": "dhy4N8_FkNMX"
      }
    },
    {
      "cell_type": "markdown",
      "source": [
        "**Example:** Here is Example 6.1 from _FoSCT_ with the data passed as individual parameters. In this 3-stage instance, the nodes are indexed $3 \\to 2 \\to 1$. The demand at stage 1 is distributed as $N(5,1^2)$ per unit time. The lead times are $L_1=L_2=1$ and $L_3=2$. Echelon holding costs are $(h_1,h_2,h_3) = (3,2,2)$. The stockout cost at stage 1 is $p=37.12$ per unit time. We solve it using the exact algorithm implemented in the `optimize_base_stock_levels()` function (see Section 4.3.2 below)."
      ],
      "metadata": {
        "id": "EouNPB4Yk6Xp"
      }
    },
    {
      "cell_type": "code",
      "source": [
        "from stockpyl.ssm_serial import optimize_base_stock_levels\n",
        "# Optimize, passing the data as individual parameters.\n",
        "S_star, C_star = optimize_base_stock_levels(\n",
        "    num_nodes=3,\n",
        "    echelon_holding_cost=[2, 2, 3],\n",
        "    lead_time=[2, 1, 1],\n",
        "    stockout_cost=37.12,\n",
        "    demand_mean=5,\n",
        "    demand_standard_deviation=1\n",
        ")\n",
        "# Display optimal base-stock levels.\n",
        "S_star"
      ],
      "metadata": {
        "colab": {
          "base_uri": "https://localhost:8080/"
        },
        "id": "a1uB_F98jbk9",
        "outputId": "026c91d3-1a43-438d-b5d1-f99044abc0fb"
      },
      "execution_count": 32,
      "outputs": [
        {
          "output_type": "execute_result",
          "data": {
            "text/plain": [
              "{3: 22.700237234889784, 2: 12.012332294949644, 1: 6.5144388073261155}"
            ]
          },
          "metadata": {},
          "execution_count": 32
        }
      ]
    },
    {
      "cell_type": "code",
      "source": [
        "# Display optimal expected cost.\n",
        "C_star"
      ],
      "metadata": {
        "colab": {
          "base_uri": "https://localhost:8080/"
        },
        "id": "4p9e7fo_lFSC",
        "outputId": "0c8e59a7-b5d8-4351-cacd-0b565568d7d1"
      },
      "execution_count": 33,
      "outputs": [
        {
          "output_type": "execute_result",
          "data": {
            "text/plain": [
              "47.668653127136345"
            ]
          },
          "metadata": {},
          "execution_count": 33
        }
      ]
    },
    {
      "cell_type": "markdown",
      "source": [
        "And here is the same example, first building a `SupplyChainNetwork` and then passing that instead:"
      ],
      "metadata": {
        "id": "0KGgNB1IlPfV"
      }
    },
    {
      "cell_type": "code",
      "source": [
        "# Build network object.\n",
        "example_6_1_network = serial_system(\n",
        "    num_nodes=3,\n",
        "    node_order_in_system=[3, 2, 1],\n",
        "    echelon_holding_cost={1: 3, 2: 2, 3: 2},\n",
        "    shipment_lead_time={1: 1, 2: 1, 3: 2},\n",
        "    stockout_cost={1: 37.12, 2: 0, 3: 0},\n",
        "    demand_type='N',\n",
        "    mean=5,\n",
        "    standard_deviation=1,\n",
        "    policy_type='BS',\n",
        "    base_stock_level=0,\n",
        "\t)\n",
        "# Pass object and optimize.\n",
        "S_star, C_star = optimize_base_stock_levels(network=example_6_1_network)\n",
        "S_star\n"
      ],
      "metadata": {
        "colab": {
          "base_uri": "https://localhost:8080/"
        },
        "id": "tgs6s0YJlORh",
        "outputId": "8a6f0649-2167-4227-dcb0-95ee57f4f1e4"
      },
      "execution_count": 34,
      "outputs": [
        {
          "output_type": "execute_result",
          "data": {
            "text/plain": [
              "{3: 22.700237234889784, 2: 12.012332294949644, 1: 6.5144388073261155}"
            ]
          },
          "metadata": {},
          "execution_count": 34
        }
      ]
    },
    {
      "cell_type": "markdown",
      "source": [
        "Example 6.1 is also a built-in instance in Stockpyl, so you can load it directly:\n"
      ],
      "metadata": {
        "id": "z54rgjcnl9bX"
      }
    },
    {
      "cell_type": "code",
      "source": [
        "S_star, C_star = optimize_base_stock_levels(\n",
        "    network=load_instance(\"example_6_1\")\n",
        ")\n",
        "S_star"
      ],
      "metadata": {
        "colab": {
          "base_uri": "https://localhost:8080/"
        },
        "id": "Wva2Dejwl4g7",
        "outputId": "3c449f6e-a24b-4a68-fdc1-26a927f493a0"
      },
      "execution_count": 35,
      "outputs": [
        {
          "output_type": "execute_result",
          "data": {
            "text/plain": [
              "{3: 22.700237234889784, 2: 12.012332294949644, 1: 6.5144388073261155}"
            ]
          },
          "metadata": {},
          "execution_count": 35
        }
      ]
    },
    {
      "cell_type": "markdown",
      "source": [
        "The code snippets above use the exact optimization algorithm. We can instead solve the instance using the newsvendor-based heuristic (see Section 4.3.3 below):"
      ],
      "metadata": {
        "id": "TRmgCbOcmTiU"
      }
    },
    {
      "cell_type": "code",
      "source": [
        "from stockpyl.ssm_serial import newsvendor_heuristic\n",
        "# Solve using newsvendor-based heuristic.\n",
        "S_heur = newsvendor_heuristic(network=example_6_1_network)\n",
        "S_heur"
      ],
      "metadata": {
        "colab": {
          "base_uri": "https://localhost:8080/"
        },
        "id": "N2jkpXAAmFkx",
        "outputId": "06d8e9f2-6d7f-4431-80fa-e47edcb9c348"
      },
      "execution_count": 36,
      "outputs": [
        {
          "output_type": "execute_result",
          "data": {
            "text/plain": [
              "{3: 22.634032391786285, 2: 12.027434723327854, 1: 6.490880975286938}"
            ]
          },
          "metadata": {},
          "execution_count": 36
        }
      ]
    },
    {
      "cell_type": "code",
      "source": [
        "# Evaluate the (exact) expected cost of the heuristic solution.\n",
        "from stockpyl.ssm_serial import expected_cost\n",
        "expected_cost(S_heur, network=example_6_1_network)"
      ],
      "metadata": {
        "colab": {
          "base_uri": "https://localhost:8080/"
        },
        "id": "cAHh0g5rmcbj",
        "outputId": "d2406721-6caf-464e-9dd2-b2ee1d1d6546"
      },
      "execution_count": 37,
      "outputs": [
        {
          "output_type": "execute_result",
          "data": {
            "text/plain": [
              "47.68009914084217"
            ]
          },
          "metadata": {},
          "execution_count": 37
        }
      ]
    },
    {
      "cell_type": "markdown",
      "source": [
        "---\n",
        "**Exercise:**  Consider the 5-node serial system in _FoSCT_ Problem 6.2(a). In this instance, the nodes are indexed $5\\to \\cdots \\to 1$. The echelon holding costs are $h_1=h_2=2$ and $h_3=h_4=h_5=1$. The lead times are $L_1=\\cdots=L_5=0.5$. The stockout cost is $p=24$. Optimize this system, both exactly and heuristically, and compare the resulting expected costs."
      ],
      "metadata": {
        "id": "p7iKGkyan3PT"
      }
    },
    {
      "cell_type": "code",
      "source": [
        "## SOLUTION\n",
        "# Build network.\n",
        "instance = load_instance('problem_6_2a')\n",
        "# Optimize exactly.\n",
        "S_star, C_star = optimize_base_stock_levels(network=instance)\n",
        "S_star"
      ],
      "metadata": {
        "colab": {
          "base_uri": "https://localhost:8080/"
        },
        "id": "Cdf31uSFmbu5",
        "outputId": "9e1be684-4457-47c1-b226-5d8d57f46176"
      },
      "execution_count": 40,
      "outputs": [
        {
          "output_type": "execute_result",
          "data": {
            "text/plain": [
              "{5: 174.4384998006611,\n",
              " 4: 142.02349425247698,\n",
              " 3: 108.98512321298162,\n",
              " 2: 74.38833844520818,\n",
              " 1: 40.41491916874597}"
            ]
          },
          "metadata": {},
          "execution_count": 40
        }
      ]
    },
    {
      "cell_type": "code",
      "source": [
        "## SOLUTION\n",
        "C_star"
      ],
      "metadata": {
        "colab": {
          "base_uri": "https://localhost:8080/"
        },
        "id": "qoVq-aB0o9tM",
        "outputId": "2c9ac881-882e-457c-c36d-c0332da34d8f"
      },
      "execution_count": 41,
      "outputs": [
        {
          "output_type": "execute_result",
          "data": {
            "text/plain": [
              "451.5679149371823"
            ]
          },
          "metadata": {},
          "execution_count": 41
        }
      ]
    },
    {
      "cell_type": "code",
      "source": [
        "## SOLUTION\n",
        "# Optimize heuristically.\n",
        "S_heur = newsvendor_heuristic(network=instance)\n",
        "S_heur"
      ],
      "metadata": {
        "colab": {
          "base_uri": "https://localhost:8080/"
        },
        "id": "fI3-ovlXpOVK",
        "outputId": "f3cbba96-9a42-4696-a981-bcbb05c8eb11"
      },
      "execution_count": 42,
      "outputs": [
        {
          "output_type": "execute_result",
          "data": {
            "text/plain": [
              "{5: 175.83298580667355,\n",
              " 4: 142.8985667640439,\n",
              " 3: 109.59625626575588,\n",
              " 2: 74.45806987058583,\n",
              " 1: 40.58670401687929}"
            ]
          },
          "metadata": {},
          "execution_count": 42
        }
      ]
    },
    {
      "cell_type": "code",
      "source": [
        "## SOLUTION\n",
        "expected_cost(S_heur, network=instance)"
      ],
      "metadata": {
        "colab": {
          "base_uri": "https://localhost:8080/"
        },
        "id": "Z0jUEJtjpTCo",
        "outputId": "ffeaf040-fe11-4448-d93e-88078842932e"
      },
      "execution_count": 43,
      "outputs": [
        {
          "output_type": "execute_result",
          "data": {
            "text/plain": [
              "451.8055803098469"
            ]
          },
          "metadata": {},
          "execution_count": 43
        }
      ]
    },
    {
      "cell_type": "markdown",
      "source": [
        "## 4.4 Serial or Tree GSM Systems\n",
        "\n"
      ],
      "metadata": {
        "id": "VkOGuoHkpoZT"
      }
    },
    {
      "cell_type": "markdown",
      "source": [
        "### 4.4.1 Overview and Assumptions\n",
        "\n",
        "GSM models assume a periodic-review system in which each stage follows a local base-stock policy. In GSM systems, we assume that each stage offers a _committed service time_ (CST) to its customers (which may be downstream stages or external demands) within which it promises to satisfy each order. The CSTs are the decision variables in the optimization model. To ensure that each stage meets its CST, the GSM model assumes that the external demands are bounded. In particular, if the demands in one time period are distributed as $N(\\mu,\\sigma^2)$, then we assume that the total demand in any $\\tau$ time periods is less than or equal to\n",
        "$$D(\\tau) = \\mu\\tau + z_\\alpha\\sigma\\sqrt{\\tau}$$\n",
        "for some constant $\\alpha$. If the demand in a given $\\tau$-period interval exceeds $D(\\tau)$, the excess demands are assumed to be handled outside the system, e.g., by outsourcing.\n",
        "\n",
        "> **Remark:** It is tempting to set $\\alpha$ to something large so that the demand bound is quite loose and the demand model is more accurate. However, as we will see below, the base-stock levels are directly related to $\\alpha$, so setting $\\alpha$ to a large value will also result in unnecessarily large base-stock levels and resulting holding costs. This tension is one of the main disadvantages of the GSM approach.\n",
        "\n",
        "The GSM approach was first discussed by Kimball (1988). Simpson (1958) applied it to serial systems, and Inderfurth (1991) (see also Graves 1988) discussed how to solve it using dynamic programming (DP); this is the basis for the approach implemented in the [`gsm_serial`](https://stockpyl.readthedocs.io/en/latest/api/meio/gsm_serial.html) module. For pure assembly and distribution systems, see Inderfurth (1991), Minner (1997), and Inderfurth and Minner (1998). Graves and Willems (2000) present a DP model for tree systems, that is, networks that have no directed cycles; this is the algorithm implemented in the [`gsm_tree`](https://stockpyl.readthedocs.io/en/latest/api/meio/gsm_tree.html) module. Magnanti, et al. (2006) present a MIP-based model for solving general systems."
      ],
      "metadata": {
        "id": "lC4MCNeopuKs"
      }
    },
    {
      "cell_type": "markdown",
      "source": [
        "### 4.4.2 Serial Systems\n",
        "\n",
        "First consider a serial network indexed $N \\to \\cdots \\to 1$. At each stage $i$, let $T_i$ be the _processing time_ at $i$, representing the number of periods required to perform the activities at the stage. (GSM models use processing times $T$ at the nodes rather than lead times $L$ on the edges.) The $T_i$ are constants. Furthermore, let $S_i$ be the _outbound CST_ that stage $i$ promises its customers, and let $SI_i$ be the _inbound CST_ that stage $i$ receives from its suppliers. Note that the inbound CST at $j$ is simply the outbound CST at its predecessor.\n",
        "\n",
        "\n",
        "Node 1 faces external demand and has a CST of $s_1$; this is a constant, not a decision variable, representing the contract agreed to by the firm and the external customer. Similarly, stage $N$ has a fixed inbound CST $si_N$ from its (external) supplier. The optimization problem finds $S_i$ for $2 \\le i \\le N$.\n",
        "\n",
        "\n",
        "> **Remark:** Unfortunately, the SSM literature has tended to use $S$ to represent a base-stock level, while the GSM literature has tended to use $S$ to represent a CST. We will stay consistent with these two bodies of literature, which means using $S$ in two different ways in Section 4.3 vs. Section 4.4\n",
        "\n",
        "The quantity $SI_i + T_i - S_i$ is called the _net lead time_; it represents the number of periods that stage $i$'s inventory must cover. In particular, if stage $i$ uses a (local) base-stock level of\n",
        "$$y_i = \\mu(SI_i + T_i - S_i) + z_\\alpha\\sigma\\sqrt{SI_i + T_i - S_i}$$\n",
        "then the stage will always be able to meet its CST.\n",
        "\n",
        "> **Remark:** The equation above gives us a one-to-one relationship between the CSTs and the base-stock levels. Although the CSTs are the decision variables in a GSM model, it is usually more intuitive to convert these to base-stock levels for managerial purposes.\n",
        "\n"
      ],
      "metadata": {
        "id": "pzYnAdxGqXrW"
      }
    },
    {
      "cell_type": "markdown",
      "source": [
        "The [`optimize_committed_service_times()`](https://stockpyl.readthedocs.io/en/latest/api/meio/gsm_serial.html#stockpyl.gsm_serial.optimize_committed_service_times) function in the `gsm_serial` module implements the DP by Inderfurth (1991) for serial GSM systems. It has the following signature:\n",
        "```python\n",
        "optimize_committed_service_times(num_nodes=None, local_holding_cost=None,\n",
        "\tprocessing_time=None, demand_bound_constant=None,\n",
        "\texternal_outbound_cst=None, external_inbound_cst=None,\n",
        "\tdemand_mean=None, demand_standard_deviation=None, demand_source=None,\n",
        "\tnetwork=None)\n",
        "```\n",
        "It returns two parameters, `opt_cst` and `opt_cost`.\n",
        "\n",
        "\n",
        "You may specify the network either by its individual parameters (`num_nodes`, `local_holding_cost`, etc.)\\ or in the `network` parameter as a `SupplyChainNetwork`. If you specify individual parameters, the nodes of the network must be indexed $N \\to \\cdots \\to 1$. (If you specify it in the `network` parameter, the nodes may be indexed in any way.) The node-specific parameters (`local_holding_cost`, `processing_time`, and `demand_bound_constant`) may be a dictionary, a list, or a singleton, with the following requirements:\n",
        "* If the parameter is a dictionary, its keys must equal 1,...,`num_nodes`, each corresponding to a node index.\n",
        "* If the parameter is a list, it must have length `num_nodes`; the `n`th entry in the list corresponds to the node with index `n`+1.\n",
        "* If the parameter is a singleton, all nodes will have that parameter set to the singleton value.\n",
        "\n",
        "These requirements are less flexible than those for the `ssm_serial` module (see Section 4.3.1), but you can always build a `SupplyChainNetwork` in whatever way you like, and then pass it in the `network` parameter, which offers full flexibility.\n",
        "\n",
        "You must either pass the `demand_mean` and `demand_parameters`, or pass a [`DemandSource`](https://stockpyl.readthedocs.io/en/latest/api/datatypes/demand_source.html#stockpyl.demand_source.DemandSource) object in the `demand_source` parameter."
      ],
      "metadata": {
        "id": "H1Hk21KgrKMa"
      }
    },
    {
      "cell_type": "markdown",
      "source": [
        "**Example:** _FoSCT_ Example 6.3 is shown below. The numbers below the stages are the processing times $T_i$. The number on the inbound arrow to stage 3 indicates that $si_3=1$, while the outbound number from stage 1 indicates that the fixed CST $s_1 = 1$.  The holding costs at stages 1, 2, and 3 are 7, 4, and 2, respectively, and are noted above each stage.  Finally, $z_\\alpha=\\sigma_i=1$ at all stages.\n",
        "\n",
        "\n",
        "<center><img src=\"https://github.com/LarrySnyder/stockpyl/raw/master/notebooks/images/tutorial_example_6_3.png\" width=\"500\"/></center>\n"
      ],
      "metadata": {
        "id": "W5R9mIvRr6Kq"
      }
    },
    {
      "cell_type": "code",
      "source": [
        "from stockpyl.gsm_serial import optimize_committed_service_times\n",
        "opt_cst, opt_cost = optimize_committed_service_times(\n",
        "    num_nodes=3,\n",
        "    local_holding_cost=[7, 4, 2],\n",
        "    processing_time=[1, 0, 1],\n",
        "    demand_bound_constant=1,\n",
        "    external_outbound_cst=1,\n",
        "    external_inbound_cst=1,\n",
        "    demand_mean=0,\n",
        "    demand_standard_deviation=1\n",
        ")\n",
        "opt_cst"
      ],
      "metadata": {
        "colab": {
          "base_uri": "https://localhost:8080/"
        },
        "id": "Erd61ibLpV0K",
        "outputId": "b00bcba9-5c3d-497e-89f9-2d4622f32a5f"
      },
      "execution_count": 44,
      "outputs": [
        {
          "output_type": "execute_result",
          "data": {
            "text/plain": [
              "{3: 0, 2: 0, 1: 1}"
            ]
          },
          "metadata": {},
          "execution_count": 44
        }
      ]
    },
    {
      "cell_type": "code",
      "source": [
        "opt_cost"
      ],
      "metadata": {
        "colab": {
          "base_uri": "https://localhost:8080/"
        },
        "id": "JA72qSp1srF4",
        "outputId": "946af9a5-1ce3-4364-95f0-57243aa21b6d"
      },
      "execution_count": 45,
      "outputs": [
        {
          "output_type": "execute_result",
          "data": {
            "text/plain": [
              "2.8284271247461903"
            ]
          },
          "metadata": {},
          "execution_count": 45
        }
      ]
    },
    {
      "cell_type": "markdown",
      "source": [
        "Alternatively, we can pass a `SupplyChainNetwork`:"
      ],
      "metadata": {
        "id": "MF3alzS9su6T"
      }
    },
    {
      "cell_type": "code",
      "source": [
        "from stockpyl.supply_chain_network import network_from_edges\n",
        "example_6_3_network = network_from_edges(\n",
        "    edges=[(3, 2), (2, 1)],\n",
        "    node_order_in_lists=[1, 2, 3],\n",
        "    processing_time=[1, 0, 1],\n",
        "    external_inbound_cst=[None, None, 1],\n",
        "    local_holding_cost=[7, 4, 2],\n",
        "    demand_bound_constant=1,\n",
        "    external_outbound_cst=[1, None, None],\n",
        "    demand_type=['N', None, None],\n",
        "    mean=0,\n",
        "    standard_deviation=[1, 0, 0]\n",
        "\t)\n",
        "optimize_committed_service_times(network=example_6_3_network)"
      ],
      "metadata": {
        "colab": {
          "base_uri": "https://localhost:8080/"
        },
        "id": "iNp395SossdL",
        "outputId": "0262bc80-8cb3-4070-d1aa-e69a27392391"
      },
      "execution_count": 46,
      "outputs": [
        {
          "output_type": "execute_result",
          "data": {
            "text/plain": [
              "({3: 0, 2: 0, 1: 1}, 2.8284271247461903)"
            ]
          },
          "metadata": {},
          "execution_count": 46
        }
      ]
    },
    {
      "cell_type": "markdown",
      "source": [
        "Or load the instance directly:"
      ],
      "metadata": {
        "id": "rfKMTP6Us2_O"
      }
    },
    {
      "cell_type": "code",
      "source": [
        "optimize_committed_service_times(network=load_instance(\"example_6_3\"))"
      ],
      "metadata": {
        "colab": {
          "base_uri": "https://localhost:8080/"
        },
        "id": "wd-KoivOs0TA",
        "outputId": "5b298a0c-910f-494a-b063-f7f21df6b3e5"
      },
      "execution_count": 47,
      "outputs": [
        {
          "output_type": "execute_result",
          "data": {
            "text/plain": [
              "({3: 0, 2: 0, 1: 1}, 2.8284271247461903)"
            ]
          },
          "metadata": {},
          "execution_count": 47
        }
      ]
    },
    {
      "cell_type": "markdown",
      "source": [
        "**Exercise:** Consider a 3-stage serial system indexed $3\\to 2\\to 1$. The processing times at stages 1, 2, and 3 are 3, 8, and 2, respectively. There is an external inbound CST of $si_3=4$ and an external outbound CST of $s_1=2$. The holding costs at stages 1, 2, and 3 are 40, 30, and 10, respectively. The demand bound uses $z_\\alpha=2$ at all stages. The demand standard deviation is $\\sigma=10$. Optimize this system."
      ],
      "metadata": {
        "id": "coPGJo9Ls_V6"
      }
    },
    {
      "cell_type": "code",
      "source": [
        "## SOLUTION\n",
        "opt_cst, opt_cost = optimize_committed_service_times(\n",
        "    num_nodes=3,\n",
        "    local_holding_cost=[40, 30, 10],\n",
        "    processing_time=[3, 8, 2],\n",
        "    demand_bound_constant=2,\n",
        "    external_outbound_cst=2,\n",
        "    external_inbound_cst=4,\n",
        "    demand_mean=0,\n",
        "    demand_standard_deviation=10\n",
        ")\n",
        "opt_cst"
      ],
      "metadata": {
        "colab": {
          "base_uri": "https://localhost:8080/"
        },
        "id": "v5V21Hv6s6J8",
        "outputId": "2e4c8a2d-0fe3-4f16-8f99-8f604e7a4578"
      },
      "execution_count": 50,
      "outputs": [
        {
          "output_type": "execute_result",
          "data": {
            "text/plain": [
              "{3: 0, 2: 8, 1: 2}"
            ]
          },
          "metadata": {},
          "execution_count": 50
        }
      ]
    },
    {
      "cell_type": "code",
      "source": [
        "## SOLUTION\n",
        "opt_cost"
      ],
      "metadata": {
        "colab": {
          "base_uri": "https://localhost:8080/"
        },
        "id": "KCbgJQZSuUPs",
        "outputId": "66a3b494-ea20-4e45-afad-12ea299894f7"
      },
      "execution_count": 52,
      "outputs": [
        {
          "output_type": "execute_result",
          "data": {
            "text/plain": [
              "2889.8979485566356"
            ]
          },
          "metadata": {},
          "execution_count": 52
        }
      ]
    },
    {
      "cell_type": "markdown",
      "source": [
        "### 4.4.3 Tree Systems\n",
        "\n",
        "Now consider a tree system, i.e., a network with no directed cycles. Let $A$ be the set of arcs (edges) in the network. The network may have multiple demand stages (stages that face external demand); each faces $N(\\mu_i,\\sigma_i^2)$ demand per period and has a fixed outbound CST of $s_i$. Similarly, it may have multiple supply stages (stages that receive external supply); each has a fixed inbound CST of $si_i$.\n",
        "\n",
        "Stages that are not demand stages see demand that is derived from their successor stages. The resulting demand is normally distributed with mean and standard deviation\n",
        "\t\\begin{align}\n",
        "\t\t\\mu_i & = \\sum_{(i,j)\\in A} \\mu_j \\\\\n",
        "\t\t\\sigma_i & = \\sqrt{\\sum_{(i,j)\\in A} \\sigma_j^2}.\n",
        "\t\\end{align}\n",
        "If stage $i$ has more than one successor, we assume that it quotes the same CST to each of them. If stage $i$ has more than one predecessor, then\n",
        "$$SI_i = \\max_{(j,i)\\in A} \\{S_j\\},$$\n",
        "since stage $i$ requires all predecessor units to be present before it begins processing.\n",
        "\n",
        "The relationship between the CSTs and the base-stock levels is the same as in the serial case.\n",
        "The [`optimize_committed_service_times()`](https://stockpyl.readthedocs.io/en/latest/api/meio/gsm_tree.html#stockpyl.gsm_tree.optimize_committed_service_times) function in the `gsm_tree` module implements the DP by Graves and Willems (2000) for tree GSM systems. This DP is considerably more complicated than the one for serial systems, so we omit a detailed discussion here.\n",
        "\n",
        "The `optimize_committed_service_times()` has the following signature:\n",
        "```python\n",
        "optimize_committed_service_times(tree)\n",
        "```\n",
        "It returns two parameters, `opt_cst` and `opt_cost`. This function does not allow you to specify the instance as individual parameters; instead, you must provide a `SupplyChainNetwork` object in the `tree` parameter."
      ],
      "metadata": {
        "id": "4y9zOv6zu4C-"
      }
    },
    {
      "cell_type": "markdown",
      "source": [
        "**Example:** The 4-node system shown below is from Example 6.5 in _FoSCT_.  The numbers below the stages are the processing times $T_i$.  The number on the inbound arrow to stage 1 indicates that $si_1=1$, while the outbound numbers from stages 2 and 4 indicate the fixed CSTs $s_i$.  The holding costs are noted above each stage and are equal to 1 at stage 1, 2 at stage 3, and 3 at stages 2 and 4.  At all stages, $z_\\alpha=1$ and $\\sigma_2=\\sigma_4=1$; then $\\sigma_1=\\sigma_3=\\sqrt{2}$. The following code snippet solves this instance:\n",
        "\n",
        "<center><img src=\"https://github.com/LarrySnyder/stockpyl/raw/master/notebooks/images/tutorial_example_6_5.png\" width=\"500\"/></center>"
      ],
      "metadata": {
        "id": "oArHzEswvjJH"
      }
    },
    {
      "cell_type": "code",
      "source": [
        "from stockpyl.gsm_tree import optimize_committed_service_times\n",
        "example_6_5_network = network_from_edges(\n",
        "    edges=[(1, 3), (3, 2), (3, 4)],\n",
        "    node_order_in_lists=[1, 2, 3, 4],\n",
        "    processing_time=[2, 1, 1, 1],\n",
        "    external_inbound_cst=[1, None, None, None],\n",
        "    local_holding_cost=[1, 3, 2, 3],\n",
        "    demand_bound_constant=[1, 1, 1, 1],\n",
        "    external_outbound_cst=[None, 0, None, 1],\n",
        "    demand_type=[None, 'N', None, 'N'],\n",
        "    mean=0,\n",
        "    standard_deviation=[None, 1, None, 1]\n",
        "\t)\n",
        "opt_cst, opt_cost = optimize_committed_service_times(tree=example_6_5_network)\n",
        "opt_cst\n"
      ],
      "metadata": {
        "colab": {
          "base_uri": "https://localhost:8080/"
        },
        "id": "rp1jTxQHu0gS",
        "outputId": "fb86bb51-ba7c-436c-d18e-cf18d4f1038f"
      },
      "execution_count": 54,
      "outputs": [
        {
          "output_type": "execute_result",
          "data": {
            "text/plain": [
              "{1: 0, 3: 0, 2: 0, 4: 1}"
            ]
          },
          "metadata": {},
          "execution_count": 54
        }
      ]
    },
    {
      "cell_type": "code",
      "source": [
        "opt_cost"
      ],
      "metadata": {
        "colab": {
          "base_uri": "https://localhost:8080/"
        },
        "id": "PXg20mm5v8wi",
        "outputId": "13d6fbea-4210-4ceb-f075-735894993807"
      },
      "execution_count": 55,
      "outputs": [
        {
          "output_type": "execute_result",
          "data": {
            "text/plain": [
              "8.277916867529369"
            ]
          },
          "metadata": {},
          "execution_count": 55
        }
      ]
    },
    {
      "cell_type": "markdown",
      "source": [
        "Example 6.5 is a built-in instance in Stockpyl, so it can be loaded directly instead:\n"
      ],
      "metadata": {
        "id": "afa7SyojwDtJ"
      }
    },
    {
      "cell_type": "code",
      "source": [
        "optimize_committed_service_times(tree=load_instance(\"example_6_5\"))"
      ],
      "metadata": {
        "colab": {
          "base_uri": "https://localhost:8080/"
        },
        "id": "C0QN1D8dwBk8",
        "outputId": "ce04b392-02cc-4b18-f804-876615e007c4"
      },
      "execution_count": 56,
      "outputs": [
        {
          "output_type": "execute_result",
          "data": {
            "text/plain": [
              "({1: 0, 3: 0, 2: 0, 4: 1}, 8.277916867529369)"
            ]
          },
          "metadata": {},
          "execution_count": 56
        }
      ]
    },
    {
      "cell_type": "markdown",
      "source": [
        "---\n",
        "**Exercise:** Solve the instance pictured below (_FoSCT_ Problem 6.9).\n",
        "\n",
        "<center><img src=\"https://github.com/LarrySnyder/stockpyl/raw/master/notebooks/images/tutorial_problem_6_9.png\" width=\"500\"/></center>"
      ],
      "metadata": {
        "id": "T5MavvMbwdCA"
      }
    },
    {
      "cell_type": "code",
      "source": [
        "## SOLUTION\n",
        "optimize_committed_service_times(tree=load_instance(\"problem_6_9\"))"
      ],
      "metadata": {
        "colab": {
          "base_uri": "https://localhost:8080/"
        },
        "id": "PIAQLG_YwGnD",
        "outputId": "efe4bb35-e252-4d98-c41c-3d182101c96d"
      },
      "execution_count": 57,
      "outputs": [
        {
          "output_type": "execute_result",
          "data": {
            "text/plain": [
              "({1: 3, 2: 3, 3: 0, 4: 0, 5: 0, 6: 2}, 15.649530249501026)"
            ]
          },
          "metadata": {},
          "execution_count": 57
        }
      ]
    },
    {
      "cell_type": "markdown",
      "source": [
        "## 4.5 General MEIO Systems\n",
        "\n",
        "For MEIO systems with arbitrarily topology (not necessarily serial or tree systems), the [`meio_general`](https://stockpyl.readthedocs.io/en/latest/api/meio/meio_general.html#module-stockpyl.meio_general) module can optimize base-stock levels approximately using relatively brute-force approaches—either coordinate descent or enumeration. These heuristics tend to be quite slow and not particularly accurate, but they are sometimes the best methods available for complex systems that are not well solved in the literature.\n",
        "\n",
        "For both approaches, you may provide an objective function that will be used to evaluate each candidate solution, or you may omit the objective function and the algorithm will evaluate solutions using simulation. Obviously, evaluating using simulation is typically much slower than using an objective function. (See the [`online documentation`](https://stockpyl.readthedocs.io/en/latest/tutorial/tutorial_sim.html) for more information about Stockpyl's simulation features.)\n",
        "\n",
        "Both approaches assume that each stage follows a base-stock policy, and they attempt to optimize the base-stock levels. (Future versions of Stockpyl may allow a wider range of policies.) Both functions use local, not echelon, costs and base-stock levels.\n",
        "\n",
        "The [`meio_by_enumeration()`](https://stockpyl.readthedocs.io/en/latest/api/meio/meio_general.html#stockpyl.meio_general.meio_by_enumeration) function  optimizes an MEIO instance by enumerating combinations of values of the base-stock levels. It has signature\n",
        "```python\n",
        "meio_by_enumeration(network, base_stock_levels=None, truncation_lo=None,\n",
        "\ttruncation_hi=None, discretization_step=None, discretization_num=None,\n",
        "\tgroups=None, objective_function=None, sim_num_trials=10,\n",
        "\tsim_num_periods=1000, sim_rand_seed=None, progress_bar=True,\n",
        "\tprint_solutions=False)\n",
        "```\n",
        "and returns two parameters, `best_S` (the best base-stock levels found) and `best_cost` (the corresponding expected cost).\n",
        "\n",
        "The function provides several ways to control how the enumeration is performed, via optional input parameters. In particular:\n",
        "\n",
        "* `base_stock_levels` is a dictionary indicating, for each node index, the base-stock levels to test in the enumeration.\n",
        "* `truncation_lo` and `truncation_hi` indicate the low and high ends of the truncation range for base-stock levels to test for each node. You can specify either a singleton (in which case every node uses the same value) or a dictionary whose keys are the node indices.\n",
        "* `discretization_step` indicates the interval width to use for discretizing the base-stock levels to test for each node. The `discretization_num` parameter indicates how many intervals to use. Only one should be provided. Either can be a dictionary or singleton.\n",
        "* `groups` is a list of sets, each of which contains indices of nodes that should have the same base-stock level. This speeds the optimization since the base-stock levels for the nodes in a given group do not have to be optimized individually. Any nodes not contained in any set in the list are optimized individually.\n",
        "* `objective_function` is the function to use to evaluate a given solution. The function must take a single argument, the dictionary of base-stock levels, and return a single output, the expected cost per period. If this parameter is omitted, simulation will be used instead to evaluate solutions.\n",
        "* `sim_num_trials`, `sim_num_periods`, and `sim_rand_seed` can be used to customize the simulation used to evaluate solutions.\n",
        "* `progress_bar` specifies whether a progress bar is displayed during the search.\n",
        "* `print_solutions` specifies whether to display each solution and its cost during the search.\n",
        "\n"
      ],
      "metadata": {
        "id": "WtBbfuhdwz1I"
      }
    },
    {
      "cell_type": "markdown",
      "source": [
        "**Example:** In the code snippet below, we solve the 3-node serial SSM system in Example 6.1 from _FoSCT_ using enumeration. We specify upper and lower bounds on the base-stock levels to test for each node and evaluate each candidate set of base-stock levels using simulation (3 trials, 100 periods per trial—a very coarse approximation since the simulation runs are very small)."
      ],
      "metadata": {
        "id": "Mmjh-yfVxdwC"
      }
    },
    {
      "cell_type": "code",
      "source": [
        "from stockpyl.meio_general import meio_by_enumeration\n",
        "example_6_1_network = load_instance(\"example_6_1\")\n",
        "best_S, best_cost = meio_by_enumeration(\n",
        "    network=example_6_1_network,\n",
        "    truncation_lo={1: 5, 2: 4, 3: 10},\n",
        "    truncation_hi={1: 7, 2: 7, 3: 12},\n",
        "    sim_num_trials=3,\n",
        "    sim_num_periods=100,\n",
        "    sim_rand_seed=42\n",
        "\t)\n",
        "best_S"
      ],
      "metadata": {
        "colab": {
          "base_uri": "https://localhost:8080/"
        },
        "id": "fhkoFTCtwt1L",
        "outputId": "fa71decd-809d-4490-9c54-96e8cef3c10b"
      },
      "execution_count": 58,
      "outputs": [
        {
          "output_type": "stream",
          "name": "stderr",
          "text": [
            "100%|██████████| 36/36 [00:11<00:00,  3.18it/s]\n"
          ]
        },
        {
          "output_type": "execute_result",
          "data": {
            "text/plain": [
              "{3: 11, 2: 5, 1: 7}"
            ]
          },
          "metadata": {},
          "execution_count": 58
        }
      ]
    },
    {
      "cell_type": "code",
      "source": [
        "best_cost"
      ],
      "metadata": {
        "colab": {
          "base_uri": "https://localhost:8080/"
        },
        "id": "a_RIgAHCxmZy",
        "outputId": "51343ffb-94a5-4091-8751-bb4f2d1beafb"
      },
      "execution_count": 59,
      "outputs": [
        {
          "output_type": "execute_result",
          "data": {
            "text/plain": [
              "47.99409584298761"
            ]
          },
          "metadata": {},
          "execution_count": 59
        }
      ]
    },
    {
      "cell_type": "markdown",
      "source": [
        "Recall that the optimal local base-stock levels are 6.51, 5.50, and 10.69 (converting from the echelon base-stock levels in Section 4.3.1), with optimal cost 47.69. Therefore, the solution found by enumeration is quite good—it is only 0.7\\% worse than optimal. On the other hand, we stacked the deck by giving the function a pretty narrow range of base-stock levels to test. For a fairer experiment, we would test a broader range of base-stock levels, but then the execution would be even slower.\n",
        "\n",
        "Alternatively, we can provide an objective function. This is more accurate and faster than evaluating solutions using simulation, but if the objective function must be evaluated numerically (as it does for serial SSM systems), speed and accuracy are still non-trivial issues to consider. In the code below, we first define an objective function using a Python lambda function; it evaluates each solution by first converting the local base-stock levels to echelon and then passing them to the `expected_cost()` function for serial SSM systems, which requires echelon base-stock levels as inputs. The discretization settings used below (`x_num`=100, `d_num`=10) are relatively coarse, producing inaccurate solutions but fairly quickly.\n"
      ],
      "metadata": {
        "id": "e5qVK8IJxrDG"
      }
    },
    {
      "cell_type": "code",
      "source": [
        "from stockpyl.ssm_serial import expected_cost\n",
        "from stockpyl.supply_chain_network import local_to_echelon_base_stock_levels\n",
        "obj_fcn = lambda S: expected_cost(local_to_echelon_base_stock_levels(\n",
        "\t\texample_6_1_network, S), network=example_6_1_network, x_num=100, d_num=10\n",
        "\t)\n",
        "best_S, best_cost = meio_by_enumeration(\n",
        "    network=example_6_1_network,\n",
        "    truncation_lo={1: 5, 2: 4, 3: 10},\n",
        "    truncation_hi={1: 7, 2: 7, 3: 12},\n",
        "    objective_function=obj_fcn\n",
        "\t)\n",
        "best_S"
      ],
      "metadata": {
        "colab": {
          "base_uri": "https://localhost:8080/"
        },
        "id": "99iixLdtxn8K",
        "outputId": "eecf3b78-c09e-47c2-9c8d-b839900a1a33"
      },
      "execution_count": 60,
      "outputs": [
        {
          "output_type": "stream",
          "name": "stderr",
          "text": [
            "100%|██████████| 36/36 [00:05<00:00,  6.47it/s]\n"
          ]
        },
        {
          "output_type": "execute_result",
          "data": {
            "text/plain": [
              "{3: 11, 2: 5, 1: 7}"
            ]
          },
          "metadata": {},
          "execution_count": 60
        }
      ]
    },
    {
      "cell_type": "code",
      "source": [
        "best_cost"
      ],
      "metadata": {
        "colab": {
          "base_uri": "https://localhost:8080/"
        },
        "id": "QLtj1Jc6yBiQ",
        "outputId": "6d11a921-02cc-4dee-d447-ba9addec8374"
      },
      "execution_count": 61,
      "outputs": [
        {
          "output_type": "execute_result",
          "data": {
            "text/plain": [
              "48.21449789525488"
            ]
          },
          "metadata": {},
          "execution_count": 61
        }
      ]
    },
    {
      "cell_type": "markdown",
      "source": [
        "The [`meio_by_coordinate_descent()`](https://stockpyl.readthedocs.io/en/latest/api/meio/meio_general.html#stockpyl.meio_general.meio_by_coordinate_descent) function optimizes (approximately) using coordinate descent. In principle, coordinate descent will find the globally optimal solution if the objective function is jointly convex in the base-stock levels, but if solutions are evaluated using simulation, then there are no guarantees. Like enumeration, coordination can be quite slow and not particularly accurate.\n",
        "\n",
        "The function's signature is\n",
        "```python\n",
        "meio_by_coordinate_descent(network, initial_solution=None,\n",
        "\tsearch_lo=None, search_hi=None, groups=None, objective_function=None,\n",
        "\tsim_num_trials=10, sim_num_periods=1000, sim_rand_seed=None, tol=1e-2,\n",
        "\tline_search_tol=1e-4, verbose=False)\n",
        "```\n",
        "It returns two parameters, `best_S` and `best_cost`. The optional input parameters give you control over how the search is performed. Several are identical to those for `meio_by_enumeration()` (see above). Others include:\n",
        "* `initial_solution` is the starting solution for the coordinate descent search, specified as a dictionary whose keys are node indices and whose values are base-stock levels. If omitted, the initial solution will be set automatically.\n",
        "* `search_lo` and `search_hi`  indicate the low and high ends of the search range for the base-stock levels at each node. You can specify either a singleton (in which case every node uses the same value) or a dictionary whose keys are the node indices.\n",
        "* `tol` is a tolerance; the algorithm terminates when an iteration fails to improve the objective function by more than `tol`.\n",
        "* `line_search_tol` is a tolerance to use for the line search (golden section search) component of the coordinate descent algorithm.\n",
        "* `verbose` indicates whether messages should be displayed at each iteration.\n"
      ],
      "metadata": {
        "id": "pxs6jupdyHoc"
      }
    },
    {
      "cell_type": "markdown",
      "source": [
        "**Example:** In the following code snippets, we again solve _FoSCT_ Example 6.1, this time using coordinate descent. First, we use simulation.\n",
        "\n",
        "(_Note:_ These functions are relatively slow. Please be patient!)"
      ],
      "metadata": {
        "id": "jUKeAcR0ycLs"
      }
    },
    {
      "cell_type": "code",
      "source": [
        "from stockpyl.meio_general import meio_by_coordinate_descent\n",
        "from stockpyl.ssm_serial import expected_cost\n",
        "from stockpyl.supply_chain_network import local_to_echelon_base_stock_levels\n",
        "best_S, best_cost = meio_by_coordinate_descent(\n",
        "    network=example_6_1_network,\n",
        "    search_lo={1: 5, 2: 4, 3: 10},\n",
        "    search_hi={1: 7, 2: 7, 3: 12},\n",
        "    sim_num_trials=3,\n",
        "    sim_num_periods=100,\n",
        "    sim_rand_seed=762\n",
        "\t)\n",
        "best_S"
      ],
      "metadata": {
        "colab": {
          "base_uri": "https://localhost:8080/"
        },
        "id": "tl1DOE5nyEju",
        "outputId": "c3578367-9218-4a98-dd1c-559d04e6bad8"
      },
      "execution_count": 62,
      "outputs": [
        {
          "output_type": "execute_result",
          "data": {
            "text/plain": [
              "{3: 10.00004085634901, 2: 5.818278530757848, 1: 6.516684268315169}"
            ]
          },
          "metadata": {},
          "execution_count": 62
        }
      ]
    },
    {
      "cell_type": "code",
      "source": [
        "best_cost"
      ],
      "metadata": {
        "colab": {
          "base_uri": "https://localhost:8080/"
        },
        "id": "Es-xi0DMyjPX",
        "outputId": "9841336e-d766-433e-dc5d-479a4c6c9988"
      },
      "execution_count": 63,
      "outputs": [
        {
          "output_type": "execute_result",
          "data": {
            "text/plain": [
              "46.90498842606734"
            ]
          },
          "metadata": {},
          "execution_count": 63
        }
      ]
    },
    {
      "cell_type": "markdown",
      "source": [
        "This time we provide an objective function:"
      ],
      "metadata": {
        "id": "QmmuM49wysrm"
      }
    },
    {
      "cell_type": "code",
      "source": [
        "obj_fcn = lambda S: expected_cost(local_to_echelon_base_stock_levels(\n",
        "\texample_6_1_network, S), network=example_6_1_network, x_num=20, d_num=10\n",
        ")\n",
        "best_S, best_cost = meio_by_coordinate_descent(\n",
        "    example_6_1_network,\n",
        "    search_lo={1: 5, 2: 4, 3: 10},\n",
        "    search_hi={1: 7, 2: 7, 3: 12},\n",
        "    objective_function=obj_fcn\n",
        ")\n",
        "best_S"
      ],
      "metadata": {
        "colab": {
          "base_uri": "https://localhost:8080/"
        },
        "id": "uD5iwvlBywNG",
        "outputId": "675059b1-cf88-4943-d531-74d6eeb93c83"
      },
      "execution_count": 64,
      "outputs": [
        {
          "output_type": "execute_result",
          "data": {
            "text/plain": [
              "{3: 10.995764600780891, 2: 6.887792096395302, 1: 6.004184897994424}"
            ]
          },
          "metadata": {},
          "execution_count": 64
        }
      ]
    },
    {
      "cell_type": "code",
      "source": [
        "best_cost"
      ],
      "metadata": {
        "colab": {
          "base_uri": "https://localhost:8080/"
        },
        "id": "ou5uVPbgyzr5",
        "outputId": "6e3c6a17-a1f9-455e-9030-502c52b768d7"
      },
      "execution_count": 65,
      "outputs": [
        {
          "output_type": "execute_result",
          "data": {
            "text/plain": [
              "62.33491040676202"
            ]
          },
          "metadata": {},
          "execution_count": 65
        }
      ]
    },
    {
      "cell_type": "markdown",
      "source": [
        "---\n",
        "**Exercise:** Consider a 2-node serial system ($2\\to 1$) in which $p=15$, $L_1=L_2=1$, $h_1=h_2=1$, and the demand per unit time is distributed as $N(100,15^2)$ (_FoSCT_ Problem 6.1). Solve this instance in three ways:\n",
        "\n",
        "* exactly, using `optimize_base_stock_levels()`\n",
        "* approximately, using `meio_by_enumeration()` (either using simulation or providing an objective function)\n",
        "* approximately, using `meio_by_coordinate_descent()` (either using simulation or providing an objective function)\n",
        "\n",
        "Use the optimal solution to give the two approximate methods very tight bounds for the base-stock levels to search—it's cheating, but if you don't do it, you'll be waiting forever!\n",
        "\n",
        "Compare the costs of the three solutions found. (_Note:_ `optimize_base_stock_levels()` and `expected_cost()` use echelon base-stock levels. `meio_by_enumeration()` and `meio_by_coordinate_descent()` return local base-stock levels.)\n",
        "\n"
      ],
      "metadata": {
        "id": "88BMcu-SzDQu"
      }
    },
    {
      "cell_type": "code",
      "source": [
        "## SOLUTION\n",
        "# Build the network.\n",
        "network=load_instance(\"problem_6_1\")\n",
        "# Solve exactly.\n",
        "S_star, C_star = optimize_base_stock_levels(network=network)\n",
        "S_star, C_star"
      ],
      "metadata": {
        "colab": {
          "base_uri": "https://localhost:8080/"
        },
        "id": "6QnAP8cby014",
        "outputId": "80d459a2-9ed4-4008-bcd2-124d89f32687"
      },
      "execution_count": 69,
      "outputs": [
        {
          "output_type": "execute_result",
          "data": {
            "text/plain": [
              "({2: 228.6691776877484, 1: 123.70746751331217}, 166.2322961200302)"
            ]
          },
          "metadata": {},
          "execution_count": 69
        }
      ]
    },
    {
      "cell_type": "code",
      "source": [
        "## SOLUTION\n",
        "# Convert to local base-stock levels.\n",
        "echelon_to_local_base_stock_levels(network, S_star)"
      ],
      "metadata": {
        "colab": {
          "base_uri": "https://localhost:8080/"
        },
        "id": "fh5k5UrS157x",
        "outputId": "4ab61170-9cda-4aa1-d4d1-b1c870754c38"
      },
      "execution_count": 78,
      "outputs": [
        {
          "output_type": "execute_result",
          "data": {
            "text/plain": [
              "{2: 104.96171017443623, 1: 123.70746751331217}"
            ]
          },
          "metadata": {},
          "execution_count": 78
        }
      ]
    },
    {
      "cell_type": "code",
      "source": [
        "## SOLUTION\n",
        "# Solve using enumeration.\n",
        "best_S_enum, best_cost_enum = meio_by_enumeration(\n",
        "    network=network,\n",
        "    truncation_lo={1: 120, 2: 100},\n",
        "    truncation_hi={1: 125, 2: 110},\n",
        "    sim_num_trials=3,\n",
        "    sim_num_periods=100,\n",
        "    sim_rand_seed=42\n",
        "\t)\n",
        "best_S_enum"
      ],
      "metadata": {
        "colab": {
          "base_uri": "https://localhost:8080/"
        },
        "id": "IWxmLjCE0GIL",
        "outputId": "c717a90f-9006-42a6-aa00-723dacd65739"
      },
      "execution_count": 79,
      "outputs": [
        {
          "output_type": "stream",
          "name": "stderr",
          "text": [
            "100%|██████████| 66/66 [00:09<00:00,  7.19it/s]\n"
          ]
        },
        {
          "output_type": "execute_result",
          "data": {
            "text/plain": [
              "{2: 106, 1: 124}"
            ]
          },
          "metadata": {},
          "execution_count": 79
        }
      ]
    },
    {
      "cell_type": "code",
      "source": [
        "## SOLUTION\n",
        "expected_cost(local_to_echelon_base_stock_levels(network, best_S_enum), network=network)"
      ],
      "metadata": {
        "colab": {
          "base_uri": "https://localhost:8080/"
        },
        "id": "CNI_nTXq0h1Z",
        "outputId": "efb16442-3b7b-4562-96bb-f0ae83e6b7e8"
      },
      "execution_count": 80,
      "outputs": [
        {
          "output_type": "execute_result",
          "data": {
            "text/plain": [
              "166.36789622271175"
            ]
          },
          "metadata": {},
          "execution_count": 80
        }
      ]
    },
    {
      "cell_type": "code",
      "source": [
        "## SOLUTION\n",
        "# Solve using coordinate descent.\n",
        "best_S_cd, best_cost_cd = meio_by_coordinate_descent(\n",
        "    network=network,\n",
        "    search_lo={1: 120, 2: 100},\n",
        "    search_hi={1: 125, 2: 110},\n",
        "    sim_num_trials=3,\n",
        "    sim_num_periods=100,\n",
        "    sim_rand_seed=762\n",
        "\t)\n",
        "best_S_cd"
      ],
      "metadata": {
        "colab": {
          "base_uri": "https://localhost:8080/"
        },
        "id": "y0h4EOxM0wQs",
        "outputId": "8c709532-672f-40a1-edcc-238a2ae9e678"
      },
      "execution_count": 84,
      "outputs": [
        {
          "output_type": "execute_result",
          "data": {
            "text/plain": [
              "{2: 102.27611646375085, 1: 123.58759475268724}"
            ]
          },
          "metadata": {},
          "execution_count": 84
        }
      ]
    },
    {
      "cell_type": "code",
      "source": [
        "## SOLUTION\n",
        "expected_cost(local_to_echelon_base_stock_levels(network, best_S_cd), network=network)"
      ],
      "metadata": {
        "colab": {
          "base_uri": "https://localhost:8080/"
        },
        "id": "rGnVtkpX1dOa",
        "outputId": "7e855f9c-baae-4986-c786-999f365e86fa"
      },
      "execution_count": 85,
      "outputs": [
        {
          "output_type": "execute_result",
          "data": {
            "text/plain": [
              "166.57406998070135"
            ]
          },
          "metadata": {},
          "execution_count": 85
        }
      ]
    }
  ]
}